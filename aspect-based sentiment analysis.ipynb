{
  "nbformat": 4,
  "nbformat_minor": 0,
  "metadata": {
    "colab": {
      "provenance": [],
      "toc_visible": true,
      "collapsed_sections": [
        "PMA28Sb-oYKF",
        "ubTudEcPqQCO"
      ]
    },
    "kernelspec": {
      "name": "python3",
      "display_name": "Python 3"
    },
    "language_info": {
      "name": "python"
    },
    "gpuClass": "standard"
  },
  "cells": [
    {
      "cell_type": "markdown",
      "source": [
        "## Import Libraries and Packages"
      ],
      "metadata": {
        "id": "bPYzCnjMt5s8"
      }
    },
    {
      "cell_type": "code",
      "source": [
        "# !pip install surprise"
      ],
      "metadata": {
        "id": "EZL5lYBww7s_",
        "colab": {
          "base_uri": "https://localhost:8080/"
        },
        "outputId": "36a552d0-9e77-4616-9e25-20b00aa5c6a5"
      },
      "execution_count": null,
      "outputs": [
        {
          "output_type": "stream",
          "name": "stdout",
          "text": [
            "Looking in indexes: https://pypi.org/simple, https://us-python.pkg.dev/colab-wheels/public/simple/\n",
            "Collecting surprise\n",
            "  Downloading surprise-0.1-py2.py3-none-any.whl (1.8 kB)\n",
            "Collecting scikit-surprise\n",
            "  Downloading scikit-surprise-1.1.3.tar.gz (771 kB)\n",
            "\u001b[K     |████████████████████████████████| 771 kB 13.4 MB/s \n",
            "\u001b[?25hRequirement already satisfied: joblib>=1.0.0 in /usr/local/lib/python3.8/dist-packages (from scikit-surprise->surprise) (1.2.0)\n",
            "Requirement already satisfied: numpy>=1.17.3 in /usr/local/lib/python3.8/dist-packages (from scikit-surprise->surprise) (1.21.6)\n",
            "Requirement already satisfied: scipy>=1.3.2 in /usr/local/lib/python3.8/dist-packages (from scikit-surprise->surprise) (1.7.3)\n",
            "Building wheels for collected packages: scikit-surprise\n",
            "  Building wheel for scikit-surprise (setup.py) ... \u001b[?25l\u001b[?25hdone\n",
            "  Created wheel for scikit-surprise: filename=scikit_surprise-1.1.3-cp38-cp38-linux_x86_64.whl size=2626532 sha256=008d52c6b52cec083dc2c49abd807b0a013eec2ba45b08ee450eadd6c2d61549\n",
            "  Stored in directory: /root/.cache/pip/wheels/af/db/86/2c18183a80ba05da35bf0fb7417aac5cddbd93bcb1b92fd3ea\n",
            "Successfully built scikit-surprise\n",
            "Installing collected packages: scikit-surprise, surprise\n",
            "Successfully installed scikit-surprise-1.1.3 surprise-0.1\n"
          ]
        }
      ]
    },
    {
      "cell_type": "code",
      "source": [
        "%matplotlib inline\n",
        "\n",
        "from pathlib import Path\n",
        "import pandas as pd\n",
        "import numpy as np\n",
        "from pandas.core.indexes.extension import Index\n",
        "\n",
        "import pandas as pd\n",
        "import numpy as np\n",
        "import matplotlib.pyplot as plt\n",
        "import seaborn as sns\n",
        "from scipy import stats\n",
        "from ast import literal_eval\n",
        "from sklearn.feature_extraction.text import TfidfVectorizer, CountVectorizer\n",
        "from sklearn.metrics.pairwise import linear_kernel, cosine_similarity\n",
        "from nltk.stem.snowball import SnowballStemmer\n",
        "from nltk.stem.wordnet import WordNetLemmatizer\n",
        "from nltk.corpus import wordnet\n",
        "\n",
        "import warnings; warnings.simplefilter('ignore')\n",
        "\n",
        "from sklearn.preprocessing import minmax_scale\n",
        "import plotly.express as px\n",
        "\n",
        "from sklearn.model_selection import train_test_split\n",
        "from sklearn.preprocessing import OneHotEncoder\n",
        "from copy import deepcopy\n",
        "import joblib\n",
        "from sklearn.pipeline import Pipeline\n",
        "\n",
        "import lightgbm as lgb\n",
        "import math\n",
        "from sklearn.metrics import mean_squared_error\n",
        "\n",
        "import warnings\n",
        "warnings.simplefilter(action='ignore', category=FutureWarning)\n",
        "\n",
        "# import shap"
      ],
      "metadata": {
        "id": "eQjpBZ6mZKNJ"
      },
      "execution_count": 1,
      "outputs": []
    },
    {
      "cell_type": "code",
      "source": [
        "pd.set_option('display.max_columns', None)"
      ],
      "metadata": {
        "id": "8eHqS0rCZKEp"
      },
      "execution_count": 2,
      "outputs": []
    },
    {
      "cell_type": "markdown",
      "metadata": {
        "id": "k8ZeAkqzBG1a"
      },
      "source": [
        "# Connecting to colab"
      ]
    },
    {
      "cell_type": "code",
      "execution_count": 3,
      "metadata": {
        "colab": {
          "base_uri": "https://localhost:8080/"
        },
        "id": "yvigGZdBFn7q",
        "outputId": "fed18fe2-c52f-47de-cb68-26c3494d6f3c"
      },
      "outputs": [
        {
          "output_type": "stream",
          "name": "stdout",
          "text": [
            "Running on CoLab\n"
          ]
        }
      ],
      "source": [
        "if 'google.colab' in str(get_ipython()):\n",
        "  print('Running on CoLab')\n",
        "else:\n",
        "  print('Not running on CoLab')"
      ]
    },
    {
      "cell_type": "markdown",
      "metadata": {
        "id": "Sag4XfvuBN3g"
      },
      "source": [
        "## Mounting to google drive"
      ]
    },
    {
      "cell_type": "code",
      "execution_count": 4,
      "metadata": {
        "colab": {
          "base_uri": "https://localhost:8080/"
        },
        "id": "SFqtOyUfF0Al",
        "outputId": "d78a1f45-2407-4171-d404-38045d7a37a7"
      },
      "outputs": [
        {
          "output_type": "stream",
          "name": "stdout",
          "text": [
            "Mounted at /content/drive\n"
          ]
        }
      ],
      "source": [
        "if 'google.colab' in str(get_ipython()):\n",
        "    from google.colab import drive\n",
        "    drive.mount('/content/drive')"
      ]
    },
    {
      "cell_type": "markdown",
      "source": [
        "## Import Data"
      ],
      "metadata": {
        "id": "wlky-mNit-u3"
      }
    },
    {
      "cell_type": "code",
      "source": [
        "df = pd.read_csv('/content/drive/MyDrive/WALMART/CAPSTONE project/Data/cleaned_data.csv')"
      ],
      "metadata": {
        "id": "02iglwk0t_DG"
      },
      "execution_count": 5,
      "outputs": []
    },
    {
      "cell_type": "code",
      "source": [
        "df = df.drop(['index','Unnamed: 0.1'], axis = 1)"
      ],
      "metadata": {
        "id": "VfkVo3rZxC0j"
      },
      "execution_count": 6,
      "outputs": []
    },
    {
      "cell_type": "code",
      "source": [
        "df.info()"
      ],
      "metadata": {
        "id": "8s4prT4Yt_RO",
        "colab": {
          "base_uri": "https://localhost:8080/"
        },
        "outputId": "0b5cd823-8aee-4fc0-b120-4e2bd2f25dee"
      },
      "execution_count": 7,
      "outputs": [
        {
          "output_type": "stream",
          "name": "stdout",
          "text": [
            "<class 'pandas.core.frame.DataFrame'>\n",
            "RangeIndex: 10000 entries, 0 to 9999\n",
            "Data columns (total 43 columns):\n",
            " #   Column                                       Non-Null Count  Dtype  \n",
            "---  ------                                       --------------  -----  \n",
            " 0   Unnamed: 0                                   10000 non-null  int64  \n",
            " 1   uniq_id                                      10000 non-null  object \n",
            " 2   product_name                                 10000 non-null  object \n",
            " 3   manufacturer                                 10000 non-null  object \n",
            " 4   price                                        10000 non-null  float64\n",
            " 5   number_available_in_stock                    10000 non-null  float64\n",
            " 6   number_of_reviews                            10000 non-null  float64\n",
            " 7   number_of_answered_questions                 10000 non-null  float64\n",
            " 8   average_review_rating                        10000 non-null  float64\n",
            " 9   category_and_sub_category                    10000 non-null  object \n",
            " 10  customers_who_bought_this_item_also_bought   8938 non-null   object \n",
            " 11  description                                  9349 non-null   object \n",
            " 12  product_information                          9942 non-null   object \n",
            " 13  product_description                          9349 non-null   object \n",
            " 14  items_customers_buy_after_viewing_this_item  6935 non-null   object \n",
            " 15  customer_questions_and_answers               914 non-null    object \n",
            " 16  customer_reviews                             9979 non-null   object \n",
            " 17  sellers                                      6918 non-null   object \n",
            " 18  condition                                    10000 non-null  object \n",
            " 19  0cat                                         10000 non-null  object \n",
            " 20  1cat                                         9929 non-null   object \n",
            " 21  2cat                                         5670 non-null   object \n",
            " 22  3cat                                         1461 non-null   object \n",
            " 23  4cat                                         87 non-null     object \n",
            " 24  0together                                    8938 non-null   object \n",
            " 25  1together                                    8514 non-null   object \n",
            " 26  2together                                    8193 non-null   object \n",
            " 27  3together                                    7958 non-null   object \n",
            " 28  4together                                    7718 non-null   object \n",
            " 29  5together                                    7362 non-null   object \n",
            " 30  6together                                    16 non-null     object \n",
            " 31  7together                                    16 non-null     object \n",
            " 32  8together                                    16 non-null     object \n",
            " 33  9together                                    16 non-null     object \n",
            " 34  10together                                   15 non-null     object \n",
            " 35  11together                                   15 non-null     object \n",
            " 36  0after                                       6935 non-null   object \n",
            " 37  1after                                       6328 non-null   object \n",
            " 38  2after                                       5827 non-null   object \n",
            " 39  3after                                       5420 non-null   object \n",
            " 40  number_of_sellers                            10000 non-null  float64\n",
            " 41  scaled_reviews_by_category_after_log         10000 non-null  float64\n",
            " 42  popularity                                   10000 non-null  float64\n",
            "dtypes: float64(8), int64(1), object(34)\n",
            "memory usage: 3.3+ MB\n"
          ]
        }
      ]
    },
    {
      "cell_type": "code",
      "source": [],
      "metadata": {
        "id": "lFNNCACsxAGR"
      },
      "execution_count": null,
      "outputs": []
    },
    {
      "cell_type": "markdown",
      "source": [
        "# Reviews Sentiment"
      ],
      "metadata": {
        "id": "_k4c1sdGkBx3"
      }
    },
    {
      "cell_type": "markdown",
      "source": [
        "## Aspect Based Sentiment Analysis"
      ],
      "metadata": {
        "id": "iqtbJPnFQUtu"
      }
    },
    {
      "cell_type": "markdown",
      "source": [
        "- in order run the sentiment analysis on your machine, you need to install following libraries and model(en-core-web-lg)"
      ],
      "metadata": {
        "id": "SKle5UwipRw9"
      }
    },
    {
      "cell_type": "code",
      "source": [
        "# !pip install -U spacy\n",
        "# !python -m spacy download en_core_web_lg\n",
        "# !pip install vaderSentiment"
      ],
      "metadata": {
        "colab": {
          "base_uri": "https://localhost:8080/"
        },
        "id": "Ww_CE58svHLe",
        "outputId": "8eab1d80-ea9e-4cb8-f2e0-59c85b89107f"
      },
      "execution_count": 10,
      "outputs": [
        {
          "output_type": "stream",
          "name": "stdout",
          "text": [
            "Looking in indexes: https://pypi.org/simple, https://us-python.pkg.dev/colab-wheels/public/simple/\n",
            "Collecting vaderSentiment\n",
            "  Downloading vaderSentiment-3.3.2-py2.py3-none-any.whl (125 kB)\n",
            "\u001b[2K     \u001b[90m━━━━━━━━━━━━━━━━━━━━━━━━━━━━━━━━━━━━━━━\u001b[0m \u001b[32m126.0/126.0 KB\u001b[0m \u001b[31m3.7 MB/s\u001b[0m eta \u001b[36m0:00:00\u001b[0m\n",
            "\u001b[?25hRequirement already satisfied: requests in /usr/local/lib/python3.8/dist-packages (from vaderSentiment) (2.25.1)\n",
            "Requirement already satisfied: chardet<5,>=3.0.2 in /usr/local/lib/python3.8/dist-packages (from requests->vaderSentiment) (4.0.0)\n",
            "Requirement already satisfied: urllib3<1.27,>=1.21.1 in /usr/local/lib/python3.8/dist-packages (from requests->vaderSentiment) (1.24.3)\n",
            "Requirement already satisfied: certifi>=2017.4.17 in /usr/local/lib/python3.8/dist-packages (from requests->vaderSentiment) (2022.12.7)\n",
            "Requirement already satisfied: idna<3,>=2.5 in /usr/local/lib/python3.8/dist-packages (from requests->vaderSentiment) (2.10)\n",
            "Installing collected packages: vaderSentiment\n",
            "Successfully installed vaderSentiment-3.3.2\n"
          ]
        }
      ]
    },
    {
      "cell_type": "code",
      "source": [
        "import pandas as pd\n",
        "import numpy as np"
      ],
      "metadata": {
        "id": "Si_27o21klVr"
      },
      "execution_count": 11,
      "outputs": []
    },
    {
      "cell_type": "markdown",
      "source": [
        "#### Reference"
      ],
      "metadata": {
        "id": "SJ_S0npWqCiD"
      }
    },
    {
      "cell_type": "markdown",
      "source": [
        "https://www.kaggle.com/code/phiitm/aspect-based-sentiment-analysis"
      ],
      "metadata": {
        "id": "oJDW_BtvqI39"
      }
    },
    {
      "cell_type": "code",
      "source": [
        "df = pd.read_csv('/content/drive/MyDrive/WALMART/CAPSTONE project/Data/Temp data/df_after_clean.csv')"
      ],
      "metadata": {
        "id": "-RFPdiQNklOw"
      },
      "execution_count": 12,
      "outputs": []
    },
    {
      "cell_type": "code",
      "source": [
        "data5 = pd.DataFrame(df[['customer_reviews', 'uniq_id']])"
      ],
      "metadata": {
        "id": "pjvBHXs0kEQs"
      },
      "execution_count": 13,
      "outputs": []
    },
    {
      "cell_type": "code",
      "source": [
        "data5 = data5.rename(columns = {'customer_reviews':'review_body'})"
      ],
      "metadata": {
        "id": "1sLWpVlHlPsd"
      },
      "execution_count": 14,
      "outputs": []
    },
    {
      "cell_type": "code",
      "source": [
        "data5.head()"
      ],
      "metadata": {
        "colab": {
          "base_uri": "https://localhost:8080/",
          "height": 206
        },
        "id": "yPKqGh7DkOi7",
        "outputId": "1c2c1703-c986-4e6d-822c-6f98ead2da62"
      },
      "execution_count": 15,
      "outputs": [
        {
          "output_type": "execute_result",
          "data": {
            "text/plain": [
              "                                         review_body  \\\n",
              "0  Worth Buying For The Pictures Alone (As Ever) ...   \n",
              "1  Four Stars // 4.0 // 18 Dec. 2015 // By\\n    \\...   \n",
              "2  **Highly Recommended!** // 5.0 // 26 May 2015 ...   \n",
              "3  I love it // 5.0 // 22 July 2013 // By\\n    \\n...   \n",
              "4  Birthday present // 5.0 // 14 April 2014 // By...   \n",
              "\n",
              "                            uniq_id  \n",
              "0  eac7efa5dbd3d667f26eb3d3ab504464  \n",
              "1  b17540ef7e86e461d37f3ae58b7b72ac  \n",
              "2  348f344247b0c1a935b1223072ef9d8a  \n",
              "3  e12b92dbb8eaee78b22965d2a9bbbd9f  \n",
              "4  e33a9adeed5f36840ccc227db4682a36  "
            ],
            "text/html": [
              "\n",
              "  <div id=\"df-f5065608-9220-4fe6-ae39-4e0f33bc59e9\">\n",
              "    <div class=\"colab-df-container\">\n",
              "      <div>\n",
              "<style scoped>\n",
              "    .dataframe tbody tr th:only-of-type {\n",
              "        vertical-align: middle;\n",
              "    }\n",
              "\n",
              "    .dataframe tbody tr th {\n",
              "        vertical-align: top;\n",
              "    }\n",
              "\n",
              "    .dataframe thead th {\n",
              "        text-align: right;\n",
              "    }\n",
              "</style>\n",
              "<table border=\"1\" class=\"dataframe\">\n",
              "  <thead>\n",
              "    <tr style=\"text-align: right;\">\n",
              "      <th></th>\n",
              "      <th>review_body</th>\n",
              "      <th>uniq_id</th>\n",
              "    </tr>\n",
              "  </thead>\n",
              "  <tbody>\n",
              "    <tr>\n",
              "      <th>0</th>\n",
              "      <td>Worth Buying For The Pictures Alone (As Ever) ...</td>\n",
              "      <td>eac7efa5dbd3d667f26eb3d3ab504464</td>\n",
              "    </tr>\n",
              "    <tr>\n",
              "      <th>1</th>\n",
              "      <td>Four Stars // 4.0 // 18 Dec. 2015 // By\\n    \\...</td>\n",
              "      <td>b17540ef7e86e461d37f3ae58b7b72ac</td>\n",
              "    </tr>\n",
              "    <tr>\n",
              "      <th>2</th>\n",
              "      <td>**Highly Recommended!** // 5.0 // 26 May 2015 ...</td>\n",
              "      <td>348f344247b0c1a935b1223072ef9d8a</td>\n",
              "    </tr>\n",
              "    <tr>\n",
              "      <th>3</th>\n",
              "      <td>I love it // 5.0 // 22 July 2013 // By\\n    \\n...</td>\n",
              "      <td>e12b92dbb8eaee78b22965d2a9bbbd9f</td>\n",
              "    </tr>\n",
              "    <tr>\n",
              "      <th>4</th>\n",
              "      <td>Birthday present // 5.0 // 14 April 2014 // By...</td>\n",
              "      <td>e33a9adeed5f36840ccc227db4682a36</td>\n",
              "    </tr>\n",
              "  </tbody>\n",
              "</table>\n",
              "</div>\n",
              "      <button class=\"colab-df-convert\" onclick=\"convertToInteractive('df-f5065608-9220-4fe6-ae39-4e0f33bc59e9')\"\n",
              "              title=\"Convert this dataframe to an interactive table.\"\n",
              "              style=\"display:none;\">\n",
              "        \n",
              "  <svg xmlns=\"http://www.w3.org/2000/svg\" height=\"24px\"viewBox=\"0 0 24 24\"\n",
              "       width=\"24px\">\n",
              "    <path d=\"M0 0h24v24H0V0z\" fill=\"none\"/>\n",
              "    <path d=\"M18.56 5.44l.94 2.06.94-2.06 2.06-.94-2.06-.94-.94-2.06-.94 2.06-2.06.94zm-11 1L8.5 8.5l.94-2.06 2.06-.94-2.06-.94L8.5 2.5l-.94 2.06-2.06.94zm10 10l.94 2.06.94-2.06 2.06-.94-2.06-.94-.94-2.06-.94 2.06-2.06.94z\"/><path d=\"M17.41 7.96l-1.37-1.37c-.4-.4-.92-.59-1.43-.59-.52 0-1.04.2-1.43.59L10.3 9.45l-7.72 7.72c-.78.78-.78 2.05 0 2.83L4 21.41c.39.39.9.59 1.41.59.51 0 1.02-.2 1.41-.59l7.78-7.78 2.81-2.81c.8-.78.8-2.07 0-2.86zM5.41 20L4 18.59l7.72-7.72 1.47 1.35L5.41 20z\"/>\n",
              "  </svg>\n",
              "      </button>\n",
              "      \n",
              "  <style>\n",
              "    .colab-df-container {\n",
              "      display:flex;\n",
              "      flex-wrap:wrap;\n",
              "      gap: 12px;\n",
              "    }\n",
              "\n",
              "    .colab-df-convert {\n",
              "      background-color: #E8F0FE;\n",
              "      border: none;\n",
              "      border-radius: 50%;\n",
              "      cursor: pointer;\n",
              "      display: none;\n",
              "      fill: #1967D2;\n",
              "      height: 32px;\n",
              "      padding: 0 0 0 0;\n",
              "      width: 32px;\n",
              "    }\n",
              "\n",
              "    .colab-df-convert:hover {\n",
              "      background-color: #E2EBFA;\n",
              "      box-shadow: 0px 1px 2px rgba(60, 64, 67, 0.3), 0px 1px 3px 1px rgba(60, 64, 67, 0.15);\n",
              "      fill: #174EA6;\n",
              "    }\n",
              "\n",
              "    [theme=dark] .colab-df-convert {\n",
              "      background-color: #3B4455;\n",
              "      fill: #D2E3FC;\n",
              "    }\n",
              "\n",
              "    [theme=dark] .colab-df-convert:hover {\n",
              "      background-color: #434B5C;\n",
              "      box-shadow: 0px 1px 3px 1px rgba(0, 0, 0, 0.15);\n",
              "      filter: drop-shadow(0px 1px 2px rgba(0, 0, 0, 0.3));\n",
              "      fill: #FFFFFF;\n",
              "    }\n",
              "  </style>\n",
              "\n",
              "      <script>\n",
              "        const buttonEl =\n",
              "          document.querySelector('#df-f5065608-9220-4fe6-ae39-4e0f33bc59e9 button.colab-df-convert');\n",
              "        buttonEl.style.display =\n",
              "          google.colab.kernel.accessAllowed ? 'block' : 'none';\n",
              "\n",
              "        async function convertToInteractive(key) {\n",
              "          const element = document.querySelector('#df-f5065608-9220-4fe6-ae39-4e0f33bc59e9');\n",
              "          const dataTable =\n",
              "            await google.colab.kernel.invokeFunction('convertToInteractive',\n",
              "                                                     [key], {});\n",
              "          if (!dataTable) return;\n",
              "\n",
              "          const docLinkHtml = 'Like what you see? Visit the ' +\n",
              "            '<a target=\"_blank\" href=https://colab.research.google.com/notebooks/data_table.ipynb>data table notebook</a>'\n",
              "            + ' to learn more about interactive tables.';\n",
              "          element.innerHTML = '';\n",
              "          dataTable['output_type'] = 'display_data';\n",
              "          await google.colab.output.renderOutput(dataTable, element);\n",
              "          const docLink = document.createElement('div');\n",
              "          docLink.innerHTML = docLinkHtml;\n",
              "          element.appendChild(docLink);\n",
              "        }\n",
              "      </script>\n",
              "    </div>\n",
              "  </div>\n",
              "  "
            ]
          },
          "metadata": {},
          "execution_count": 15
        }
      ]
    },
    {
      "cell_type": "code",
      "source": [
        "data5.info()"
      ],
      "metadata": {
        "colab": {
          "base_uri": "https://localhost:8080/"
        },
        "id": "SQkcmfqnI1ix",
        "outputId": "803468f7-3908-41c7-b600-3074ecd92e2f"
      },
      "execution_count": 16,
      "outputs": [
        {
          "output_type": "stream",
          "name": "stdout",
          "text": [
            "<class 'pandas.core.frame.DataFrame'>\n",
            "RangeIndex: 10000 entries, 0 to 9999\n",
            "Data columns (total 2 columns):\n",
            " #   Column       Non-Null Count  Dtype \n",
            "---  ------       --------------  ----- \n",
            " 0   review_body  9979 non-null   object\n",
            " 1   uniq_id      10000 non-null  object\n",
            "dtypes: object(2)\n",
            "memory usage: 156.4+ KB\n"
          ]
        }
      ]
    },
    {
      "cell_type": "code",
      "source": [
        "data5.shape"
      ],
      "metadata": {
        "colab": {
          "base_uri": "https://localhost:8080/"
        },
        "id": "Z07MZGockP_r",
        "outputId": "35ad772d-9e00-4dda-956f-4801f3a95a57"
      },
      "execution_count": 17,
      "outputs": [
        {
          "output_type": "execute_result",
          "data": {
            "text/plain": [
              "(10000, 2)"
            ]
          },
          "metadata": {},
          "execution_count": 17
        }
      ]
    },
    {
      "cell_type": "code",
      "source": [
        "data = data5.reset_index()"
      ],
      "metadata": {
        "id": "OdU0zEYoI_zJ"
      },
      "execution_count": 18,
      "outputs": []
    },
    {
      "cell_type": "code",
      "source": [
        "data.head()"
      ],
      "metadata": {
        "colab": {
          "base_uri": "https://localhost:8080/",
          "height": 206
        },
        "id": "sTAQwIkRJZ5I",
        "outputId": "41bb1302-b52d-47c6-dacd-6d8a38790268"
      },
      "execution_count": 19,
      "outputs": [
        {
          "output_type": "execute_result",
          "data": {
            "text/plain": [
              "   index                                        review_body  \\\n",
              "0      0  Worth Buying For The Pictures Alone (As Ever) ...   \n",
              "1      1  Four Stars // 4.0 // 18 Dec. 2015 // By\\n    \\...   \n",
              "2      2  **Highly Recommended!** // 5.0 // 26 May 2015 ...   \n",
              "3      3  I love it // 5.0 // 22 July 2013 // By\\n    \\n...   \n",
              "4      4  Birthday present // 5.0 // 14 April 2014 // By...   \n",
              "\n",
              "                            uniq_id  \n",
              "0  eac7efa5dbd3d667f26eb3d3ab504464  \n",
              "1  b17540ef7e86e461d37f3ae58b7b72ac  \n",
              "2  348f344247b0c1a935b1223072ef9d8a  \n",
              "3  e12b92dbb8eaee78b22965d2a9bbbd9f  \n",
              "4  e33a9adeed5f36840ccc227db4682a36  "
            ],
            "text/html": [
              "\n",
              "  <div id=\"df-22469e1f-c04d-48b3-bd44-caea56cf8d0c\">\n",
              "    <div class=\"colab-df-container\">\n",
              "      <div>\n",
              "<style scoped>\n",
              "    .dataframe tbody tr th:only-of-type {\n",
              "        vertical-align: middle;\n",
              "    }\n",
              "\n",
              "    .dataframe tbody tr th {\n",
              "        vertical-align: top;\n",
              "    }\n",
              "\n",
              "    .dataframe thead th {\n",
              "        text-align: right;\n",
              "    }\n",
              "</style>\n",
              "<table border=\"1\" class=\"dataframe\">\n",
              "  <thead>\n",
              "    <tr style=\"text-align: right;\">\n",
              "      <th></th>\n",
              "      <th>index</th>\n",
              "      <th>review_body</th>\n",
              "      <th>uniq_id</th>\n",
              "    </tr>\n",
              "  </thead>\n",
              "  <tbody>\n",
              "    <tr>\n",
              "      <th>0</th>\n",
              "      <td>0</td>\n",
              "      <td>Worth Buying For The Pictures Alone (As Ever) ...</td>\n",
              "      <td>eac7efa5dbd3d667f26eb3d3ab504464</td>\n",
              "    </tr>\n",
              "    <tr>\n",
              "      <th>1</th>\n",
              "      <td>1</td>\n",
              "      <td>Four Stars // 4.0 // 18 Dec. 2015 // By\\n    \\...</td>\n",
              "      <td>b17540ef7e86e461d37f3ae58b7b72ac</td>\n",
              "    </tr>\n",
              "    <tr>\n",
              "      <th>2</th>\n",
              "      <td>2</td>\n",
              "      <td>**Highly Recommended!** // 5.0 // 26 May 2015 ...</td>\n",
              "      <td>348f344247b0c1a935b1223072ef9d8a</td>\n",
              "    </tr>\n",
              "    <tr>\n",
              "      <th>3</th>\n",
              "      <td>3</td>\n",
              "      <td>I love it // 5.0 // 22 July 2013 // By\\n    \\n...</td>\n",
              "      <td>e12b92dbb8eaee78b22965d2a9bbbd9f</td>\n",
              "    </tr>\n",
              "    <tr>\n",
              "      <th>4</th>\n",
              "      <td>4</td>\n",
              "      <td>Birthday present // 5.0 // 14 April 2014 // By...</td>\n",
              "      <td>e33a9adeed5f36840ccc227db4682a36</td>\n",
              "    </tr>\n",
              "  </tbody>\n",
              "</table>\n",
              "</div>\n",
              "      <button class=\"colab-df-convert\" onclick=\"convertToInteractive('df-22469e1f-c04d-48b3-bd44-caea56cf8d0c')\"\n",
              "              title=\"Convert this dataframe to an interactive table.\"\n",
              "              style=\"display:none;\">\n",
              "        \n",
              "  <svg xmlns=\"http://www.w3.org/2000/svg\" height=\"24px\"viewBox=\"0 0 24 24\"\n",
              "       width=\"24px\">\n",
              "    <path d=\"M0 0h24v24H0V0z\" fill=\"none\"/>\n",
              "    <path d=\"M18.56 5.44l.94 2.06.94-2.06 2.06-.94-2.06-.94-.94-2.06-.94 2.06-2.06.94zm-11 1L8.5 8.5l.94-2.06 2.06-.94-2.06-.94L8.5 2.5l-.94 2.06-2.06.94zm10 10l.94 2.06.94-2.06 2.06-.94-2.06-.94-.94-2.06-.94 2.06-2.06.94z\"/><path d=\"M17.41 7.96l-1.37-1.37c-.4-.4-.92-.59-1.43-.59-.52 0-1.04.2-1.43.59L10.3 9.45l-7.72 7.72c-.78.78-.78 2.05 0 2.83L4 21.41c.39.39.9.59 1.41.59.51 0 1.02-.2 1.41-.59l7.78-7.78 2.81-2.81c.8-.78.8-2.07 0-2.86zM5.41 20L4 18.59l7.72-7.72 1.47 1.35L5.41 20z\"/>\n",
              "  </svg>\n",
              "      </button>\n",
              "      \n",
              "  <style>\n",
              "    .colab-df-container {\n",
              "      display:flex;\n",
              "      flex-wrap:wrap;\n",
              "      gap: 12px;\n",
              "    }\n",
              "\n",
              "    .colab-df-convert {\n",
              "      background-color: #E8F0FE;\n",
              "      border: none;\n",
              "      border-radius: 50%;\n",
              "      cursor: pointer;\n",
              "      display: none;\n",
              "      fill: #1967D2;\n",
              "      height: 32px;\n",
              "      padding: 0 0 0 0;\n",
              "      width: 32px;\n",
              "    }\n",
              "\n",
              "    .colab-df-convert:hover {\n",
              "      background-color: #E2EBFA;\n",
              "      box-shadow: 0px 1px 2px rgba(60, 64, 67, 0.3), 0px 1px 3px 1px rgba(60, 64, 67, 0.15);\n",
              "      fill: #174EA6;\n",
              "    }\n",
              "\n",
              "    [theme=dark] .colab-df-convert {\n",
              "      background-color: #3B4455;\n",
              "      fill: #D2E3FC;\n",
              "    }\n",
              "\n",
              "    [theme=dark] .colab-df-convert:hover {\n",
              "      background-color: #434B5C;\n",
              "      box-shadow: 0px 1px 3px 1px rgba(0, 0, 0, 0.15);\n",
              "      filter: drop-shadow(0px 1px 2px rgba(0, 0, 0, 0.3));\n",
              "      fill: #FFFFFF;\n",
              "    }\n",
              "  </style>\n",
              "\n",
              "      <script>\n",
              "        const buttonEl =\n",
              "          document.querySelector('#df-22469e1f-c04d-48b3-bd44-caea56cf8d0c button.colab-df-convert');\n",
              "        buttonEl.style.display =\n",
              "          google.colab.kernel.accessAllowed ? 'block' : 'none';\n",
              "\n",
              "        async function convertToInteractive(key) {\n",
              "          const element = document.querySelector('#df-22469e1f-c04d-48b3-bd44-caea56cf8d0c');\n",
              "          const dataTable =\n",
              "            await google.colab.kernel.invokeFunction('convertToInteractive',\n",
              "                                                     [key], {});\n",
              "          if (!dataTable) return;\n",
              "\n",
              "          const docLinkHtml = 'Like what you see? Visit the ' +\n",
              "            '<a target=\"_blank\" href=https://colab.research.google.com/notebooks/data_table.ipynb>data table notebook</a>'\n",
              "            + ' to learn more about interactive tables.';\n",
              "          element.innerHTML = '';\n",
              "          dataTable['output_type'] = 'display_data';\n",
              "          await google.colab.output.renderOutput(dataTable, element);\n",
              "          const docLink = document.createElement('div');\n",
              "          docLink.innerHTML = docLinkHtml;\n",
              "          element.appendChild(docLink);\n",
              "        }\n",
              "      </script>\n",
              "    </div>\n",
              "  </div>\n",
              "  "
            ]
          },
          "metadata": {},
          "execution_count": 19
        }
      ]
    },
    {
      "cell_type": "code",
      "source": [
        "import os\n",
        "import re\n",
        "import spacy\n",
        "from tqdm import tqdm\n",
        "nlp = spacy.load('en_core_web_lg')"
      ],
      "metadata": {
        "id": "vWSKcFX4l5-1"
      },
      "execution_count": 20,
      "outputs": []
    },
    {
      "cell_type": "code",
      "source": [
        "aspect_terms = []\n",
        "# comp_terms = []\n",
        "\n",
        "def get_aspect_adj(data):\n",
        "    for x in tqdm(range(len(data['review_body']))):\n",
        "        amod_pairs = []\n",
        "        advmod_pairs = []\n",
        "        # compound_pairs = []\n",
        "        xcomp_pairs = []\n",
        "        neg_pairs = []\n",
        "\n",
        "        if len(str(data['review_body'][x])) != 0:\n",
        "            lines = str(data['review_body'][x]).replace('*',' ').replace('-',' ').replace('so ',' ').replace('be ',' ').replace('are ',' ').replace('just ',' ').replace('get ','').replace('were ',' ').replace('When ','').replace('when ','').replace('again ',' ').replace('where ','').replace('how ',' ').replace('has ',' ').replace('Here ',' ').replace('here ',' ').replace('now ',' ').replace('see ',' ').replace('why ',' ').split('.')       \n",
        "            for line in lines:\n",
        "                    doc = nlp(line)\n",
        "                    str1=''\n",
        "                    str2=''\n",
        "                    for token in doc:\n",
        "                        if token.pos_ == 'NOUN':\n",
        "                            for j in token.lefts:\n",
        "                                # if j.dep_ == 'compound':\n",
        "                                #     compound_pairs.append((j.text+' '+token.text,token.text))\n",
        "                                if j.dep_ == 'amod' and j.pos_ == 'ADJ':\n",
        "                                    str1 = j.text+' '+token.text\n",
        "                                    amod_pairs.append(j.text+' '+token.text)\n",
        "                                    for k in j.lefts:\n",
        "                                        if k.dep_ == 'advmod': \n",
        "                                            str2 = k.text+' '+j.text+' '+token.text\n",
        "                                            amod_pairs.append(k.text+' '+j.text+' '+token.text)\n",
        "                                    mtch = re.search(re.escape(str1),re.escape(str2))\n",
        "                                    if mtch != None:\n",
        "                                        amod_pairs.remove(str1)\n",
        "                        if token.pos_ == 'VERB':\n",
        "                            for j in token.lefts:\n",
        "                                if j.dep_ == 'advmod' and j.pos_ == 'ADV':\n",
        "                                    advmod_pairs.append(j.text+' '+token.text)\n",
        "                                if j.dep_ == 'neg' and j.pos_ == 'ADV':\n",
        "                                    neg_pairs.append(j.text+' '+token.text)\n",
        "                            for j in token.rights:\n",
        "                                if j.dep_ == 'advmod'and j.pos_ == 'ADV':\n",
        "                                    advmod_pairs.append(token.text+' '+j.text)\n",
        "                        if token.pos_ == 'ADJ':\n",
        "                            for j,h in zip(token.rights,token.lefts):\n",
        "                                if j.dep_ == 'xcomp' and h.dep_ != 'neg':\n",
        "                                    for k in j.lefts:\n",
        "                                        if k.dep_ == 'aux':\n",
        "                                            xcomp_pairs.append(token.text+' '+k.text+' '+j.text)\n",
        "                                elif j.dep_ == 'xcomp' and h.dep_ == 'neg':\n",
        "                                    if k.dep_ == 'aux':\n",
        "                                            neg_pairs.append(h.text +' '+token.text+' '+k.text+' '+j.text)\n",
        "\n",
        "            pairs = list(set(amod_pairs+advmod_pairs+neg_pairs+xcomp_pairs))\n",
        "  \n",
        "            # for i in range(len(pairs)):\n",
        "            #     if len(compound_pairs)!=0:\n",
        "            #         for comp in compound_pairs:\n",
        "            #             mtch = re.search(re.escape(comp[1]),re.escape(pairs[i]))\n",
        "            #             if mtch != None:\n",
        "            #                 pairs[i] = pairs[i].replace(mtch.group(),comp[0])\n",
        "            \n",
        "        aspect_terms.append(pairs)\n",
        "        # comp_terms.append(compound_pairs)\n",
        "        \n",
        "    # data['compound_nouns'] = comp_terms\n",
        "    data['aspect_keywords'] = aspect_terms\n",
        "   \n",
        "    return data"
      ],
      "metadata": {
        "id": "u1vlngJtkd5O"
      },
      "execution_count": 24,
      "outputs": []
    },
    {
      "cell_type": "code",
      "source": [
        "data1 = get_aspect_adj(data)"
      ],
      "metadata": {
        "colab": {
          "base_uri": "https://localhost:8080/"
        },
        "id": "g46q-CBTxnGP",
        "outputId": "e7dce0e8-9a3d-469e-df7c-1b6a605ee73f"
      },
      "execution_count": 25,
      "outputs": [
        {
          "output_type": "stream",
          "name": "stderr",
          "text": [
            "100%|██████████| 10000/10000 [27:01<00:00,  6.17it/s]\n"
          ]
        }
      ]
    },
    {
      "cell_type": "code",
      "source": [
        "my_df = pd.DataFrame(columns = ['row_index','aspect_adj_string','pos_score','neg_score','compound_score','neutral_score'])\n",
        "my_df"
      ],
      "metadata": {
        "colab": {
          "base_uri": "https://localhost:8080/",
          "height": 49
        },
        "id": "VoNzot7Txoj_",
        "outputId": "53c0ff9f-4008-4822-a612-3f28baa296b2"
      },
      "execution_count": 26,
      "outputs": [
        {
          "output_type": "execute_result",
          "data": {
            "text/plain": [
              "Empty DataFrame\n",
              "Columns: [row_index, aspect_adj_string, pos_score, neg_score, compound_score, neutral_score]\n",
              "Index: []"
            ],
            "text/html": [
              "\n",
              "  <div id=\"df-74dd92f0-2f6a-4ff1-9ffb-2ed02f2891a6\">\n",
              "    <div class=\"colab-df-container\">\n",
              "      <div>\n",
              "<style scoped>\n",
              "    .dataframe tbody tr th:only-of-type {\n",
              "        vertical-align: middle;\n",
              "    }\n",
              "\n",
              "    .dataframe tbody tr th {\n",
              "        vertical-align: top;\n",
              "    }\n",
              "\n",
              "    .dataframe thead th {\n",
              "        text-align: right;\n",
              "    }\n",
              "</style>\n",
              "<table border=\"1\" class=\"dataframe\">\n",
              "  <thead>\n",
              "    <tr style=\"text-align: right;\">\n",
              "      <th></th>\n",
              "      <th>row_index</th>\n",
              "      <th>aspect_adj_string</th>\n",
              "      <th>pos_score</th>\n",
              "      <th>neg_score</th>\n",
              "      <th>compound_score</th>\n",
              "      <th>neutral_score</th>\n",
              "    </tr>\n",
              "  </thead>\n",
              "  <tbody>\n",
              "  </tbody>\n",
              "</table>\n",
              "</div>\n",
              "      <button class=\"colab-df-convert\" onclick=\"convertToInteractive('df-74dd92f0-2f6a-4ff1-9ffb-2ed02f2891a6')\"\n",
              "              title=\"Convert this dataframe to an interactive table.\"\n",
              "              style=\"display:none;\">\n",
              "        \n",
              "  <svg xmlns=\"http://www.w3.org/2000/svg\" height=\"24px\"viewBox=\"0 0 24 24\"\n",
              "       width=\"24px\">\n",
              "    <path d=\"M0 0h24v24H0V0z\" fill=\"none\"/>\n",
              "    <path d=\"M18.56 5.44l.94 2.06.94-2.06 2.06-.94-2.06-.94-.94-2.06-.94 2.06-2.06.94zm-11 1L8.5 8.5l.94-2.06 2.06-.94-2.06-.94L8.5 2.5l-.94 2.06-2.06.94zm10 10l.94 2.06.94-2.06 2.06-.94-2.06-.94-.94-2.06-.94 2.06-2.06.94z\"/><path d=\"M17.41 7.96l-1.37-1.37c-.4-.4-.92-.59-1.43-.59-.52 0-1.04.2-1.43.59L10.3 9.45l-7.72 7.72c-.78.78-.78 2.05 0 2.83L4 21.41c.39.39.9.59 1.41.59.51 0 1.02-.2 1.41-.59l7.78-7.78 2.81-2.81c.8-.78.8-2.07 0-2.86zM5.41 20L4 18.59l7.72-7.72 1.47 1.35L5.41 20z\"/>\n",
              "  </svg>\n",
              "      </button>\n",
              "      \n",
              "  <style>\n",
              "    .colab-df-container {\n",
              "      display:flex;\n",
              "      flex-wrap:wrap;\n",
              "      gap: 12px;\n",
              "    }\n",
              "\n",
              "    .colab-df-convert {\n",
              "      background-color: #E8F0FE;\n",
              "      border: none;\n",
              "      border-radius: 50%;\n",
              "      cursor: pointer;\n",
              "      display: none;\n",
              "      fill: #1967D2;\n",
              "      height: 32px;\n",
              "      padding: 0 0 0 0;\n",
              "      width: 32px;\n",
              "    }\n",
              "\n",
              "    .colab-df-convert:hover {\n",
              "      background-color: #E2EBFA;\n",
              "      box-shadow: 0px 1px 2px rgba(60, 64, 67, 0.3), 0px 1px 3px 1px rgba(60, 64, 67, 0.15);\n",
              "      fill: #174EA6;\n",
              "    }\n",
              "\n",
              "    [theme=dark] .colab-df-convert {\n",
              "      background-color: #3B4455;\n",
              "      fill: #D2E3FC;\n",
              "    }\n",
              "\n",
              "    [theme=dark] .colab-df-convert:hover {\n",
              "      background-color: #434B5C;\n",
              "      box-shadow: 0px 1px 3px 1px rgba(0, 0, 0, 0.15);\n",
              "      filter: drop-shadow(0px 1px 2px rgba(0, 0, 0, 0.3));\n",
              "      fill: #FFFFFF;\n",
              "    }\n",
              "  </style>\n",
              "\n",
              "      <script>\n",
              "        const buttonEl =\n",
              "          document.querySelector('#df-74dd92f0-2f6a-4ff1-9ffb-2ed02f2891a6 button.colab-df-convert');\n",
              "        buttonEl.style.display =\n",
              "          google.colab.kernel.accessAllowed ? 'block' : 'none';\n",
              "\n",
              "        async function convertToInteractive(key) {\n",
              "          const element = document.querySelector('#df-74dd92f0-2f6a-4ff1-9ffb-2ed02f2891a6');\n",
              "          const dataTable =\n",
              "            await google.colab.kernel.invokeFunction('convertToInteractive',\n",
              "                                                     [key], {});\n",
              "          if (!dataTable) return;\n",
              "\n",
              "          const docLinkHtml = 'Like what you see? Visit the ' +\n",
              "            '<a target=\"_blank\" href=https://colab.research.google.com/notebooks/data_table.ipynb>data table notebook</a>'\n",
              "            + ' to learn more about interactive tables.';\n",
              "          element.innerHTML = '';\n",
              "          dataTable['output_type'] = 'display_data';\n",
              "          await google.colab.output.renderOutput(dataTable, element);\n",
              "          const docLink = document.createElement('div');\n",
              "          docLink.innerHTML = docLinkHtml;\n",
              "          element.appendChild(docLink);\n",
              "        }\n",
              "      </script>\n",
              "    </div>\n",
              "  </div>\n",
              "  "
            ]
          },
          "metadata": {},
          "execution_count": 26
        }
      ]
    },
    {
      "cell_type": "code",
      "source": [
        "from vaderSentiment.vaderSentiment import SentimentIntensityAnalyzer\n",
        "analyser = SentimentIntensityAnalyzer()\n",
        "my_df = pd.DataFrame(columns = ['row_index','aspect_adj_string','pos_score','neg_score','compound_score','neutral_score'])\n",
        "global_sentiment = {}\n",
        "for aspect_adj_tuple in data1.aspect_keywords.iteritems():\n",
        "    row_sentiment = {}\n",
        "    for text in aspect_adj_tuple[1]:\n",
        "        sentiment_array = []\n",
        "        polarity = analyser.polarity_scores(text)\n",
        "        # print(polarity)\n",
        "        # sentiment_array.append(polarity['pos'])\n",
        "        # sentiment_array.append(polarity['neg'])\n",
        "        # row_sentiment[text] = sentiment_array\n",
        "        my_df = my_df.append({'row_index':aspect_adj_tuple[0],'aspect_adj_string':text,'pos_score':polarity['pos'],'neg_score':polarity['neg'],'compound_score':polarity['compound'],'neutral_score':polarity['neu']},ignore_index=True)\n",
        "#     global_sentiment[aspect_adj_tuple[0]] = row_sentiment\n",
        "    \n",
        "# print(global_sentiment)"
      ],
      "metadata": {
        "id": "hgCuLvUNxonI"
      },
      "execution_count": 27,
      "outputs": []
    },
    {
      "cell_type": "code",
      "source": [
        "my_df[(my_df['compound_score']<0) & (my_df['pos_score']>0) & (my_df['neg_score']>0)]"
      ],
      "metadata": {
        "colab": {
          "base_uri": "https://localhost:8080/",
          "height": 424
        },
        "id": "ejciptX7xoqA",
        "outputId": "991eb70a-8c71-4d49-d172-31df7ff5a2f7"
      },
      "execution_count": 28,
      "outputs": [
        {
          "output_type": "execute_result",
          "data": {
            "text/plain": [
              "       row_index      aspect_adj_string  pos_score  neg_score  compound_score  \\\n",
              "413           36          easily damage      0.429      0.571         -0.2023   \n",
              "556           47           hard backing      0.440      0.560         -0.0772   \n",
              "2790         288              bad value      0.407      0.593         -0.2732   \n",
              "2803         288    extremely bad value      0.358      0.508         -0.2766   \n",
              "3211         334            mad playing      0.360      0.640         -0.3400   \n",
              "...          ...                    ...        ...        ...             ...   \n",
              "101296      9811  brightly coloured die      0.338      0.527         -0.3400   \n",
              "102903      9942    frustrating to play      0.381      0.460         -0.1280   \n",
              "103025      9948           cut straight      0.475      0.525         -0.0516   \n",
              "103369      9971            loose jokes      0.465      0.535         -0.0772   \n",
              "103374      9971       more loose jokes      0.388      0.442         -0.0810   \n",
              "\n",
              "        neutral_score  \n",
              "413             0.000  \n",
              "556             0.000  \n",
              "2790            0.000  \n",
              "2803            0.134  \n",
              "3211            0.000  \n",
              "...               ...  \n",
              "101296          0.135  \n",
              "102903          0.159  \n",
              "103025          0.000  \n",
              "103369          0.000  \n",
              "103374          0.170  \n",
              "\n",
              "[185 rows x 6 columns]"
            ],
            "text/html": [
              "\n",
              "  <div id=\"df-9bbc20a7-5d6f-4acc-89fd-3cc67accb097\">\n",
              "    <div class=\"colab-df-container\">\n",
              "      <div>\n",
              "<style scoped>\n",
              "    .dataframe tbody tr th:only-of-type {\n",
              "        vertical-align: middle;\n",
              "    }\n",
              "\n",
              "    .dataframe tbody tr th {\n",
              "        vertical-align: top;\n",
              "    }\n",
              "\n",
              "    .dataframe thead th {\n",
              "        text-align: right;\n",
              "    }\n",
              "</style>\n",
              "<table border=\"1\" class=\"dataframe\">\n",
              "  <thead>\n",
              "    <tr style=\"text-align: right;\">\n",
              "      <th></th>\n",
              "      <th>row_index</th>\n",
              "      <th>aspect_adj_string</th>\n",
              "      <th>pos_score</th>\n",
              "      <th>neg_score</th>\n",
              "      <th>compound_score</th>\n",
              "      <th>neutral_score</th>\n",
              "    </tr>\n",
              "  </thead>\n",
              "  <tbody>\n",
              "    <tr>\n",
              "      <th>413</th>\n",
              "      <td>36</td>\n",
              "      <td>easily damage</td>\n",
              "      <td>0.429</td>\n",
              "      <td>0.571</td>\n",
              "      <td>-0.2023</td>\n",
              "      <td>0.000</td>\n",
              "    </tr>\n",
              "    <tr>\n",
              "      <th>556</th>\n",
              "      <td>47</td>\n",
              "      <td>hard backing</td>\n",
              "      <td>0.440</td>\n",
              "      <td>0.560</td>\n",
              "      <td>-0.0772</td>\n",
              "      <td>0.000</td>\n",
              "    </tr>\n",
              "    <tr>\n",
              "      <th>2790</th>\n",
              "      <td>288</td>\n",
              "      <td>bad value</td>\n",
              "      <td>0.407</td>\n",
              "      <td>0.593</td>\n",
              "      <td>-0.2732</td>\n",
              "      <td>0.000</td>\n",
              "    </tr>\n",
              "    <tr>\n",
              "      <th>2803</th>\n",
              "      <td>288</td>\n",
              "      <td>extremely bad value</td>\n",
              "      <td>0.358</td>\n",
              "      <td>0.508</td>\n",
              "      <td>-0.2766</td>\n",
              "      <td>0.134</td>\n",
              "    </tr>\n",
              "    <tr>\n",
              "      <th>3211</th>\n",
              "      <td>334</td>\n",
              "      <td>mad playing</td>\n",
              "      <td>0.360</td>\n",
              "      <td>0.640</td>\n",
              "      <td>-0.3400</td>\n",
              "      <td>0.000</td>\n",
              "    </tr>\n",
              "    <tr>\n",
              "      <th>...</th>\n",
              "      <td>...</td>\n",
              "      <td>...</td>\n",
              "      <td>...</td>\n",
              "      <td>...</td>\n",
              "      <td>...</td>\n",
              "      <td>...</td>\n",
              "    </tr>\n",
              "    <tr>\n",
              "      <th>101296</th>\n",
              "      <td>9811</td>\n",
              "      <td>brightly coloured die</td>\n",
              "      <td>0.338</td>\n",
              "      <td>0.527</td>\n",
              "      <td>-0.3400</td>\n",
              "      <td>0.135</td>\n",
              "    </tr>\n",
              "    <tr>\n",
              "      <th>102903</th>\n",
              "      <td>9942</td>\n",
              "      <td>frustrating to play</td>\n",
              "      <td>0.381</td>\n",
              "      <td>0.460</td>\n",
              "      <td>-0.1280</td>\n",
              "      <td>0.159</td>\n",
              "    </tr>\n",
              "    <tr>\n",
              "      <th>103025</th>\n",
              "      <td>9948</td>\n",
              "      <td>cut straight</td>\n",
              "      <td>0.475</td>\n",
              "      <td>0.525</td>\n",
              "      <td>-0.0516</td>\n",
              "      <td>0.000</td>\n",
              "    </tr>\n",
              "    <tr>\n",
              "      <th>103369</th>\n",
              "      <td>9971</td>\n",
              "      <td>loose jokes</td>\n",
              "      <td>0.465</td>\n",
              "      <td>0.535</td>\n",
              "      <td>-0.0772</td>\n",
              "      <td>0.000</td>\n",
              "    </tr>\n",
              "    <tr>\n",
              "      <th>103374</th>\n",
              "      <td>9971</td>\n",
              "      <td>more loose jokes</td>\n",
              "      <td>0.388</td>\n",
              "      <td>0.442</td>\n",
              "      <td>-0.0810</td>\n",
              "      <td>0.170</td>\n",
              "    </tr>\n",
              "  </tbody>\n",
              "</table>\n",
              "<p>185 rows × 6 columns</p>\n",
              "</div>\n",
              "      <button class=\"colab-df-convert\" onclick=\"convertToInteractive('df-9bbc20a7-5d6f-4acc-89fd-3cc67accb097')\"\n",
              "              title=\"Convert this dataframe to an interactive table.\"\n",
              "              style=\"display:none;\">\n",
              "        \n",
              "  <svg xmlns=\"http://www.w3.org/2000/svg\" height=\"24px\"viewBox=\"0 0 24 24\"\n",
              "       width=\"24px\">\n",
              "    <path d=\"M0 0h24v24H0V0z\" fill=\"none\"/>\n",
              "    <path d=\"M18.56 5.44l.94 2.06.94-2.06 2.06-.94-2.06-.94-.94-2.06-.94 2.06-2.06.94zm-11 1L8.5 8.5l.94-2.06 2.06-.94-2.06-.94L8.5 2.5l-.94 2.06-2.06.94zm10 10l.94 2.06.94-2.06 2.06-.94-2.06-.94-.94-2.06-.94 2.06-2.06.94z\"/><path d=\"M17.41 7.96l-1.37-1.37c-.4-.4-.92-.59-1.43-.59-.52 0-1.04.2-1.43.59L10.3 9.45l-7.72 7.72c-.78.78-.78 2.05 0 2.83L4 21.41c.39.39.9.59 1.41.59.51 0 1.02-.2 1.41-.59l7.78-7.78 2.81-2.81c.8-.78.8-2.07 0-2.86zM5.41 20L4 18.59l7.72-7.72 1.47 1.35L5.41 20z\"/>\n",
              "  </svg>\n",
              "      </button>\n",
              "      \n",
              "  <style>\n",
              "    .colab-df-container {\n",
              "      display:flex;\n",
              "      flex-wrap:wrap;\n",
              "      gap: 12px;\n",
              "    }\n",
              "\n",
              "    .colab-df-convert {\n",
              "      background-color: #E8F0FE;\n",
              "      border: none;\n",
              "      border-radius: 50%;\n",
              "      cursor: pointer;\n",
              "      display: none;\n",
              "      fill: #1967D2;\n",
              "      height: 32px;\n",
              "      padding: 0 0 0 0;\n",
              "      width: 32px;\n",
              "    }\n",
              "\n",
              "    .colab-df-convert:hover {\n",
              "      background-color: #E2EBFA;\n",
              "      box-shadow: 0px 1px 2px rgba(60, 64, 67, 0.3), 0px 1px 3px 1px rgba(60, 64, 67, 0.15);\n",
              "      fill: #174EA6;\n",
              "    }\n",
              "\n",
              "    [theme=dark] .colab-df-convert {\n",
              "      background-color: #3B4455;\n",
              "      fill: #D2E3FC;\n",
              "    }\n",
              "\n",
              "    [theme=dark] .colab-df-convert:hover {\n",
              "      background-color: #434B5C;\n",
              "      box-shadow: 0px 1px 3px 1px rgba(0, 0, 0, 0.15);\n",
              "      filter: drop-shadow(0px 1px 2px rgba(0, 0, 0, 0.3));\n",
              "      fill: #FFFFFF;\n",
              "    }\n",
              "  </style>\n",
              "\n",
              "      <script>\n",
              "        const buttonEl =\n",
              "          document.querySelector('#df-9bbc20a7-5d6f-4acc-89fd-3cc67accb097 button.colab-df-convert');\n",
              "        buttonEl.style.display =\n",
              "          google.colab.kernel.accessAllowed ? 'block' : 'none';\n",
              "\n",
              "        async function convertToInteractive(key) {\n",
              "          const element = document.querySelector('#df-9bbc20a7-5d6f-4acc-89fd-3cc67accb097');\n",
              "          const dataTable =\n",
              "            await google.colab.kernel.invokeFunction('convertToInteractive',\n",
              "                                                     [key], {});\n",
              "          if (!dataTable) return;\n",
              "\n",
              "          const docLinkHtml = 'Like what you see? Visit the ' +\n",
              "            '<a target=\"_blank\" href=https://colab.research.google.com/notebooks/data_table.ipynb>data table notebook</a>'\n",
              "            + ' to learn more about interactive tables.';\n",
              "          element.innerHTML = '';\n",
              "          dataTable['output_type'] = 'display_data';\n",
              "          await google.colab.output.renderOutput(dataTable, element);\n",
              "          const docLink = document.createElement('div');\n",
              "          docLink.innerHTML = docLinkHtml;\n",
              "          element.appendChild(docLink);\n",
              "        }\n",
              "      </script>\n",
              "    </div>\n",
              "  </div>\n",
              "  "
            ]
          },
          "metadata": {},
          "execution_count": 28
        }
      ]
    },
    {
      "cell_type": "code",
      "source": [
        "# my_df.to_csv('/content/drive/MyDrive/WALMART/CAPSTONE project/Data/Temp data/sentiment_df.csv')"
      ],
      "metadata": {
        "id": "QkRyGUgnHfIc"
      },
      "execution_count": null,
      "outputs": []
    },
    {
      "cell_type": "code",
      "source": [
        "my_df['row_index'].value_counts()"
      ],
      "metadata": {
        "colab": {
          "base_uri": "https://localhost:8080/"
        },
        "id": "NK1MBLGoL7rZ",
        "outputId": "0ed25616-bdbf-4663-e454-17f1d9e966ee"
      },
      "execution_count": 29,
      "outputs": [
        {
          "output_type": "execute_result",
          "data": {
            "text/plain": [
              "4861    112\n",
              "5558    100\n",
              "1635     99\n",
              "9209     99\n",
              "4605     99\n",
              "       ... \n",
              "8767      1\n",
              "487       1\n",
              "3991      1\n",
              "8762      1\n",
              "1353      1\n",
              "Name: row_index, Length: 8685, dtype: int64"
            ]
          },
          "metadata": {},
          "execution_count": 29
        }
      ]
    },
    {
      "cell_type": "code",
      "source": [
        "my_df.shape"
      ],
      "metadata": {
        "colab": {
          "base_uri": "https://localhost:8080/"
        },
        "id": "hYbzOri0xosq",
        "outputId": "cda63866-52ac-4b41-fe4d-7b03114d4836"
      },
      "execution_count": 30,
      "outputs": [
        {
          "output_type": "execute_result",
          "data": {
            "text/plain": [
              "(103606, 6)"
            ]
          },
          "metadata": {},
          "execution_count": 30
        }
      ]
    },
    {
      "cell_type": "code",
      "source": [
        "my_df.head(20)"
      ],
      "metadata": {
        "colab": {
          "base_uri": "https://localhost:8080/",
          "height": 677
        },
        "id": "bl_wuq6AMGvm",
        "outputId": "6dc38f98-3eaf-43c9-9684-ab898e469023"
      },
      "execution_count": 31,
      "outputs": [
        {
          "output_type": "execute_result",
          "data": {
            "text/plain": [
              "   row_index         aspect_adj_string  pos_score  neg_score  compound_score  \\\n",
              "0          0                  old ones      0.000        0.0          0.0000   \n",
              "1          0             previous year      0.000        0.0          0.0000   \n",
              "2          0                 still got      0.000        0.0          0.0000   \n",
              "3          0            definitely buy      0.730        0.0          0.4019   \n",
              "4          0             new catalogue      0.000        0.0          0.0000   \n",
              "5          0  Extremely useful insight      0.615        0.0          0.4927   \n",
              "6          0             same products      0.000        0.0          0.0000   \n",
              "7          0           Great catalogue      0.804        0.0          0.6249   \n",
              "8          0           arrived quickly      0.000        0.0          0.0000   \n",
              "9          0             even included      0.000        0.0          0.0000   \n",
              "10         0              look anytime      0.000        0.0          0.0000   \n",
              "11         0             well produced      0.677        0.0          0.2732   \n",
              "12         0           future presents      0.000        0.0          0.0000   \n",
              "13         0                many years      0.000        0.0          0.0000   \n",
              "14         0                great book      0.804        0.0          0.6249   \n",
              "15         0            particular era      0.000        0.0          0.0000   \n",
              "16         0            useful insight      0.744        0.0          0.4404   \n",
              "17         0               look online      0.000        0.0          0.0000   \n",
              "18         0            Amazing detail      0.792        0.0          0.5859   \n",
              "19         0               dating back      0.000        0.0          0.0000   \n",
              "\n",
              "    neutral_score  \n",
              "0           1.000  \n",
              "1           1.000  \n",
              "2           1.000  \n",
              "3           0.270  \n",
              "4           1.000  \n",
              "5           0.385  \n",
              "6           1.000  \n",
              "7           0.196  \n",
              "8           1.000  \n",
              "9           1.000  \n",
              "10          1.000  \n",
              "11          0.323  \n",
              "12          1.000  \n",
              "13          1.000  \n",
              "14          0.196  \n",
              "15          1.000  \n",
              "16          0.256  \n",
              "17          1.000  \n",
              "18          0.208  \n",
              "19          1.000  "
            ],
            "text/html": [
              "\n",
              "  <div id=\"df-7ecc984f-7c4c-4c3c-866f-2a0ff1bbb464\">\n",
              "    <div class=\"colab-df-container\">\n",
              "      <div>\n",
              "<style scoped>\n",
              "    .dataframe tbody tr th:only-of-type {\n",
              "        vertical-align: middle;\n",
              "    }\n",
              "\n",
              "    .dataframe tbody tr th {\n",
              "        vertical-align: top;\n",
              "    }\n",
              "\n",
              "    .dataframe thead th {\n",
              "        text-align: right;\n",
              "    }\n",
              "</style>\n",
              "<table border=\"1\" class=\"dataframe\">\n",
              "  <thead>\n",
              "    <tr style=\"text-align: right;\">\n",
              "      <th></th>\n",
              "      <th>row_index</th>\n",
              "      <th>aspect_adj_string</th>\n",
              "      <th>pos_score</th>\n",
              "      <th>neg_score</th>\n",
              "      <th>compound_score</th>\n",
              "      <th>neutral_score</th>\n",
              "    </tr>\n",
              "  </thead>\n",
              "  <tbody>\n",
              "    <tr>\n",
              "      <th>0</th>\n",
              "      <td>0</td>\n",
              "      <td>old ones</td>\n",
              "      <td>0.000</td>\n",
              "      <td>0.0</td>\n",
              "      <td>0.0000</td>\n",
              "      <td>1.000</td>\n",
              "    </tr>\n",
              "    <tr>\n",
              "      <th>1</th>\n",
              "      <td>0</td>\n",
              "      <td>previous year</td>\n",
              "      <td>0.000</td>\n",
              "      <td>0.0</td>\n",
              "      <td>0.0000</td>\n",
              "      <td>1.000</td>\n",
              "    </tr>\n",
              "    <tr>\n",
              "      <th>2</th>\n",
              "      <td>0</td>\n",
              "      <td>still got</td>\n",
              "      <td>0.000</td>\n",
              "      <td>0.0</td>\n",
              "      <td>0.0000</td>\n",
              "      <td>1.000</td>\n",
              "    </tr>\n",
              "    <tr>\n",
              "      <th>3</th>\n",
              "      <td>0</td>\n",
              "      <td>definitely buy</td>\n",
              "      <td>0.730</td>\n",
              "      <td>0.0</td>\n",
              "      <td>0.4019</td>\n",
              "      <td>0.270</td>\n",
              "    </tr>\n",
              "    <tr>\n",
              "      <th>4</th>\n",
              "      <td>0</td>\n",
              "      <td>new catalogue</td>\n",
              "      <td>0.000</td>\n",
              "      <td>0.0</td>\n",
              "      <td>0.0000</td>\n",
              "      <td>1.000</td>\n",
              "    </tr>\n",
              "    <tr>\n",
              "      <th>5</th>\n",
              "      <td>0</td>\n",
              "      <td>Extremely useful insight</td>\n",
              "      <td>0.615</td>\n",
              "      <td>0.0</td>\n",
              "      <td>0.4927</td>\n",
              "      <td>0.385</td>\n",
              "    </tr>\n",
              "    <tr>\n",
              "      <th>6</th>\n",
              "      <td>0</td>\n",
              "      <td>same products</td>\n",
              "      <td>0.000</td>\n",
              "      <td>0.0</td>\n",
              "      <td>0.0000</td>\n",
              "      <td>1.000</td>\n",
              "    </tr>\n",
              "    <tr>\n",
              "      <th>7</th>\n",
              "      <td>0</td>\n",
              "      <td>Great catalogue</td>\n",
              "      <td>0.804</td>\n",
              "      <td>0.0</td>\n",
              "      <td>0.6249</td>\n",
              "      <td>0.196</td>\n",
              "    </tr>\n",
              "    <tr>\n",
              "      <th>8</th>\n",
              "      <td>0</td>\n",
              "      <td>arrived quickly</td>\n",
              "      <td>0.000</td>\n",
              "      <td>0.0</td>\n",
              "      <td>0.0000</td>\n",
              "      <td>1.000</td>\n",
              "    </tr>\n",
              "    <tr>\n",
              "      <th>9</th>\n",
              "      <td>0</td>\n",
              "      <td>even included</td>\n",
              "      <td>0.000</td>\n",
              "      <td>0.0</td>\n",
              "      <td>0.0000</td>\n",
              "      <td>1.000</td>\n",
              "    </tr>\n",
              "    <tr>\n",
              "      <th>10</th>\n",
              "      <td>0</td>\n",
              "      <td>look anytime</td>\n",
              "      <td>0.000</td>\n",
              "      <td>0.0</td>\n",
              "      <td>0.0000</td>\n",
              "      <td>1.000</td>\n",
              "    </tr>\n",
              "    <tr>\n",
              "      <th>11</th>\n",
              "      <td>0</td>\n",
              "      <td>well produced</td>\n",
              "      <td>0.677</td>\n",
              "      <td>0.0</td>\n",
              "      <td>0.2732</td>\n",
              "      <td>0.323</td>\n",
              "    </tr>\n",
              "    <tr>\n",
              "      <th>12</th>\n",
              "      <td>0</td>\n",
              "      <td>future presents</td>\n",
              "      <td>0.000</td>\n",
              "      <td>0.0</td>\n",
              "      <td>0.0000</td>\n",
              "      <td>1.000</td>\n",
              "    </tr>\n",
              "    <tr>\n",
              "      <th>13</th>\n",
              "      <td>0</td>\n",
              "      <td>many years</td>\n",
              "      <td>0.000</td>\n",
              "      <td>0.0</td>\n",
              "      <td>0.0000</td>\n",
              "      <td>1.000</td>\n",
              "    </tr>\n",
              "    <tr>\n",
              "      <th>14</th>\n",
              "      <td>0</td>\n",
              "      <td>great book</td>\n",
              "      <td>0.804</td>\n",
              "      <td>0.0</td>\n",
              "      <td>0.6249</td>\n",
              "      <td>0.196</td>\n",
              "    </tr>\n",
              "    <tr>\n",
              "      <th>15</th>\n",
              "      <td>0</td>\n",
              "      <td>particular era</td>\n",
              "      <td>0.000</td>\n",
              "      <td>0.0</td>\n",
              "      <td>0.0000</td>\n",
              "      <td>1.000</td>\n",
              "    </tr>\n",
              "    <tr>\n",
              "      <th>16</th>\n",
              "      <td>0</td>\n",
              "      <td>useful insight</td>\n",
              "      <td>0.744</td>\n",
              "      <td>0.0</td>\n",
              "      <td>0.4404</td>\n",
              "      <td>0.256</td>\n",
              "    </tr>\n",
              "    <tr>\n",
              "      <th>17</th>\n",
              "      <td>0</td>\n",
              "      <td>look online</td>\n",
              "      <td>0.000</td>\n",
              "      <td>0.0</td>\n",
              "      <td>0.0000</td>\n",
              "      <td>1.000</td>\n",
              "    </tr>\n",
              "    <tr>\n",
              "      <th>18</th>\n",
              "      <td>0</td>\n",
              "      <td>Amazing detail</td>\n",
              "      <td>0.792</td>\n",
              "      <td>0.0</td>\n",
              "      <td>0.5859</td>\n",
              "      <td>0.208</td>\n",
              "    </tr>\n",
              "    <tr>\n",
              "      <th>19</th>\n",
              "      <td>0</td>\n",
              "      <td>dating back</td>\n",
              "      <td>0.000</td>\n",
              "      <td>0.0</td>\n",
              "      <td>0.0000</td>\n",
              "      <td>1.000</td>\n",
              "    </tr>\n",
              "  </tbody>\n",
              "</table>\n",
              "</div>\n",
              "      <button class=\"colab-df-convert\" onclick=\"convertToInteractive('df-7ecc984f-7c4c-4c3c-866f-2a0ff1bbb464')\"\n",
              "              title=\"Convert this dataframe to an interactive table.\"\n",
              "              style=\"display:none;\">\n",
              "        \n",
              "  <svg xmlns=\"http://www.w3.org/2000/svg\" height=\"24px\"viewBox=\"0 0 24 24\"\n",
              "       width=\"24px\">\n",
              "    <path d=\"M0 0h24v24H0V0z\" fill=\"none\"/>\n",
              "    <path d=\"M18.56 5.44l.94 2.06.94-2.06 2.06-.94-2.06-.94-.94-2.06-.94 2.06-2.06.94zm-11 1L8.5 8.5l.94-2.06 2.06-.94-2.06-.94L8.5 2.5l-.94 2.06-2.06.94zm10 10l.94 2.06.94-2.06 2.06-.94-2.06-.94-.94-2.06-.94 2.06-2.06.94z\"/><path d=\"M17.41 7.96l-1.37-1.37c-.4-.4-.92-.59-1.43-.59-.52 0-1.04.2-1.43.59L10.3 9.45l-7.72 7.72c-.78.78-.78 2.05 0 2.83L4 21.41c.39.39.9.59 1.41.59.51 0 1.02-.2 1.41-.59l7.78-7.78 2.81-2.81c.8-.78.8-2.07 0-2.86zM5.41 20L4 18.59l7.72-7.72 1.47 1.35L5.41 20z\"/>\n",
              "  </svg>\n",
              "      </button>\n",
              "      \n",
              "  <style>\n",
              "    .colab-df-container {\n",
              "      display:flex;\n",
              "      flex-wrap:wrap;\n",
              "      gap: 12px;\n",
              "    }\n",
              "\n",
              "    .colab-df-convert {\n",
              "      background-color: #E8F0FE;\n",
              "      border: none;\n",
              "      border-radius: 50%;\n",
              "      cursor: pointer;\n",
              "      display: none;\n",
              "      fill: #1967D2;\n",
              "      height: 32px;\n",
              "      padding: 0 0 0 0;\n",
              "      width: 32px;\n",
              "    }\n",
              "\n",
              "    .colab-df-convert:hover {\n",
              "      background-color: #E2EBFA;\n",
              "      box-shadow: 0px 1px 2px rgba(60, 64, 67, 0.3), 0px 1px 3px 1px rgba(60, 64, 67, 0.15);\n",
              "      fill: #174EA6;\n",
              "    }\n",
              "\n",
              "    [theme=dark] .colab-df-convert {\n",
              "      background-color: #3B4455;\n",
              "      fill: #D2E3FC;\n",
              "    }\n",
              "\n",
              "    [theme=dark] .colab-df-convert:hover {\n",
              "      background-color: #434B5C;\n",
              "      box-shadow: 0px 1px 3px 1px rgba(0, 0, 0, 0.15);\n",
              "      filter: drop-shadow(0px 1px 2px rgba(0, 0, 0, 0.3));\n",
              "      fill: #FFFFFF;\n",
              "    }\n",
              "  </style>\n",
              "\n",
              "      <script>\n",
              "        const buttonEl =\n",
              "          document.querySelector('#df-7ecc984f-7c4c-4c3c-866f-2a0ff1bbb464 button.colab-df-convert');\n",
              "        buttonEl.style.display =\n",
              "          google.colab.kernel.accessAllowed ? 'block' : 'none';\n",
              "\n",
              "        async function convertToInteractive(key) {\n",
              "          const element = document.querySelector('#df-7ecc984f-7c4c-4c3c-866f-2a0ff1bbb464');\n",
              "          const dataTable =\n",
              "            await google.colab.kernel.invokeFunction('convertToInteractive',\n",
              "                                                     [key], {});\n",
              "          if (!dataTable) return;\n",
              "\n",
              "          const docLinkHtml = 'Like what you see? Visit the ' +\n",
              "            '<a target=\"_blank\" href=https://colab.research.google.com/notebooks/data_table.ipynb>data table notebook</a>'\n",
              "            + ' to learn more about interactive tables.';\n",
              "          element.innerHTML = '';\n",
              "          dataTable['output_type'] = 'display_data';\n",
              "          await google.colab.output.renderOutput(dataTable, element);\n",
              "          const docLink = document.createElement('div');\n",
              "          docLink.innerHTML = docLinkHtml;\n",
              "          element.appendChild(docLink);\n",
              "        }\n",
              "      </script>\n",
              "    </div>\n",
              "  </div>\n",
              "  "
            ]
          },
          "metadata": {},
          "execution_count": 31
        }
      ]
    },
    {
      "cell_type": "code",
      "source": [
        "final_df = my_df[((my_df['compound_score']>0.1) | (my_df['compound_score']< -0.1))]"
      ],
      "metadata": {
        "id": "oQrTLnY2MLuq"
      },
      "execution_count": 32,
      "outputs": []
    },
    {
      "cell_type": "code",
      "source": [
        "final_df[(final_df['compound_score']<0) & (final_df['pos_score']> final_df['neg_score'])]\n"
      ],
      "metadata": {
        "colab": {
          "base_uri": "https://localhost:8080/",
          "height": 49
        },
        "id": "XWClss1jMsCJ",
        "outputId": "acdd7fb3-f46f-4734-f81e-5150fc88091a"
      },
      "execution_count": 33,
      "outputs": [
        {
          "output_type": "execute_result",
          "data": {
            "text/plain": [
              "Empty DataFrame\n",
              "Columns: [row_index, aspect_adj_string, pos_score, neg_score, compound_score, neutral_score]\n",
              "Index: []"
            ],
            "text/html": [
              "\n",
              "  <div id=\"df-82904547-61be-40ba-bd9a-10863964c546\">\n",
              "    <div class=\"colab-df-container\">\n",
              "      <div>\n",
              "<style scoped>\n",
              "    .dataframe tbody tr th:only-of-type {\n",
              "        vertical-align: middle;\n",
              "    }\n",
              "\n",
              "    .dataframe tbody tr th {\n",
              "        vertical-align: top;\n",
              "    }\n",
              "\n",
              "    .dataframe thead th {\n",
              "        text-align: right;\n",
              "    }\n",
              "</style>\n",
              "<table border=\"1\" class=\"dataframe\">\n",
              "  <thead>\n",
              "    <tr style=\"text-align: right;\">\n",
              "      <th></th>\n",
              "      <th>row_index</th>\n",
              "      <th>aspect_adj_string</th>\n",
              "      <th>pos_score</th>\n",
              "      <th>neg_score</th>\n",
              "      <th>compound_score</th>\n",
              "      <th>neutral_score</th>\n",
              "    </tr>\n",
              "  </thead>\n",
              "  <tbody>\n",
              "  </tbody>\n",
              "</table>\n",
              "</div>\n",
              "      <button class=\"colab-df-convert\" onclick=\"convertToInteractive('df-82904547-61be-40ba-bd9a-10863964c546')\"\n",
              "              title=\"Convert this dataframe to an interactive table.\"\n",
              "              style=\"display:none;\">\n",
              "        \n",
              "  <svg xmlns=\"http://www.w3.org/2000/svg\" height=\"24px\"viewBox=\"0 0 24 24\"\n",
              "       width=\"24px\">\n",
              "    <path d=\"M0 0h24v24H0V0z\" fill=\"none\"/>\n",
              "    <path d=\"M18.56 5.44l.94 2.06.94-2.06 2.06-.94-2.06-.94-.94-2.06-.94 2.06-2.06.94zm-11 1L8.5 8.5l.94-2.06 2.06-.94-2.06-.94L8.5 2.5l-.94 2.06-2.06.94zm10 10l.94 2.06.94-2.06 2.06-.94-2.06-.94-.94-2.06-.94 2.06-2.06.94z\"/><path d=\"M17.41 7.96l-1.37-1.37c-.4-.4-.92-.59-1.43-.59-.52 0-1.04.2-1.43.59L10.3 9.45l-7.72 7.72c-.78.78-.78 2.05 0 2.83L4 21.41c.39.39.9.59 1.41.59.51 0 1.02-.2 1.41-.59l7.78-7.78 2.81-2.81c.8-.78.8-2.07 0-2.86zM5.41 20L4 18.59l7.72-7.72 1.47 1.35L5.41 20z\"/>\n",
              "  </svg>\n",
              "      </button>\n",
              "      \n",
              "  <style>\n",
              "    .colab-df-container {\n",
              "      display:flex;\n",
              "      flex-wrap:wrap;\n",
              "      gap: 12px;\n",
              "    }\n",
              "\n",
              "    .colab-df-convert {\n",
              "      background-color: #E8F0FE;\n",
              "      border: none;\n",
              "      border-radius: 50%;\n",
              "      cursor: pointer;\n",
              "      display: none;\n",
              "      fill: #1967D2;\n",
              "      height: 32px;\n",
              "      padding: 0 0 0 0;\n",
              "      width: 32px;\n",
              "    }\n",
              "\n",
              "    .colab-df-convert:hover {\n",
              "      background-color: #E2EBFA;\n",
              "      box-shadow: 0px 1px 2px rgba(60, 64, 67, 0.3), 0px 1px 3px 1px rgba(60, 64, 67, 0.15);\n",
              "      fill: #174EA6;\n",
              "    }\n",
              "\n",
              "    [theme=dark] .colab-df-convert {\n",
              "      background-color: #3B4455;\n",
              "      fill: #D2E3FC;\n",
              "    }\n",
              "\n",
              "    [theme=dark] .colab-df-convert:hover {\n",
              "      background-color: #434B5C;\n",
              "      box-shadow: 0px 1px 3px 1px rgba(0, 0, 0, 0.15);\n",
              "      filter: drop-shadow(0px 1px 2px rgba(0, 0, 0, 0.3));\n",
              "      fill: #FFFFFF;\n",
              "    }\n",
              "  </style>\n",
              "\n",
              "      <script>\n",
              "        const buttonEl =\n",
              "          document.querySelector('#df-82904547-61be-40ba-bd9a-10863964c546 button.colab-df-convert');\n",
              "        buttonEl.style.display =\n",
              "          google.colab.kernel.accessAllowed ? 'block' : 'none';\n",
              "\n",
              "        async function convertToInteractive(key) {\n",
              "          const element = document.querySelector('#df-82904547-61be-40ba-bd9a-10863964c546');\n",
              "          const dataTable =\n",
              "            await google.colab.kernel.invokeFunction('convertToInteractive',\n",
              "                                                     [key], {});\n",
              "          if (!dataTable) return;\n",
              "\n",
              "          const docLinkHtml = 'Like what you see? Visit the ' +\n",
              "            '<a target=\"_blank\" href=https://colab.research.google.com/notebooks/data_table.ipynb>data table notebook</a>'\n",
              "            + ' to learn more about interactive tables.';\n",
              "          element.innerHTML = '';\n",
              "          dataTable['output_type'] = 'display_data';\n",
              "          await google.colab.output.renderOutput(dataTable, element);\n",
              "          const docLink = document.createElement('div');\n",
              "          docLink.innerHTML = docLinkHtml;\n",
              "          element.appendChild(docLink);\n",
              "        }\n",
              "      </script>\n",
              "    </div>\n",
              "  </div>\n",
              "  "
            ]
          },
          "metadata": {},
          "execution_count": 33
        }
      ]
    },
    {
      "cell_type": "code",
      "source": [
        "final_df['final_sentiment'] = ['pos' if i>0 else 'neg' for i in final_df['compound_score']]"
      ],
      "metadata": {
        "id": "SMnxYseeMuew"
      },
      "execution_count": 34,
      "outputs": []
    },
    {
      "cell_type": "code",
      "source": [
        "final_df.head(50)"
      ],
      "metadata": {
        "colab": {
          "base_uri": "https://localhost:8080/",
          "height": 1000
        },
        "id": "O4AMG_wIMwGo",
        "outputId": "f63e63ac-a12e-496b-d5b7-e89266208d84"
      },
      "execution_count": 35,
      "outputs": [
        {
          "output_type": "execute_result",
          "data": {
            "text/plain": [
              "   row_index         aspect_adj_string  pos_score  neg_score  compound_score  \\\n",
              "3          0            definitely buy      0.730      0.000          0.4019   \n",
              "5          0  Extremely useful insight      0.615      0.000          0.4927   \n",
              "7          0           Great catalogue      0.804      0.000          0.6249   \n",
              "11         0             well produced      0.677      0.000          0.2732   \n",
              "14         0                great book      0.804      0.000          0.6249   \n",
              "16         0            useful insight      0.744      0.000          0.4404   \n",
              "18         0            Amazing detail      0.792      0.000          0.5859   \n",
              "20         0      fabulous photography      0.773      0.000          0.5267   \n",
              "21         0                  good buy      0.744      0.000          0.4404   \n",
              "22         0         perfect condition      0.787      0.000          0.5719   \n",
              "23         0             worthy manual      0.744      0.000          0.4404   \n",
              "28         0            good catalogue      0.744      0.000          0.4404   \n",
              "34         0       very good catalogue      0.615      0.000          0.4927   \n",
              "36         0               Useful info      0.744      0.000          0.4404   \n",
              "38         2           Better expected      0.744      0.000          0.4404   \n",
              "40         2         difficult to keep      0.000      0.556         -0.3612   \n",
              "41         2         really good value      0.854      0.000          0.7070   \n",
              "44         2        excellent delivery      0.787      0.000          0.5719   \n",
              "48         2               work Better      0.744      0.000          0.4404   \n",
              "51         2               Great value      1.000      0.000          0.7579   \n",
              "52         2          difficult to put      0.000      0.556         -0.3612   \n",
              "59         2           Brilliant train      0.792      0.000          0.5859   \n",
              "61         2             certain parts      0.677      0.000          0.2732   \n",
              "62         2         Excellent product      0.787      0.000          0.5719   \n",
              "63         2                good value      1.000      0.000          0.6486   \n",
              "65         2                simply cut      0.000      0.677         -0.2732   \n",
              "67         3           Again recommend      0.714      0.000          0.3612   \n",
              "68         4                good place      0.744      0.000          0.4404   \n",
              "71         4       courteous gentleman      0.767      0.000          0.5106   \n",
              "73         4          securely wrapped      0.706      0.000          0.3400   \n",
              "74         4           still recommend      0.714      0.000          0.3612   \n",
              "76         4           well engineered      0.677      0.000          0.2732   \n",
              "77         4                well boxed      0.677      0.000          0.2732   \n",
              "78         4          highly recommend      0.736      0.000          0.4201   \n",
              "79         4                 good body      0.744      0.000          0.4404   \n",
              "80         4          beautiful engine      0.796      0.000          0.5994   \n",
              "81         4               many thanks      0.744      0.000          0.4404   \n",
              "83         5                Good value      1.000      0.000          0.6486   \n",
              "86         6                good wagon      0.744      0.000          0.4404   \n",
              "87         7             Beautiful set      0.796      0.000          0.5994   \n",
              "88         7               Great price      0.804      0.000          0.6249   \n",
              "89         7           absolutely love      0.818      0.000          0.6697   \n",
              "90         7           Excellent value      1.000      0.000          0.7269   \n",
              "91         7                works well      0.677      0.000          0.2732   \n",
              "92         7                 good time      0.744      0.000          0.4404   \n",
              "93         7               top quality      0.643      0.000          0.2023   \n",
              "94         7           lovely cute set      0.872      0.000          0.7783   \n",
              "95         7            fantastic item      0.783      0.000          0.5574   \n",
              "96         7               Faulty item      0.000      0.697         -0.3182   \n",
              "98         7             Great present      0.804      0.000          0.6249   \n",
              "\n",
              "    neutral_score final_sentiment  \n",
              "3           0.270             pos  \n",
              "5           0.385             pos  \n",
              "7           0.196             pos  \n",
              "11          0.323             pos  \n",
              "14          0.196             pos  \n",
              "16          0.256             pos  \n",
              "18          0.208             pos  \n",
              "20          0.227             pos  \n",
              "21          0.256             pos  \n",
              "22          0.213             pos  \n",
              "23          0.256             pos  \n",
              "28          0.256             pos  \n",
              "34          0.385             pos  \n",
              "36          0.256             pos  \n",
              "38          0.256             pos  \n",
              "40          0.444             neg  \n",
              "41          0.146             pos  \n",
              "44          0.213             pos  \n",
              "48          0.256             pos  \n",
              "51          0.000             pos  \n",
              "52          0.444             neg  \n",
              "59          0.208             pos  \n",
              "61          0.323             pos  \n",
              "62          0.213             pos  \n",
              "63          0.000             pos  \n",
              "65          0.323             neg  \n",
              "67          0.286             pos  \n",
              "68          0.256             pos  \n",
              "71          0.233             pos  \n",
              "73          0.294             pos  \n",
              "74          0.286             pos  \n",
              "76          0.323             pos  \n",
              "77          0.323             pos  \n",
              "78          0.264             pos  \n",
              "79          0.256             pos  \n",
              "80          0.204             pos  \n",
              "81          0.256             pos  \n",
              "83          0.000             pos  \n",
              "86          0.256             pos  \n",
              "87          0.204             pos  \n",
              "88          0.196             pos  \n",
              "89          0.182             pos  \n",
              "90          0.000             pos  \n",
              "91          0.323             pos  \n",
              "92          0.256             pos  \n",
              "93          0.357             pos  \n",
              "94          0.128             pos  \n",
              "95          0.217             pos  \n",
              "96          0.303             neg  \n",
              "98          0.196             pos  "
            ],
            "text/html": [
              "\n",
              "  <div id=\"df-11b7bac3-0a83-4ea8-afea-fef05d243058\">\n",
              "    <div class=\"colab-df-container\">\n",
              "      <div>\n",
              "<style scoped>\n",
              "    .dataframe tbody tr th:only-of-type {\n",
              "        vertical-align: middle;\n",
              "    }\n",
              "\n",
              "    .dataframe tbody tr th {\n",
              "        vertical-align: top;\n",
              "    }\n",
              "\n",
              "    .dataframe thead th {\n",
              "        text-align: right;\n",
              "    }\n",
              "</style>\n",
              "<table border=\"1\" class=\"dataframe\">\n",
              "  <thead>\n",
              "    <tr style=\"text-align: right;\">\n",
              "      <th></th>\n",
              "      <th>row_index</th>\n",
              "      <th>aspect_adj_string</th>\n",
              "      <th>pos_score</th>\n",
              "      <th>neg_score</th>\n",
              "      <th>compound_score</th>\n",
              "      <th>neutral_score</th>\n",
              "      <th>final_sentiment</th>\n",
              "    </tr>\n",
              "  </thead>\n",
              "  <tbody>\n",
              "    <tr>\n",
              "      <th>3</th>\n",
              "      <td>0</td>\n",
              "      <td>definitely buy</td>\n",
              "      <td>0.730</td>\n",
              "      <td>0.000</td>\n",
              "      <td>0.4019</td>\n",
              "      <td>0.270</td>\n",
              "      <td>pos</td>\n",
              "    </tr>\n",
              "    <tr>\n",
              "      <th>5</th>\n",
              "      <td>0</td>\n",
              "      <td>Extremely useful insight</td>\n",
              "      <td>0.615</td>\n",
              "      <td>0.000</td>\n",
              "      <td>0.4927</td>\n",
              "      <td>0.385</td>\n",
              "      <td>pos</td>\n",
              "    </tr>\n",
              "    <tr>\n",
              "      <th>7</th>\n",
              "      <td>0</td>\n",
              "      <td>Great catalogue</td>\n",
              "      <td>0.804</td>\n",
              "      <td>0.000</td>\n",
              "      <td>0.6249</td>\n",
              "      <td>0.196</td>\n",
              "      <td>pos</td>\n",
              "    </tr>\n",
              "    <tr>\n",
              "      <th>11</th>\n",
              "      <td>0</td>\n",
              "      <td>well produced</td>\n",
              "      <td>0.677</td>\n",
              "      <td>0.000</td>\n",
              "      <td>0.2732</td>\n",
              "      <td>0.323</td>\n",
              "      <td>pos</td>\n",
              "    </tr>\n",
              "    <tr>\n",
              "      <th>14</th>\n",
              "      <td>0</td>\n",
              "      <td>great book</td>\n",
              "      <td>0.804</td>\n",
              "      <td>0.000</td>\n",
              "      <td>0.6249</td>\n",
              "      <td>0.196</td>\n",
              "      <td>pos</td>\n",
              "    </tr>\n",
              "    <tr>\n",
              "      <th>16</th>\n",
              "      <td>0</td>\n",
              "      <td>useful insight</td>\n",
              "      <td>0.744</td>\n",
              "      <td>0.000</td>\n",
              "      <td>0.4404</td>\n",
              "      <td>0.256</td>\n",
              "      <td>pos</td>\n",
              "    </tr>\n",
              "    <tr>\n",
              "      <th>18</th>\n",
              "      <td>0</td>\n",
              "      <td>Amazing detail</td>\n",
              "      <td>0.792</td>\n",
              "      <td>0.000</td>\n",
              "      <td>0.5859</td>\n",
              "      <td>0.208</td>\n",
              "      <td>pos</td>\n",
              "    </tr>\n",
              "    <tr>\n",
              "      <th>20</th>\n",
              "      <td>0</td>\n",
              "      <td>fabulous photography</td>\n",
              "      <td>0.773</td>\n",
              "      <td>0.000</td>\n",
              "      <td>0.5267</td>\n",
              "      <td>0.227</td>\n",
              "      <td>pos</td>\n",
              "    </tr>\n",
              "    <tr>\n",
              "      <th>21</th>\n",
              "      <td>0</td>\n",
              "      <td>good buy</td>\n",
              "      <td>0.744</td>\n",
              "      <td>0.000</td>\n",
              "      <td>0.4404</td>\n",
              "      <td>0.256</td>\n",
              "      <td>pos</td>\n",
              "    </tr>\n",
              "    <tr>\n",
              "      <th>22</th>\n",
              "      <td>0</td>\n",
              "      <td>perfect condition</td>\n",
              "      <td>0.787</td>\n",
              "      <td>0.000</td>\n",
              "      <td>0.5719</td>\n",
              "      <td>0.213</td>\n",
              "      <td>pos</td>\n",
              "    </tr>\n",
              "    <tr>\n",
              "      <th>23</th>\n",
              "      <td>0</td>\n",
              "      <td>worthy manual</td>\n",
              "      <td>0.744</td>\n",
              "      <td>0.000</td>\n",
              "      <td>0.4404</td>\n",
              "      <td>0.256</td>\n",
              "      <td>pos</td>\n",
              "    </tr>\n",
              "    <tr>\n",
              "      <th>28</th>\n",
              "      <td>0</td>\n",
              "      <td>good catalogue</td>\n",
              "      <td>0.744</td>\n",
              "      <td>0.000</td>\n",
              "      <td>0.4404</td>\n",
              "      <td>0.256</td>\n",
              "      <td>pos</td>\n",
              "    </tr>\n",
              "    <tr>\n",
              "      <th>34</th>\n",
              "      <td>0</td>\n",
              "      <td>very good catalogue</td>\n",
              "      <td>0.615</td>\n",
              "      <td>0.000</td>\n",
              "      <td>0.4927</td>\n",
              "      <td>0.385</td>\n",
              "      <td>pos</td>\n",
              "    </tr>\n",
              "    <tr>\n",
              "      <th>36</th>\n",
              "      <td>0</td>\n",
              "      <td>Useful info</td>\n",
              "      <td>0.744</td>\n",
              "      <td>0.000</td>\n",
              "      <td>0.4404</td>\n",
              "      <td>0.256</td>\n",
              "      <td>pos</td>\n",
              "    </tr>\n",
              "    <tr>\n",
              "      <th>38</th>\n",
              "      <td>2</td>\n",
              "      <td>Better expected</td>\n",
              "      <td>0.744</td>\n",
              "      <td>0.000</td>\n",
              "      <td>0.4404</td>\n",
              "      <td>0.256</td>\n",
              "      <td>pos</td>\n",
              "    </tr>\n",
              "    <tr>\n",
              "      <th>40</th>\n",
              "      <td>2</td>\n",
              "      <td>difficult to keep</td>\n",
              "      <td>0.000</td>\n",
              "      <td>0.556</td>\n",
              "      <td>-0.3612</td>\n",
              "      <td>0.444</td>\n",
              "      <td>neg</td>\n",
              "    </tr>\n",
              "    <tr>\n",
              "      <th>41</th>\n",
              "      <td>2</td>\n",
              "      <td>really good value</td>\n",
              "      <td>0.854</td>\n",
              "      <td>0.000</td>\n",
              "      <td>0.7070</td>\n",
              "      <td>0.146</td>\n",
              "      <td>pos</td>\n",
              "    </tr>\n",
              "    <tr>\n",
              "      <th>44</th>\n",
              "      <td>2</td>\n",
              "      <td>excellent delivery</td>\n",
              "      <td>0.787</td>\n",
              "      <td>0.000</td>\n",
              "      <td>0.5719</td>\n",
              "      <td>0.213</td>\n",
              "      <td>pos</td>\n",
              "    </tr>\n",
              "    <tr>\n",
              "      <th>48</th>\n",
              "      <td>2</td>\n",
              "      <td>work Better</td>\n",
              "      <td>0.744</td>\n",
              "      <td>0.000</td>\n",
              "      <td>0.4404</td>\n",
              "      <td>0.256</td>\n",
              "      <td>pos</td>\n",
              "    </tr>\n",
              "    <tr>\n",
              "      <th>51</th>\n",
              "      <td>2</td>\n",
              "      <td>Great value</td>\n",
              "      <td>1.000</td>\n",
              "      <td>0.000</td>\n",
              "      <td>0.7579</td>\n",
              "      <td>0.000</td>\n",
              "      <td>pos</td>\n",
              "    </tr>\n",
              "    <tr>\n",
              "      <th>52</th>\n",
              "      <td>2</td>\n",
              "      <td>difficult to put</td>\n",
              "      <td>0.000</td>\n",
              "      <td>0.556</td>\n",
              "      <td>-0.3612</td>\n",
              "      <td>0.444</td>\n",
              "      <td>neg</td>\n",
              "    </tr>\n",
              "    <tr>\n",
              "      <th>59</th>\n",
              "      <td>2</td>\n",
              "      <td>Brilliant train</td>\n",
              "      <td>0.792</td>\n",
              "      <td>0.000</td>\n",
              "      <td>0.5859</td>\n",
              "      <td>0.208</td>\n",
              "      <td>pos</td>\n",
              "    </tr>\n",
              "    <tr>\n",
              "      <th>61</th>\n",
              "      <td>2</td>\n",
              "      <td>certain parts</td>\n",
              "      <td>0.677</td>\n",
              "      <td>0.000</td>\n",
              "      <td>0.2732</td>\n",
              "      <td>0.323</td>\n",
              "      <td>pos</td>\n",
              "    </tr>\n",
              "    <tr>\n",
              "      <th>62</th>\n",
              "      <td>2</td>\n",
              "      <td>Excellent product</td>\n",
              "      <td>0.787</td>\n",
              "      <td>0.000</td>\n",
              "      <td>0.5719</td>\n",
              "      <td>0.213</td>\n",
              "      <td>pos</td>\n",
              "    </tr>\n",
              "    <tr>\n",
              "      <th>63</th>\n",
              "      <td>2</td>\n",
              "      <td>good value</td>\n",
              "      <td>1.000</td>\n",
              "      <td>0.000</td>\n",
              "      <td>0.6486</td>\n",
              "      <td>0.000</td>\n",
              "      <td>pos</td>\n",
              "    </tr>\n",
              "    <tr>\n",
              "      <th>65</th>\n",
              "      <td>2</td>\n",
              "      <td>simply cut</td>\n",
              "      <td>0.000</td>\n",
              "      <td>0.677</td>\n",
              "      <td>-0.2732</td>\n",
              "      <td>0.323</td>\n",
              "      <td>neg</td>\n",
              "    </tr>\n",
              "    <tr>\n",
              "      <th>67</th>\n",
              "      <td>3</td>\n",
              "      <td>Again recommend</td>\n",
              "      <td>0.714</td>\n",
              "      <td>0.000</td>\n",
              "      <td>0.3612</td>\n",
              "      <td>0.286</td>\n",
              "      <td>pos</td>\n",
              "    </tr>\n",
              "    <tr>\n",
              "      <th>68</th>\n",
              "      <td>4</td>\n",
              "      <td>good place</td>\n",
              "      <td>0.744</td>\n",
              "      <td>0.000</td>\n",
              "      <td>0.4404</td>\n",
              "      <td>0.256</td>\n",
              "      <td>pos</td>\n",
              "    </tr>\n",
              "    <tr>\n",
              "      <th>71</th>\n",
              "      <td>4</td>\n",
              "      <td>courteous gentleman</td>\n",
              "      <td>0.767</td>\n",
              "      <td>0.000</td>\n",
              "      <td>0.5106</td>\n",
              "      <td>0.233</td>\n",
              "      <td>pos</td>\n",
              "    </tr>\n",
              "    <tr>\n",
              "      <th>73</th>\n",
              "      <td>4</td>\n",
              "      <td>securely wrapped</td>\n",
              "      <td>0.706</td>\n",
              "      <td>0.000</td>\n",
              "      <td>0.3400</td>\n",
              "      <td>0.294</td>\n",
              "      <td>pos</td>\n",
              "    </tr>\n",
              "    <tr>\n",
              "      <th>74</th>\n",
              "      <td>4</td>\n",
              "      <td>still recommend</td>\n",
              "      <td>0.714</td>\n",
              "      <td>0.000</td>\n",
              "      <td>0.3612</td>\n",
              "      <td>0.286</td>\n",
              "      <td>pos</td>\n",
              "    </tr>\n",
              "    <tr>\n",
              "      <th>76</th>\n",
              "      <td>4</td>\n",
              "      <td>well engineered</td>\n",
              "      <td>0.677</td>\n",
              "      <td>0.000</td>\n",
              "      <td>0.2732</td>\n",
              "      <td>0.323</td>\n",
              "      <td>pos</td>\n",
              "    </tr>\n",
              "    <tr>\n",
              "      <th>77</th>\n",
              "      <td>4</td>\n",
              "      <td>well boxed</td>\n",
              "      <td>0.677</td>\n",
              "      <td>0.000</td>\n",
              "      <td>0.2732</td>\n",
              "      <td>0.323</td>\n",
              "      <td>pos</td>\n",
              "    </tr>\n",
              "    <tr>\n",
              "      <th>78</th>\n",
              "      <td>4</td>\n",
              "      <td>highly recommend</td>\n",
              "      <td>0.736</td>\n",
              "      <td>0.000</td>\n",
              "      <td>0.4201</td>\n",
              "      <td>0.264</td>\n",
              "      <td>pos</td>\n",
              "    </tr>\n",
              "    <tr>\n",
              "      <th>79</th>\n",
              "      <td>4</td>\n",
              "      <td>good body</td>\n",
              "      <td>0.744</td>\n",
              "      <td>0.000</td>\n",
              "      <td>0.4404</td>\n",
              "      <td>0.256</td>\n",
              "      <td>pos</td>\n",
              "    </tr>\n",
              "    <tr>\n",
              "      <th>80</th>\n",
              "      <td>4</td>\n",
              "      <td>beautiful engine</td>\n",
              "      <td>0.796</td>\n",
              "      <td>0.000</td>\n",
              "      <td>0.5994</td>\n",
              "      <td>0.204</td>\n",
              "      <td>pos</td>\n",
              "    </tr>\n",
              "    <tr>\n",
              "      <th>81</th>\n",
              "      <td>4</td>\n",
              "      <td>many thanks</td>\n",
              "      <td>0.744</td>\n",
              "      <td>0.000</td>\n",
              "      <td>0.4404</td>\n",
              "      <td>0.256</td>\n",
              "      <td>pos</td>\n",
              "    </tr>\n",
              "    <tr>\n",
              "      <th>83</th>\n",
              "      <td>5</td>\n",
              "      <td>Good value</td>\n",
              "      <td>1.000</td>\n",
              "      <td>0.000</td>\n",
              "      <td>0.6486</td>\n",
              "      <td>0.000</td>\n",
              "      <td>pos</td>\n",
              "    </tr>\n",
              "    <tr>\n",
              "      <th>86</th>\n",
              "      <td>6</td>\n",
              "      <td>good wagon</td>\n",
              "      <td>0.744</td>\n",
              "      <td>0.000</td>\n",
              "      <td>0.4404</td>\n",
              "      <td>0.256</td>\n",
              "      <td>pos</td>\n",
              "    </tr>\n",
              "    <tr>\n",
              "      <th>87</th>\n",
              "      <td>7</td>\n",
              "      <td>Beautiful set</td>\n",
              "      <td>0.796</td>\n",
              "      <td>0.000</td>\n",
              "      <td>0.5994</td>\n",
              "      <td>0.204</td>\n",
              "      <td>pos</td>\n",
              "    </tr>\n",
              "    <tr>\n",
              "      <th>88</th>\n",
              "      <td>7</td>\n",
              "      <td>Great price</td>\n",
              "      <td>0.804</td>\n",
              "      <td>0.000</td>\n",
              "      <td>0.6249</td>\n",
              "      <td>0.196</td>\n",
              "      <td>pos</td>\n",
              "    </tr>\n",
              "    <tr>\n",
              "      <th>89</th>\n",
              "      <td>7</td>\n",
              "      <td>absolutely love</td>\n",
              "      <td>0.818</td>\n",
              "      <td>0.000</td>\n",
              "      <td>0.6697</td>\n",
              "      <td>0.182</td>\n",
              "      <td>pos</td>\n",
              "    </tr>\n",
              "    <tr>\n",
              "      <th>90</th>\n",
              "      <td>7</td>\n",
              "      <td>Excellent value</td>\n",
              "      <td>1.000</td>\n",
              "      <td>0.000</td>\n",
              "      <td>0.7269</td>\n",
              "      <td>0.000</td>\n",
              "      <td>pos</td>\n",
              "    </tr>\n",
              "    <tr>\n",
              "      <th>91</th>\n",
              "      <td>7</td>\n",
              "      <td>works well</td>\n",
              "      <td>0.677</td>\n",
              "      <td>0.000</td>\n",
              "      <td>0.2732</td>\n",
              "      <td>0.323</td>\n",
              "      <td>pos</td>\n",
              "    </tr>\n",
              "    <tr>\n",
              "      <th>92</th>\n",
              "      <td>7</td>\n",
              "      <td>good time</td>\n",
              "      <td>0.744</td>\n",
              "      <td>0.000</td>\n",
              "      <td>0.4404</td>\n",
              "      <td>0.256</td>\n",
              "      <td>pos</td>\n",
              "    </tr>\n",
              "    <tr>\n",
              "      <th>93</th>\n",
              "      <td>7</td>\n",
              "      <td>top quality</td>\n",
              "      <td>0.643</td>\n",
              "      <td>0.000</td>\n",
              "      <td>0.2023</td>\n",
              "      <td>0.357</td>\n",
              "      <td>pos</td>\n",
              "    </tr>\n",
              "    <tr>\n",
              "      <th>94</th>\n",
              "      <td>7</td>\n",
              "      <td>lovely cute set</td>\n",
              "      <td>0.872</td>\n",
              "      <td>0.000</td>\n",
              "      <td>0.7783</td>\n",
              "      <td>0.128</td>\n",
              "      <td>pos</td>\n",
              "    </tr>\n",
              "    <tr>\n",
              "      <th>95</th>\n",
              "      <td>7</td>\n",
              "      <td>fantastic item</td>\n",
              "      <td>0.783</td>\n",
              "      <td>0.000</td>\n",
              "      <td>0.5574</td>\n",
              "      <td>0.217</td>\n",
              "      <td>pos</td>\n",
              "    </tr>\n",
              "    <tr>\n",
              "      <th>96</th>\n",
              "      <td>7</td>\n",
              "      <td>Faulty item</td>\n",
              "      <td>0.000</td>\n",
              "      <td>0.697</td>\n",
              "      <td>-0.3182</td>\n",
              "      <td>0.303</td>\n",
              "      <td>neg</td>\n",
              "    </tr>\n",
              "    <tr>\n",
              "      <th>98</th>\n",
              "      <td>7</td>\n",
              "      <td>Great present</td>\n",
              "      <td>0.804</td>\n",
              "      <td>0.000</td>\n",
              "      <td>0.6249</td>\n",
              "      <td>0.196</td>\n",
              "      <td>pos</td>\n",
              "    </tr>\n",
              "  </tbody>\n",
              "</table>\n",
              "</div>\n",
              "      <button class=\"colab-df-convert\" onclick=\"convertToInteractive('df-11b7bac3-0a83-4ea8-afea-fef05d243058')\"\n",
              "              title=\"Convert this dataframe to an interactive table.\"\n",
              "              style=\"display:none;\">\n",
              "        \n",
              "  <svg xmlns=\"http://www.w3.org/2000/svg\" height=\"24px\"viewBox=\"0 0 24 24\"\n",
              "       width=\"24px\">\n",
              "    <path d=\"M0 0h24v24H0V0z\" fill=\"none\"/>\n",
              "    <path d=\"M18.56 5.44l.94 2.06.94-2.06 2.06-.94-2.06-.94-.94-2.06-.94 2.06-2.06.94zm-11 1L8.5 8.5l.94-2.06 2.06-.94-2.06-.94L8.5 2.5l-.94 2.06-2.06.94zm10 10l.94 2.06.94-2.06 2.06-.94-2.06-.94-.94-2.06-.94 2.06-2.06.94z\"/><path d=\"M17.41 7.96l-1.37-1.37c-.4-.4-.92-.59-1.43-.59-.52 0-1.04.2-1.43.59L10.3 9.45l-7.72 7.72c-.78.78-.78 2.05 0 2.83L4 21.41c.39.39.9.59 1.41.59.51 0 1.02-.2 1.41-.59l7.78-7.78 2.81-2.81c.8-.78.8-2.07 0-2.86zM5.41 20L4 18.59l7.72-7.72 1.47 1.35L5.41 20z\"/>\n",
              "  </svg>\n",
              "      </button>\n",
              "      \n",
              "  <style>\n",
              "    .colab-df-container {\n",
              "      display:flex;\n",
              "      flex-wrap:wrap;\n",
              "      gap: 12px;\n",
              "    }\n",
              "\n",
              "    .colab-df-convert {\n",
              "      background-color: #E8F0FE;\n",
              "      border: none;\n",
              "      border-radius: 50%;\n",
              "      cursor: pointer;\n",
              "      display: none;\n",
              "      fill: #1967D2;\n",
              "      height: 32px;\n",
              "      padding: 0 0 0 0;\n",
              "      width: 32px;\n",
              "    }\n",
              "\n",
              "    .colab-df-convert:hover {\n",
              "      background-color: #E2EBFA;\n",
              "      box-shadow: 0px 1px 2px rgba(60, 64, 67, 0.3), 0px 1px 3px 1px rgba(60, 64, 67, 0.15);\n",
              "      fill: #174EA6;\n",
              "    }\n",
              "\n",
              "    [theme=dark] .colab-df-convert {\n",
              "      background-color: #3B4455;\n",
              "      fill: #D2E3FC;\n",
              "    }\n",
              "\n",
              "    [theme=dark] .colab-df-convert:hover {\n",
              "      background-color: #434B5C;\n",
              "      box-shadow: 0px 1px 3px 1px rgba(0, 0, 0, 0.15);\n",
              "      filter: drop-shadow(0px 1px 2px rgba(0, 0, 0, 0.3));\n",
              "      fill: #FFFFFF;\n",
              "    }\n",
              "  </style>\n",
              "\n",
              "      <script>\n",
              "        const buttonEl =\n",
              "          document.querySelector('#df-11b7bac3-0a83-4ea8-afea-fef05d243058 button.colab-df-convert');\n",
              "        buttonEl.style.display =\n",
              "          google.colab.kernel.accessAllowed ? 'block' : 'none';\n",
              "\n",
              "        async function convertToInteractive(key) {\n",
              "          const element = document.querySelector('#df-11b7bac3-0a83-4ea8-afea-fef05d243058');\n",
              "          const dataTable =\n",
              "            await google.colab.kernel.invokeFunction('convertToInteractive',\n",
              "                                                     [key], {});\n",
              "          if (!dataTable) return;\n",
              "\n",
              "          const docLinkHtml = 'Like what you see? Visit the ' +\n",
              "            '<a target=\"_blank\" href=https://colab.research.google.com/notebooks/data_table.ipynb>data table notebook</a>'\n",
              "            + ' to learn more about interactive tables.';\n",
              "          element.innerHTML = '';\n",
              "          dataTable['output_type'] = 'display_data';\n",
              "          await google.colab.output.renderOutput(dataTable, element);\n",
              "          const docLink = document.createElement('div');\n",
              "          docLink.innerHTML = docLinkHtml;\n",
              "          element.appendChild(docLink);\n",
              "        }\n",
              "      </script>\n",
              "    </div>\n",
              "  </div>\n",
              "  "
            ]
          },
          "metadata": {},
          "execution_count": 35
        }
      ]
    },
    {
      "cell_type": "code",
      "source": [
        "final_df['row_index'].value_counts()"
      ],
      "metadata": {
        "colab": {
          "base_uri": "https://localhost:8080/"
        },
        "id": "eg469WOBLFCv",
        "outputId": "9c4fab4d-853c-461f-a296-d5beb4862534"
      },
      "execution_count": 36,
      "outputs": [
        {
          "output_type": "execute_result",
          "data": {
            "text/plain": [
              "9654    49\n",
              "1125    44\n",
              "9639    43\n",
              "9209    42\n",
              "4861    40\n",
              "        ..\n",
              "6501     1\n",
              "3963     1\n",
              "6502     1\n",
              "615      1\n",
              "6414     1\n",
              "Name: row_index, Length: 7974, dtype: int64"
            ]
          },
          "metadata": {},
          "execution_count": 36
        }
      ]
    },
    {
      "cell_type": "code",
      "source": [
        "final_df.shape"
      ],
      "metadata": {
        "colab": {
          "base_uri": "https://localhost:8080/"
        },
        "id": "LErHIbEjNFxd",
        "outputId": "9b0baa73-a2e5-433b-9d84-fe844f25870e"
      },
      "execution_count": 37,
      "outputs": [
        {
          "output_type": "execute_result",
          "data": {
            "text/plain": [
              "(46965, 7)"
            ]
          },
          "metadata": {},
          "execution_count": 37
        }
      ]
    },
    {
      "cell_type": "code",
      "source": [
        "# final_df.to_csv('/content/drive/MyDrive/WALMART/CAPSTONE project/Data/Temp data/sentiment_final_df.csv')"
      ],
      "metadata": {
        "id": "Oia95t_BMyXT"
      },
      "execution_count": null,
      "outputs": []
    },
    {
      "cell_type": "markdown",
      "source": [
        "## aspect opinion extraction"
      ],
      "metadata": {
        "id": "PLMHpEeGQgF-"
      }
    },
    {
      "cell_type": "markdown",
      "source": [
        "- After implementing this method, I realized it won't be useful for what I'm looking for"
      ],
      "metadata": {
        "id": "4SXbL7HnZv6t"
      }
    },
    {
      "cell_type": "markdown",
      "source": [
        "#### Reference"
      ],
      "metadata": {
        "id": "-bvHvC6WqZYa"
      }
    },
    {
      "cell_type": "markdown",
      "source": [
        "https://www.kaggle.com/code/anuragghosh/aspect-opinion-extraction-and-modelling"
      ],
      "metadata": {
        "id": "CeFEyfbhqdK2"
      }
    },
    {
      "cell_type": "code",
      "source": [
        "import json\n",
        "import os\n",
        "import numpy as np\n",
        "import pandas as pd\n",
        "from tqdm import tqdm\n",
        "import re\n",
        "import string\n",
        "import nltk\n",
        "from nltk.corpus import stopwords\n",
        "import spacy\n",
        "from nltk.sentiment.vader import SentimentIntensityAnalyzer\n",
        "from collections import Counter "
      ],
      "metadata": {
        "colab": {
          "base_uri": "https://localhost:8080/"
        },
        "id": "l0GZUmOwQn55",
        "outputId": "c29d3d74-7e9a-47bb-d1a5-06eb28c62dec"
      },
      "execution_count": null,
      "outputs": [
        {
          "output_type": "stream",
          "name": "stderr",
          "text": [
            "/usr/local/lib/python3.8/dist-packages/torch/cuda/__init__.py:497: UserWarning: Can't initialize NVML\n",
            "  warnings.warn(\"Can't initialize NVML\")\n"
          ]
        }
      ]
    },
    {
      "cell_type": "code",
      "source": [
        "df = pd.read_csv('/content/drive/MyDrive/WALMART/CAPSTONE project/Data/cleaned_data.csv')"
      ],
      "metadata": {
        "id": "tanLday_VB_d"
      },
      "execution_count": null,
      "outputs": []
    },
    {
      "cell_type": "code",
      "source": [
        "data5 = pd.DataFrame(df[['customer_reviews']])"
      ],
      "metadata": {
        "id": "RXppiajGVB_e"
      },
      "execution_count": null,
      "outputs": []
    },
    {
      "cell_type": "code",
      "source": [
        "data5 = data5.rename(columns = {'customer_reviews':'review_body'})"
      ],
      "metadata": {
        "id": "o58jHcDvVB_e"
      },
      "execution_count": null,
      "outputs": []
    },
    {
      "cell_type": "code",
      "source": [
        "data = data5.sample(frac = 0.1, random_state = 42)"
      ],
      "metadata": {
        "id": "d9O6udozVDJT"
      },
      "execution_count": null,
      "outputs": []
    },
    {
      "cell_type": "code",
      "source": [
        "data.dropna(inplace = True)"
      ],
      "metadata": {
        "id": "atCYEoMaVDMo"
      },
      "execution_count": null,
      "outputs": []
    },
    {
      "cell_type": "code",
      "source": [
        "data = data.reset_index()"
      ],
      "metadata": {
        "id": "sAgMTp55VDPc"
      },
      "execution_count": null,
      "outputs": []
    },
    {
      "cell_type": "code",
      "source": [
        "data = data.drop(columns = ['index'])"
      ],
      "metadata": {
        "id": "oE1KTZVigCOR"
      },
      "execution_count": null,
      "outputs": []
    },
    {
      "cell_type": "code",
      "source": [
        "data"
      ],
      "metadata": {
        "colab": {
          "base_uri": "https://localhost:8080/",
          "height": 424
        },
        "id": "_Pw92f9ygNk5",
        "outputId": "874b0124-7f00-4642-8b2d-9fae7e6fb53e"
      },
      "execution_count": null,
      "outputs": [
        {
          "output_type": "execute_result",
          "data": {
            "text/plain": [
              "                                           review_body\n",
              "0    Perfect // 5.0 // 25 Nov. 2015 // By\\n    \\n  ...\n",
              "1    He is now living with three little knitted pig...\n",
              "2    Five Stars // 5.0 // 25 Oct. 2015 // By\\n    \\...\n",
              "3    Lovely classroom resource // 4.0 // 22 Nov. 20...\n",
              "4    Absolutely perfect!! // 5.0 // 14 Dec. 2015 //...\n",
              "..                                                 ...\n",
              "993  Five Stars // 5.0 // 4 Nov. 2015 // By\\n    \\n...\n",
              "994  Great Draw // 5.0 // 23 Feb. 2011 // By\\n    \\...\n",
              "995  Very pleased with how it all looked On // 5.0 ...\n",
              "996  Realistic tattoo sleeves - very well printed d...\n",
              "997  Adds a new level of complexity for 4 year olds...\n",
              "\n",
              "[998 rows x 1 columns]"
            ],
            "text/html": [
              "\n",
              "  <div id=\"df-34dacc6a-b89e-44d4-851c-fa2d791c4152\">\n",
              "    <div class=\"colab-df-container\">\n",
              "      <div>\n",
              "<style scoped>\n",
              "    .dataframe tbody tr th:only-of-type {\n",
              "        vertical-align: middle;\n",
              "    }\n",
              "\n",
              "    .dataframe tbody tr th {\n",
              "        vertical-align: top;\n",
              "    }\n",
              "\n",
              "    .dataframe thead th {\n",
              "        text-align: right;\n",
              "    }\n",
              "</style>\n",
              "<table border=\"1\" class=\"dataframe\">\n",
              "  <thead>\n",
              "    <tr style=\"text-align: right;\">\n",
              "      <th></th>\n",
              "      <th>review_body</th>\n",
              "    </tr>\n",
              "  </thead>\n",
              "  <tbody>\n",
              "    <tr>\n",
              "      <th>0</th>\n",
              "      <td>Perfect // 5.0 // 25 Nov. 2015 // By\\n    \\n  ...</td>\n",
              "    </tr>\n",
              "    <tr>\n",
              "      <th>1</th>\n",
              "      <td>He is now living with three little knitted pig...</td>\n",
              "    </tr>\n",
              "    <tr>\n",
              "      <th>2</th>\n",
              "      <td>Five Stars // 5.0 // 25 Oct. 2015 // By\\n    \\...</td>\n",
              "    </tr>\n",
              "    <tr>\n",
              "      <th>3</th>\n",
              "      <td>Lovely classroom resource // 4.0 // 22 Nov. 20...</td>\n",
              "    </tr>\n",
              "    <tr>\n",
              "      <th>4</th>\n",
              "      <td>Absolutely perfect!! // 5.0 // 14 Dec. 2015 //...</td>\n",
              "    </tr>\n",
              "    <tr>\n",
              "      <th>...</th>\n",
              "      <td>...</td>\n",
              "    </tr>\n",
              "    <tr>\n",
              "      <th>993</th>\n",
              "      <td>Five Stars // 5.0 // 4 Nov. 2015 // By\\n    \\n...</td>\n",
              "    </tr>\n",
              "    <tr>\n",
              "      <th>994</th>\n",
              "      <td>Great Draw // 5.0 // 23 Feb. 2011 // By\\n    \\...</td>\n",
              "    </tr>\n",
              "    <tr>\n",
              "      <th>995</th>\n",
              "      <td>Very pleased with how it all looked On // 5.0 ...</td>\n",
              "    </tr>\n",
              "    <tr>\n",
              "      <th>996</th>\n",
              "      <td>Realistic tattoo sleeves - very well printed d...</td>\n",
              "    </tr>\n",
              "    <tr>\n",
              "      <th>997</th>\n",
              "      <td>Adds a new level of complexity for 4 year olds...</td>\n",
              "    </tr>\n",
              "  </tbody>\n",
              "</table>\n",
              "<p>998 rows × 1 columns</p>\n",
              "</div>\n",
              "      <button class=\"colab-df-convert\" onclick=\"convertToInteractive('df-34dacc6a-b89e-44d4-851c-fa2d791c4152')\"\n",
              "              title=\"Convert this dataframe to an interactive table.\"\n",
              "              style=\"display:none;\">\n",
              "        \n",
              "  <svg xmlns=\"http://www.w3.org/2000/svg\" height=\"24px\"viewBox=\"0 0 24 24\"\n",
              "       width=\"24px\">\n",
              "    <path d=\"M0 0h24v24H0V0z\" fill=\"none\"/>\n",
              "    <path d=\"M18.56 5.44l.94 2.06.94-2.06 2.06-.94-2.06-.94-.94-2.06-.94 2.06-2.06.94zm-11 1L8.5 8.5l.94-2.06 2.06-.94-2.06-.94L8.5 2.5l-.94 2.06-2.06.94zm10 10l.94 2.06.94-2.06 2.06-.94-2.06-.94-.94-2.06-.94 2.06-2.06.94z\"/><path d=\"M17.41 7.96l-1.37-1.37c-.4-.4-.92-.59-1.43-.59-.52 0-1.04.2-1.43.59L10.3 9.45l-7.72 7.72c-.78.78-.78 2.05 0 2.83L4 21.41c.39.39.9.59 1.41.59.51 0 1.02-.2 1.41-.59l7.78-7.78 2.81-2.81c.8-.78.8-2.07 0-2.86zM5.41 20L4 18.59l7.72-7.72 1.47 1.35L5.41 20z\"/>\n",
              "  </svg>\n",
              "      </button>\n",
              "      \n",
              "  <style>\n",
              "    .colab-df-container {\n",
              "      display:flex;\n",
              "      flex-wrap:wrap;\n",
              "      gap: 12px;\n",
              "    }\n",
              "\n",
              "    .colab-df-convert {\n",
              "      background-color: #E8F0FE;\n",
              "      border: none;\n",
              "      border-radius: 50%;\n",
              "      cursor: pointer;\n",
              "      display: none;\n",
              "      fill: #1967D2;\n",
              "      height: 32px;\n",
              "      padding: 0 0 0 0;\n",
              "      width: 32px;\n",
              "    }\n",
              "\n",
              "    .colab-df-convert:hover {\n",
              "      background-color: #E2EBFA;\n",
              "      box-shadow: 0px 1px 2px rgba(60, 64, 67, 0.3), 0px 1px 3px 1px rgba(60, 64, 67, 0.15);\n",
              "      fill: #174EA6;\n",
              "    }\n",
              "\n",
              "    [theme=dark] .colab-df-convert {\n",
              "      background-color: #3B4455;\n",
              "      fill: #D2E3FC;\n",
              "    }\n",
              "\n",
              "    [theme=dark] .colab-df-convert:hover {\n",
              "      background-color: #434B5C;\n",
              "      box-shadow: 0px 1px 3px 1px rgba(0, 0, 0, 0.15);\n",
              "      filter: drop-shadow(0px 1px 2px rgba(0, 0, 0, 0.3));\n",
              "      fill: #FFFFFF;\n",
              "    }\n",
              "  </style>\n",
              "\n",
              "      <script>\n",
              "        const buttonEl =\n",
              "          document.querySelector('#df-34dacc6a-b89e-44d4-851c-fa2d791c4152 button.colab-df-convert');\n",
              "        buttonEl.style.display =\n",
              "          google.colab.kernel.accessAllowed ? 'block' : 'none';\n",
              "\n",
              "        async function convertToInteractive(key) {\n",
              "          const element = document.querySelector('#df-34dacc6a-b89e-44d4-851c-fa2d791c4152');\n",
              "          const dataTable =\n",
              "            await google.colab.kernel.invokeFunction('convertToInteractive',\n",
              "                                                     [key], {});\n",
              "          if (!dataTable) return;\n",
              "\n",
              "          const docLinkHtml = 'Like what you see? Visit the ' +\n",
              "            '<a target=\"_blank\" href=https://colab.research.google.com/notebooks/data_table.ipynb>data table notebook</a>'\n",
              "            + ' to learn more about interactive tables.';\n",
              "          element.innerHTML = '';\n",
              "          dataTable['output_type'] = 'display_data';\n",
              "          await google.colab.output.renderOutput(dataTable, element);\n",
              "          const docLink = document.createElement('div');\n",
              "          docLink.innerHTML = docLinkHtml;\n",
              "          element.appendChild(docLink);\n",
              "        }\n",
              "      </script>\n",
              "    </div>\n",
              "  </div>\n",
              "  "
            ]
          },
          "metadata": {},
          "execution_count": 38
        }
      ]
    },
    {
      "cell_type": "code",
      "source": [
        "nltk.download('punkt')"
      ],
      "metadata": {
        "colab": {
          "base_uri": "https://localhost:8080/"
        },
        "id": "THH4SMiPVDSv",
        "outputId": "c69c6dfe-2fb5-4b38-8c52-26e18db08634"
      },
      "execution_count": null,
      "outputs": [
        {
          "output_type": "stream",
          "name": "stderr",
          "text": [
            "[nltk_data] Downloading package punkt to /root/nltk_data...\n",
            "[nltk_data]   Package punkt is already up-to-date!\n"
          ]
        },
        {
          "output_type": "execute_result",
          "data": {
            "text/plain": [
              "True"
            ]
          },
          "metadata": {},
          "execution_count": 39
        }
      ]
    },
    {
      "cell_type": "code",
      "source": [
        "def tokenize(sentence):\n",
        "    sentence = re.sub(r\"(?:\\@|https?\\://)\\S+|\\n+\", \"\", sentence.lower())\n",
        "    return sentence"
      ],
      "metadata": {
        "id": "mjmwl-RyVt3m"
      },
      "execution_count": null,
      "outputs": []
    },
    {
      "cell_type": "code",
      "source": [
        "result = [tokenize(x) for x in data['review_body'].iloc[:]]"
      ],
      "metadata": {
        "id": "eNDw1-mHVv4V"
      },
      "execution_count": null,
      "outputs": []
    },
    {
      "cell_type": "code",
      "source": [
        "nltk.download('vader_lexicon')\n",
        "nlp = spacy.load(\"en_core_web_lg\")\n",
        "sid = SentimentIntensityAnalyzer()"
      ],
      "metadata": {
        "colab": {
          "base_uri": "https://localhost:8080/"
        },
        "id": "jT-PRm8OW84R",
        "outputId": "610ea911-7eb1-42d8-ee89-1ec28dbec4be"
      },
      "execution_count": null,
      "outputs": [
        {
          "output_type": "stream",
          "name": "stderr",
          "text": [
            "[nltk_data] Downloading package vader_lexicon to /root/nltk_data...\n",
            "[nltk_data]   Package vader_lexicon is already up-to-date!\n"
          ]
        }
      ]
    },
    {
      "cell_type": "code",
      "source": [
        "def find_sentiment(doc):\n",
        "    # find roots of all entities in the text\n",
        "    ner_heads = {ent.root.idx: ent for ent in doc.ents}\n",
        "    rule3_pairs = []\n",
        "    for token in doc:\n",
        "        children = token.children\n",
        "        A = \"999999\"\n",
        "        M = \"999999\"\n",
        "        add_neg_pfx = False\n",
        "        for child in children:\n",
        "            if(child.dep_ == \"nsubj\" and not child.is_stop): # nsubj is nominal subject\n",
        "                if child.idx in ner_heads:\n",
        "                    A = ner_heads[child.idx].text\n",
        "                else:\n",
        "                    A = child.text\n",
        "            if(child.dep_ == \"acomp\" and not child.is_stop): # acomp is adjectival complement\n",
        "                M = child.text\n",
        "            if(child.dep_ == \"aux\" and child.tag_ == \"MD\"): # MD is modal auxiliary\n",
        "                neg_prefix = \"not\"\n",
        "                add_neg_pfx = True\n",
        "            if(child.dep_ == \"neg\"): # neg is negation\n",
        "                neg_prefix = child.text\n",
        "                add_neg_pfx = True\n",
        "        if (add_neg_pfx and M != \"999999\"):\n",
        "            M = neg_prefix + \" \" + M\n",
        "        if(A != \"999999\" and M != \"999999\"):\n",
        "            rule3_pairs.append((A, M, sid.polarity_scores(M)['compound']))\n",
        "    return rule3_pairs"
      ],
      "metadata": {
        "id": "fr5kV3yVYSE8"
      },
      "execution_count": null,
      "outputs": []
    },
    {
      "cell_type": "code",
      "source": [
        "print(find_sentiment(nlp(\"Food was good but customer service was bad. The ambience was great although\")))"
      ],
      "metadata": {
        "colab": {
          "base_uri": "https://localhost:8080/"
        },
        "id": "qryW-shugj9L",
        "outputId": "f89efee2-debd-4fbf-8c2a-f59124df0a40"
      },
      "execution_count": null,
      "outputs": [
        {
          "output_type": "stream",
          "name": "stdout",
          "text": [
            "[('Food', 'good', 0.4404), ('service', 'bad', -0.5423), ('ambience', 'great', 0.6249)]\n"
          ]
        }
      ]
    },
    {
      "cell_type": "code",
      "source": [
        "aspect_opinion = [find_sentiment(nlp(x)) for x in result]"
      ],
      "metadata": {
        "id": "mw4PMjMegm8s"
      },
      "execution_count": null,
      "outputs": []
    },
    {
      "cell_type": "code",
      "source": [
        "aspect_opinion[:20]"
      ],
      "metadata": {
        "colab": {
          "base_uri": "https://localhost:8080/"
        },
        "id": "55n0pWnxgpmz",
        "outputId": "815140e1-0433-4bae-903f-cf6042f63c45"
      },
      "execution_count": null,
      "outputs": [
        {
          "output_type": "execute_result",
          "data": {
            "text/plain": [
              "[[],\n",
              " [('delivery', 'prompt', 0.0)],\n",
              " [],\n",
              " [('bodies', 'solid', 0.1531)],\n",
              " [],\n",
              " [],\n",
              " [('tube', 'robust', 0.34),\n",
              "  ('thing', 'bigger', 0.0),\n",
              "  ('game', 'simple', 0.0),\n",
              "  ('game', 'cheap', 0.0),\n",
              "  ('kids', 'uninterested', 0.0),\n",
              "  ('game', 'simple', 0.0)],\n",
              " [('seller', 'helpful', 0.4215), ('cards', 'bigger', 0.0)],\n",
              " [],\n",
              " [],\n",
              " [],\n",
              " [],\n",
              " [],\n",
              " [],\n",
              " [('daughter', 'mad', -0.4939),\n",
              "  ('work', 'good', 0.4404),\n",
              "  ('deatil', 'great', 0.6249)],\n",
              " [('detail', 'outstanding', 0.6124), ('figure', 'loyal', 0.4767)],\n",
              " [('packaging', 'adequate', 0.2263)],\n",
              " [],\n",
              " [],\n",
              " [('size', 'awesome', 0.6249), ('son', 'happy', 0.5719)]]"
            ]
          },
          "metadata": {},
          "execution_count": 46
        }
      ]
    },
    {
      "cell_type": "code",
      "source": [
        "for i in range(7,8):\n",
        "  print(data['review_body'][i])"
      ],
      "metadata": {
        "colab": {
          "base_uri": "https://localhost:8080/"
        },
        "id": "j5cSxKazisZc",
        "outputId": "e74bb6a5-6346-48a6-8786-b741262968bd"
      },
      "execution_count": null,
      "outputs": [
        {
          "output_type": "stream",
          "name": "stdout",
          "text": [
            "Lge size playing cars + game board // 5.0 // 24 July 2012 // By\n",
            "    \n",
            "    silviesurfer\n",
            "  \n",
            " on 24 July 2012 // Ordered this game board and playing cards for elderly residents in a retirement village, and have to say that the seller was most helpful and informative, and the price was brilliant, excellent value, and very prompt delivery, at a very resonable cost.  Pleased to say that the game is enjoyed by all.  Very many thanks. Regards, S. Yearsley | Great cowd pleaser! // 5.0 // 27 July 2012 // By\n",
            "    \n",
            "    Mr Quiz\n",
            "  \n",
            " on 27 July 2012 // Just want to say a massive thanks, the product is great quality and the fact it can be signwriten to your own specification makes it all the more appealing, Great fun and great feedback from the audience at our local quiz night.Good value all round purchase!Cheers | Brilliant // 5.0 // 3 Nov. 2015 // By\n",
            "    \n",
            "    suzieq\n",
            "  \n",
            " on 3 Nov. 2015 // Brilliant, The only thing missing was a voice over with Bruce Forsyths voice,, saying \"good game\"Haha. Well worth very penny.. | Good fun game. // 4.0 // 14 Oct. 2013 // By\n",
            "    \n",
            "    sharon firmin\n",
            "  \n",
            " on 14 Oct. 2013 // Good fun game. I expected the cards to be bigger but still good fun. Ideal for a family fun night. | Five Stars // 5.0 // 5 April 2015 // By\n",
            "    \n",
            "    karen beadle\n",
            "  \n",
            " on 5 April 2015 // Really pleased with product. Very good customer service. Would recommend highly | BRILLIANT PRODUCT // 5.0 // 17 Jan. 2016 // By\n",
            "    \n",
            "    OnlineRetail Customer\n",
            "  \n",
            " on 17 Jan. 2016 // This game is as listed, well made all struts are glued and screwed onto a solid hard back board finished in gloss white, it comes with end caps to stop side sight of the cards, The cards are included along with higher lower instructions.\n"
          ]
        }
      ]
    },
    {
      "cell_type": "code",
      "source": [
        "print(find_sentiment(nlp(\"Really pleased with product. Very good customer service. Would recommend highly \")))"
      ],
      "metadata": {
        "colab": {
          "base_uri": "https://localhost:8080/"
        },
        "id": "NcREqBi2etIo",
        "outputId": "278d31a0-e2f7-4c91-b9e3-a6630cc41545"
      },
      "execution_count": null,
      "outputs": [
        {
          "output_type": "stream",
          "name": "stdout",
          "text": [
            "[]\n"
          ]
        }
      ]
    },
    {
      "cell_type": "markdown",
      "source": [
        "# Market Basket"
      ],
      "metadata": {
        "id": "-LjI0Qo-iE5i"
      }
    },
    {
      "cell_type": "markdown",
      "source": [
        "## Items bought together"
      ],
      "metadata": {
        "id": "uy7Y6b9dGkR0"
      }
    },
    {
      "cell_type": "markdown",
      "source": [
        "### Small subset"
      ],
      "metadata": {
        "id": "kyg0upFqAuQF"
      }
    },
    {
      "cell_type": "code",
      "source": [
        "df = pd.read_csv('/content/drive/MyDrive/WALMART/CAPSTONE project/Data/Temp data/df_without_name_matching.csv')"
      ],
      "metadata": {
        "id": "-aT6x7dn7UaR"
      },
      "execution_count": null,
      "outputs": []
    },
    {
      "cell_type": "code",
      "source": [
        "sample = df.sample(frac = 0.2, random_state = 42)"
      ],
      "metadata": {
        "id": "T6KSwm7_h9-V"
      },
      "execution_count": null,
      "outputs": []
    },
    {
      "cell_type": "code",
      "source": [
        "sample.info()"
      ],
      "metadata": {
        "colab": {
          "base_uri": "https://localhost:8080/"
        },
        "id": "VYGI1TmdiOBg",
        "outputId": "acdb2549-c9b3-419c-86db-0bc04cfaec09"
      },
      "execution_count": null,
      "outputs": [
        {
          "output_type": "stream",
          "name": "stdout",
          "text": [
            "<class 'pandas.core.frame.DataFrame'>\n",
            "Int64Index: 2000 entries, 6252 to 6929\n",
            "Data columns (total 44 columns):\n",
            " #   Column                                       Non-Null Count  Dtype  \n",
            "---  ------                                       --------------  -----  \n",
            " 0   Unnamed: 0                                   2000 non-null   int64  \n",
            " 1   Unnamed: 0.1                                 2000 non-null   int64  \n",
            " 2   uniq_id                                      2000 non-null   object \n",
            " 3   product_name                                 2000 non-null   object \n",
            " 4   manufacturer                                 2000 non-null   object \n",
            " 5   price                                        2000 non-null   float64\n",
            " 6   number_available_in_stock                    2000 non-null   float64\n",
            " 7   number_of_reviews                            2000 non-null   float64\n",
            " 8   number_of_answered_questions                 2000 non-null   float64\n",
            " 9   average_review_rating                        2000 non-null   float64\n",
            " 10  category_and_sub_category                    2000 non-null   object \n",
            " 11  customers_who_bought_this_item_also_bought   1795 non-null   object \n",
            " 12  description                                  1863 non-null   object \n",
            " 13  product_information                          1989 non-null   object \n",
            " 14  product_description                          1863 non-null   object \n",
            " 15  items_customers_buy_after_viewing_this_item  1389 non-null   object \n",
            " 16  customer_questions_and_answers               193 non-null    object \n",
            " 17  customer_reviews                             1996 non-null   object \n",
            " 18  sellers                                      1367 non-null   object \n",
            " 19  condition                                    2000 non-null   object \n",
            " 20  0cat                                         2000 non-null   object \n",
            " 21  1cat                                         1988 non-null   object \n",
            " 22  2cat                                         1137 non-null   object \n",
            " 23  3cat                                         285 non-null    object \n",
            " 24  4cat                                         12 non-null     object \n",
            " 25  0together                                    1795 non-null   object \n",
            " 26  1together                                    1712 non-null   object \n",
            " 27  2together                                    1657 non-null   object \n",
            " 28  3together                                    1613 non-null   object \n",
            " 29  4together                                    1564 non-null   object \n",
            " 30  5together                                    1493 non-null   object \n",
            " 31  6together                                    2 non-null      object \n",
            " 32  7together                                    2 non-null      object \n",
            " 33  8together                                    2 non-null      object \n",
            " 34  9together                                    2 non-null      object \n",
            " 35  10together                                   2 non-null      object \n",
            " 36  11together                                   2 non-null      object \n",
            " 37  0after                                       1389 non-null   object \n",
            " 38  1after                                       1266 non-null   object \n",
            " 39  2after                                       1169 non-null   object \n",
            " 40  3after                                       1088 non-null   object \n",
            " 41  number_of_sellers                            2000 non-null   float64\n",
            " 42  scaled_reviews_by_category_after_log         2000 non-null   float64\n",
            " 43  popularity                                   2000 non-null   float64\n",
            "dtypes: float64(8), int64(2), object(34)\n",
            "memory usage: 703.1+ KB\n"
          ]
        }
      ]
    },
    {
      "cell_type": "code",
      "source": [
        "sample = sample.replace('None',np.nan, regex = True)"
      ],
      "metadata": {
        "id": "GZnfb7AueAD6"
      },
      "execution_count": null,
      "outputs": []
    },
    {
      "cell_type": "markdown",
      "source": [
        "''https://www.kaggle.com/code/sajidcse/market-basket-analysis#Apriori-Algorithm''"
      ],
      "metadata": {
        "id": "DEYAjmAWq3JN"
      }
    },
    {
      "cell_type": "code",
      "source": [
        "basket_sample = pd.DataFrame(sample[['uniq_id', '0together', '1together', '2together', '3together'\\\n",
        "                  , '4together', '5together', '6together', '7together', '8together', '9together'\\\n",
        "                  , '10together', '11together']])"
      ],
      "metadata": {
        "id": "9-OuDHg-E35M"
      },
      "execution_count": null,
      "outputs": []
    },
    {
      "cell_type": "code",
      "source": [
        "basket_sample = basket_sample.replace('nan',np.nan, regex = True)"
      ],
      "metadata": {
        "id": "ox1XF9E-G78u"
      },
      "execution_count": null,
      "outputs": []
    },
    {
      "cell_type": "code",
      "source": [
        "basket_sample.shape"
      ],
      "metadata": {
        "colab": {
          "base_uri": "https://localhost:8080/"
        },
        "id": "LU93ry-UF_Gk",
        "outputId": "18160311-e4bc-47eb-d0a9-ac7bbc94b317"
      },
      "execution_count": null,
      "outputs": [
        {
          "output_type": "execute_result",
          "data": {
            "text/plain": [
              "(2000, 13)"
            ]
          },
          "metadata": {},
          "execution_count": 40
        }
      ]
    },
    {
      "cell_type": "code",
      "source": [
        "trans=[]\n",
        "for i in range(0,2000):\n",
        "    trans.append([str(basket_sample.values[i,j]) for j in range(0,13)])\n",
        "\n",
        "trans=np.array(trans)\n",
        "\n",
        "print(trans.shape)"
      ],
      "metadata": {
        "colab": {
          "base_uri": "https://localhost:8080/"
        },
        "id": "ToYT8xmeGAYG",
        "outputId": "7f3a58c9-87d6-450b-94e8-a7e88bfa589e"
      },
      "execution_count": null,
      "outputs": [
        {
          "output_type": "stream",
          "name": "stdout",
          "text": [
            "(2000, 13)\n"
          ]
        }
      ]
    },
    {
      "cell_type": "code",
      "source": [
        "from mlxtend.preprocessing import TransactionEncoder\n",
        "t=TransactionEncoder()\n",
        "data=t.fit_transform(trans)\n",
        "data=pd.DataFrame(data,columns=t.columns_,dtype=int)\n",
        "\n",
        "data.shape"
      ],
      "metadata": {
        "colab": {
          "base_uri": "https://localhost:8080/"
        },
        "id": "ZfeQwlegGXOe",
        "outputId": "91a21c02-ab52-45ca-c427-038b3dba31da"
      },
      "execution_count": null,
      "outputs": [
        {
          "output_type": "execute_result",
          "data": {
            "text/plain": [
              "(2000, 9530)"
            ]
          },
          "metadata": {},
          "execution_count": 42
        }
      ]
    },
    {
      "cell_type": "code",
      "source": [
        "data.drop('nan',axis=1,inplace=True)"
      ],
      "metadata": {
        "id": "CYbhHv0PITy7"
      },
      "execution_count": null,
      "outputs": []
    },
    {
      "cell_type": "code",
      "source": [
        "print(data.shape)\n",
        "\n",
        "'nan' in data.columns"
      ],
      "metadata": {
        "colab": {
          "base_uri": "https://localhost:8080/"
        },
        "id": "rrK1zvwbIUE3",
        "outputId": "a652b5da-bcfb-4c8e-fe40-12bd278b6e47"
      },
      "execution_count": null,
      "outputs": [
        {
          "output_type": "stream",
          "name": "stdout",
          "text": [
            "(2000, 9529)\n"
          ]
        },
        {
          "output_type": "execute_result",
          "data": {
            "text/plain": [
              "False"
            ]
          },
          "metadata": {},
          "execution_count": 62
        }
      ]
    },
    {
      "cell_type": "code",
      "source": [],
      "metadata": {
        "id": "SE6RnzBpIUIp"
      },
      "execution_count": null,
      "outputs": []
    },
    {
      "cell_type": "code",
      "source": [
        "##Lets consider the top 20 items purchased freequently\n",
        "r=data.sum(axis=0).sort_values(ascending=False)[:20]\n",
        "\n",
        "plt.figure(figsize=(20,10))\n",
        "s=sns.barplot(x=r.index,y=r.values)\n",
        "s.set_xticklabels(s.get_xticklabels(), rotation=90)"
      ],
      "metadata": {
        "colab": {
          "base_uri": "https://localhost:8080/",
          "height": 1000
        },
        "id": "t2SaAnwgGzIK",
        "outputId": "83eadae9-689a-48da-b639-a01a30ef3f3b"
      },
      "execution_count": null,
      "outputs": [
        {
          "output_type": "execute_result",
          "data": {
            "text/plain": [
              "[Text(0, 0, 'Ravensburger'),\n",
              " Text(0, 0, 'Amscan International'),\n",
              " Text(0, 0, 'Scalextric'),\n",
              " Text(0, 0, 'Birthday Tropical Assorted Qualatex Balloons'),\n",
              " Text(0, 0, 'MyTinyWorld'),\n",
              " Text(0, 0, 'Transformers'),\n",
              " Text(0, 0, 'BLACK SILVER HAPPY BIRTHDAY BANNER'),\n",
              " Text(0, 0, 'SmartDealsPro'),\n",
              " Text(0, 0, 'Tommee Tippee Sangenic Compatible'),\n",
              " Text(0, 0, 'Personalised'),\n",
              " Text(0, 0, 'Silver Hearts Holographic'),\n",
              " Text(0, 0, 'Trading Card Sleeves Protectors'),\n",
              " Text(0, 0, 'Dungeons Dragons Players Handbook Rulebooks'),\n",
              " Text(0, 0, 'Revell 39604 Contacta Professional'),\n",
              " Text(0, 0, 'Yu Gi Oh Premium Gold Booster Pack'),\n",
              " Text(0, 0, 'The Creativity'),\n",
              " Text(0, 0, 'Polyhedral'),\n",
              " Text(0, 0, 'k2 accessories'),\n",
              " Text(0, 0, 'Waddingtons'),\n",
              " Text(0, 0, 'Glitz Black Birthday Bunting Banner')]"
            ]
          },
          "metadata": {},
          "execution_count": 46
        },
        {
          "output_type": "display_data",
          "data": {
            "text/plain": [
              "<Figure size 1440x720 with 1 Axes>"
            ],
            "image/png": "[encoded data removed]"
          },
          "metadata": {
            "needs_background": "light"
          }
        }
      ]
    },
    {
      "cell_type": "code",
      "source": [
        "!pip install squarify"
      ],
      "metadata": {
        "colab": {
          "base_uri": "https://localhost:8080/"
        },
        "id": "_bNhSNJtI3dT",
        "outputId": "32e4c69a-7f29-411b-d639-071332e0c17a"
      },
      "execution_count": null,
      "outputs": [
        {
          "output_type": "stream",
          "name": "stdout",
          "text": [
            "Looking in indexes: https://pypi.org/simple, https://us-python.pkg.dev/colab-wheels/public/simple/\n",
            "Collecting squarify\n",
            "  Downloading squarify-0.4.3-py3-none-any.whl (4.3 kB)\n",
            "Installing collected packages: squarify\n",
            "Successfully installed squarify-0.4.3\n"
          ]
        }
      ]
    },
    {
      "cell_type": "code",
      "source": [
        "import matplotlib\n",
        "import squarify\n",
        "my_values=r.values\n",
        "cmap = matplotlib.cm.Blues\n",
        "mini=min(my_values)\n",
        "maxi=max(my_values)\n",
        "norm = matplotlib.colors.Normalize(vmin=mini, vmax=maxi)\n",
        "colors = [cmap(norm(value)) for value in my_values]\n",
        "\n",
        "\n",
        "#treemap of top 20 frequent items\n",
        "plt.figure(figsize=(20, 20))\n",
        "squarify.plot(sizes=r.values, label=r.index, alpha=.7,color=colors)\n",
        "plt.title(\"Tree map of top 20 items\")\n",
        "plt.axis('off')"
      ],
      "metadata": {
        "colab": {
          "base_uri": "https://localhost:8080/",
          "height": 1000
        },
        "id": "c2GWCnqWIkZZ",
        "outputId": "3e467921-f001-47c2-aa2d-eac34c4fbe8a"
      },
      "execution_count": null,
      "outputs": [
        {
          "output_type": "execute_result",
          "data": {
            "text/plain": [
              "(0.0, 100.0, 0.0, 100.0)"
            ]
          },
          "metadata": {},
          "execution_count": 48
        },
        {
          "output_type": "display_data",
          "data": {
            "text/plain": [
              "<Figure size 1440x1440 with 1 Axes>"
            ],
            "image/png": "[encoded data removed]"
          },
          "metadata": {
            "needs_background": "light"
          }
        }
      ]
    },
    {
      "cell_type": "code",
      "source": [
        "!pip install mlxtend --upgrade"
      ],
      "metadata": {
        "id": "emznPbCFCKOr"
      },
      "execution_count": null,
      "outputs": []
    },
    {
      "cell_type": "code",
      "source": [
        "from mlxtend.frequent_patterns import apriori\n",
        "from mlxtend.frequent_patterns import association_rules"
      ],
      "metadata": {
        "id": "6j-zaLYBJJie"
      },
      "execution_count": null,
      "outputs": []
    },
    {
      "cell_type": "markdown",
      "source": [
        "**- Chose one of these two references(First or Second)**\n",
        "- for the graph bellow, I used second reference"
      ],
      "metadata": {
        "id": "EPbQcLOYB0YD"
      }
    },
    {
      "cell_type": "markdown",
      "source": [
        "#### First reference"
      ],
      "metadata": {
        "id": "wLjFgLqPBghq"
      }
    },
    {
      "cell_type": "markdown",
      "source": [
        "'https://www.kaggle.com/code/sajidcse/market-basket-analysis#Apriori-Algorithm'"
      ],
      "metadata": {
        "id": "OrNMmMOQBkQW"
      }
    },
    {
      "cell_type": "code",
      "source": [
        "# freq_items=apriori(data,min_support=0.001,use_colnames=True)"
      ],
      "metadata": {
        "id": "vvTiSAMVIq9h"
      },
      "execution_count": null,
      "outputs": []
    },
    {
      "cell_type": "code",
      "source": [
        "# freq_items"
      ],
      "metadata": {
        "id": "ehw_W9-fJGIO"
      },
      "execution_count": null,
      "outputs": []
    },
    {
      "cell_type": "code",
      "source": [
        "# res=association_rules(freq_items,metric=\"lift\",min_threshold=1)"
      ],
      "metadata": {
        "id": "k7LxLA9LJPzW"
      },
      "execution_count": null,
      "outputs": []
    },
    {
      "cell_type": "code",
      "source": [
        "# res"
      ],
      "metadata": {
        "id": "0Iybdl1PKNuW"
      },
      "execution_count": null,
      "outputs": []
    },
    {
      "cell_type": "code",
      "source": [
        "# frequent_itemsets = apriori(data, min_support = 0.001, use_colnames=True)\n",
        "# frequent_itemsets['length'] = frequent_itemsets['itemsets'].apply(lambda x: len(x))\n",
        "# frequent_itemsets"
      ],
      "metadata": {
        "id": "8dhjCuamKOz7"
      },
      "execution_count": null,
      "outputs": []
    },
    {
      "cell_type": "code",
      "source": [
        "# frequent_itemsets[ (frequent_itemsets['length'] == 2) &\n",
        "#                    (frequent_itemsets['support'] >= 0.001) ]"
      ],
      "metadata": {
        "id": "zN6HGwwWLbC5"
      },
      "execution_count": null,
      "outputs": []
    },
    {
      "cell_type": "code",
      "source": [
        "# import time\n",
        "# l=[0.01,0.02,0.03,0.04,0.05, 0.001]\n",
        "# t=[]\n",
        "# for i in l:\n",
        "#     t1=time.time()\n",
        "#     apriori(data,min_support=i,use_colnames=True)\n",
        "#     t2=time.time()\n",
        "#     t.append((t2-t1)*1000)"
      ],
      "metadata": {
        "id": "VAp3LFfwMo_k"
      },
      "execution_count": null,
      "outputs": []
    },
    {
      "cell_type": "markdown",
      "source": [
        "#### Second reference"
      ],
      "metadata": {
        "id": "g70LhXYJBp0D"
      }
    },
    {
      "cell_type": "markdown",
      "source": [
        "'https://www.kaggle.com/code/akashdeepkuila/market-basket-analysis'"
      ],
      "metadata": {
        "id": "32hBMGDsBu77"
      }
    },
    {
      "cell_type": "code",
      "source": [
        "frequentItems = apriori(data, min_support = 0.002, use_colnames=True)\n",
        "frequentItems"
      ],
      "metadata": {
        "colab": {
          "base_uri": "https://localhost:8080/",
          "height": 424
        },
        "id": "4Ntj98XfOCCZ",
        "outputId": "2759f936-f839-4f2f-b42c-7c746b977bd1"
      },
      "execution_count": null,
      "outputs": [
        {
          "output_type": "execute_result",
          "data": {
            "text/plain": [
              "     support                                           itemsets\n",
              "0     0.0025  (15pcs Miniature Porcelain Plate Colorful Floral)\n",
              "1     0.0030                      (Alison Gardiner Traditional)\n",
              "2     0.0025       (Amscan 674473 Hollywood Swirls Decorations)\n",
              "3     0.0150                             (Amscan International)\n",
              "4     0.0020                                      (Anniversary)\n",
              "..       ...                                                ...\n",
              "134   0.0020                (Polyhedral, Q Workshop Polyhedral)\n",
              "135   0.0020   (Rory Story Cubes Animalia Dice, The Creativity)\n",
              "136   0.0020  (The Creativity, Rorys Story Cubes Intergalactic)\n",
              "137   0.0020  (Hollywood themed party Prom confetti, Carpet ...\n",
              "138   0.0020  (Dungeon Masters Dungeons Dragons Rulebooks, D...\n",
              "\n",
              "[139 rows x 2 columns]"
            ],
            "text/html": [
              "\n",
              "  <div id=\"df-7ca7fa14-ba2e-4bc8-bbf4-798344957aad\">\n",
              "    <div class=\"colab-df-container\">\n",
              "      <div>\n",
              "<style scoped>\n",
              "    .dataframe tbody tr th:only-of-type {\n",
              "        vertical-align: middle;\n",
              "    }\n",
              "\n",
              "    .dataframe tbody tr th {\n",
              "        vertical-align: top;\n",
              "    }\n",
              "\n",
              "    .dataframe thead th {\n",
              "        text-align: right;\n",
              "    }\n",
              "</style>\n",
              "<table border=\"1\" class=\"dataframe\">\n",
              "  <thead>\n",
              "    <tr style=\"text-align: right;\">\n",
              "      <th></th>\n",
              "      <th>support</th>\n",
              "      <th>itemsets</th>\n",
              "    </tr>\n",
              "  </thead>\n",
              "  <tbody>\n",
              "    <tr>\n",
              "      <th>0</th>\n",
              "      <td>0.0025</td>\n",
              "      <td>(15pcs Miniature Porcelain Plate Colorful Floral)</td>\n",
              "    </tr>\n",
              "    <tr>\n",
              "      <th>1</th>\n",
              "      <td>0.0030</td>\n",
              "      <td>(Alison Gardiner Traditional)</td>\n",
              "    </tr>\n",
              "    <tr>\n",
              "      <th>2</th>\n",
              "      <td>0.0025</td>\n",
              "      <td>(Amscan 674473 Hollywood Swirls Decorations)</td>\n",
              "    </tr>\n",
              "    <tr>\n",
              "      <th>3</th>\n",
              "      <td>0.0150</td>\n",
              "      <td>(Amscan International)</td>\n",
              "    </tr>\n",
              "    <tr>\n",
              "      <th>4</th>\n",
              "      <td>0.0020</td>\n",
              "      <td>(Anniversary)</td>\n",
              "    </tr>\n",
              "    <tr>\n",
              "      <th>...</th>\n",
              "      <td>...</td>\n",
              "      <td>...</td>\n",
              "    </tr>\n",
              "    <tr>\n",
              "      <th>134</th>\n",
              "      <td>0.0020</td>\n",
              "      <td>(Polyhedral, Q Workshop Polyhedral)</td>\n",
              "    </tr>\n",
              "    <tr>\n",
              "      <th>135</th>\n",
              "      <td>0.0020</td>\n",
              "      <td>(Rory Story Cubes Animalia Dice, The Creativity)</td>\n",
              "    </tr>\n",
              "    <tr>\n",
              "      <th>136</th>\n",
              "      <td>0.0020</td>\n",
              "      <td>(The Creativity, Rorys Story Cubes Intergalactic)</td>\n",
              "    </tr>\n",
              "    <tr>\n",
              "      <th>137</th>\n",
              "      <td>0.0020</td>\n",
              "      <td>(Hollywood themed party Prom confetti, Carpet ...</td>\n",
              "    </tr>\n",
              "    <tr>\n",
              "      <th>138</th>\n",
              "      <td>0.0020</td>\n",
              "      <td>(Dungeon Masters Dungeons Dragons Rulebooks, D...</td>\n",
              "    </tr>\n",
              "  </tbody>\n",
              "</table>\n",
              "<p>139 rows × 2 columns</p>\n",
              "</div>\n",
              "      <button class=\"colab-df-convert\" onclick=\"convertToInteractive('df-7ca7fa14-ba2e-4bc8-bbf4-798344957aad')\"\n",
              "              title=\"Convert this dataframe to an interactive table.\"\n",
              "              style=\"display:none;\">\n",
              "        \n",
              "  <svg xmlns=\"http://www.w3.org/2000/svg\" height=\"24px\"viewBox=\"0 0 24 24\"\n",
              "       width=\"24px\">\n",
              "    <path d=\"M0 0h24v24H0V0z\" fill=\"none\"/>\n",
              "    <path d=\"M18.56 5.44l.94 2.06.94-2.06 2.06-.94-2.06-.94-.94-2.06-.94 2.06-2.06.94zm-11 1L8.5 8.5l.94-2.06 2.06-.94-2.06-.94L8.5 2.5l-.94 2.06-2.06.94zm10 10l.94 2.06.94-2.06 2.06-.94-2.06-.94-.94-2.06-.94 2.06-2.06.94z\"/><path d=\"M17.41 7.96l-1.37-1.37c-.4-.4-.92-.59-1.43-.59-.52 0-1.04.2-1.43.59L10.3 9.45l-7.72 7.72c-.78.78-.78 2.05 0 2.83L4 21.41c.39.39.9.59 1.41.59.51 0 1.02-.2 1.41-.59l7.78-7.78 2.81-2.81c.8-.78.8-2.07 0-2.86zM5.41 20L4 18.59l7.72-7.72 1.47 1.35L5.41 20z\"/>\n",
              "  </svg>\n",
              "      </button>\n",
              "      \n",
              "  <style>\n",
              "    .colab-df-container {\n",
              "      display:flex;\n",
              "      flex-wrap:wrap;\n",
              "      gap: 12px;\n",
              "    }\n",
              "\n",
              "    .colab-df-convert {\n",
              "      background-color: #E8F0FE;\n",
              "      border: none;\n",
              "      border-radius: 50%;\n",
              "      cursor: pointer;\n",
              "      display: none;\n",
              "      fill: #1967D2;\n",
              "      height: 32px;\n",
              "      padding: 0 0 0 0;\n",
              "      width: 32px;\n",
              "    }\n",
              "\n",
              "    .colab-df-convert:hover {\n",
              "      background-color: #E2EBFA;\n",
              "      box-shadow: 0px 1px 2px rgba(60, 64, 67, 0.3), 0px 1px 3px 1px rgba(60, 64, 67, 0.15);\n",
              "      fill: #174EA6;\n",
              "    }\n",
              "\n",
              "    [theme=dark] .colab-df-convert {\n",
              "      background-color: #3B4455;\n",
              "      fill: #D2E3FC;\n",
              "    }\n",
              "\n",
              "    [theme=dark] .colab-df-convert:hover {\n",
              "      background-color: #434B5C;\n",
              "      box-shadow: 0px 1px 3px 1px rgba(0, 0, 0, 0.15);\n",
              "      filter: drop-shadow(0px 1px 2px rgba(0, 0, 0, 0.3));\n",
              "      fill: #FFFFFF;\n",
              "    }\n",
              "  </style>\n",
              "\n",
              "      <script>\n",
              "        const buttonEl =\n",
              "          document.querySelector('#df-7ca7fa14-ba2e-4bc8-bbf4-798344957aad button.colab-df-convert');\n",
              "        buttonEl.style.display =\n",
              "          google.colab.kernel.accessAllowed ? 'block' : 'none';\n",
              "\n",
              "        async function convertToInteractive(key) {\n",
              "          const element = document.querySelector('#df-7ca7fa14-ba2e-4bc8-bbf4-798344957aad');\n",
              "          const dataTable =\n",
              "            await google.colab.kernel.invokeFunction('convertToInteractive',\n",
              "                                                     [key], {});\n",
              "          if (!dataTable) return;\n",
              "\n",
              "          const docLinkHtml = 'Like what you see? Visit the ' +\n",
              "            '<a target=\"_blank\" href=https://colab.research.google.com/notebooks/data_table.ipynb>data table notebook</a>'\n",
              "            + ' to learn more about interactive tables.';\n",
              "          element.innerHTML = '';\n",
              "          dataTable['output_type'] = 'display_data';\n",
              "          await google.colab.output.renderOutput(dataTable, element);\n",
              "          const docLink = document.createElement('div');\n",
              "          docLink.innerHTML = docLinkHtml;\n",
              "          element.appendChild(docLink);\n",
              "        }\n",
              "      </script>\n",
              "    </div>\n",
              "  </div>\n",
              "  "
            ]
          },
          "metadata": {},
          "execution_count": 53
        }
      ]
    },
    {
      "cell_type": "code",
      "source": [
        "rules = association_rules(frequentItems, metric=\"lift\", min_threshold=1)\n",
        "rules.antecedents = rules.antecedents.apply(lambda x: next(iter(x)))\n",
        "rules.consequents = rules.consequents.apply(lambda x: next(iter(x)))\n",
        "rules.head(10)"
      ],
      "metadata": {
        "colab": {
          "base_uri": "https://localhost:8080/",
          "height": 598
        },
        "id": "0iW3rXC7OCT1",
        "outputId": "c06e030d-7d3d-457f-eaa5-bbcee3ca0378"
      },
      "execution_count": null,
      "outputs": [
        {
          "output_type": "execute_result",
          "data": {
            "text/plain": [
              "                                    antecedents  \\\n",
              "0          Carpet Hollywood Scene Setter Runner   \n",
              "1    Amscan 674473 Hollywood Swirls Decorations   \n",
              "2          Hollywood themed party Prom confetti   \n",
              "3    Amscan 674473 Hollywood Swirls Decorations   \n",
              "4             BIRTHDAY GIRL PINK PARTY BALLOONS   \n",
              "5  Birthday Tropical Assorted Qualatex Balloons   \n",
              "6            BLACK SILVER HAPPY BIRTHDAY BANNER   \n",
              "7           Glitz Black Birthday Bunting Banner   \n",
              "8            BLACK SILVER HAPPY BIRTHDAY BANNER   \n",
              "9          Glitz Black Silver Birthday Balloons   \n",
              "\n",
              "                                    consequents  antecedent support  \\\n",
              "0    Amscan 674473 Hollywood Swirls Decorations              0.0020   \n",
              "1          Carpet Hollywood Scene Setter Runner              0.0025   \n",
              "2    Amscan 674473 Hollywood Swirls Decorations              0.0020   \n",
              "3          Hollywood themed party Prom confetti              0.0025   \n",
              "4  Birthday Tropical Assorted Qualatex Balloons              0.0020   \n",
              "5             BIRTHDAY GIRL PINK PARTY BALLOONS              0.0085   \n",
              "6           Glitz Black Birthday Bunting Banner              0.0045   \n",
              "7            BLACK SILVER HAPPY BIRTHDAY BANNER              0.0035   \n",
              "8          Glitz Black Silver Birthday Balloons              0.0045   \n",
              "9            BLACK SILVER HAPPY BIRTHDAY BANNER              0.0030   \n",
              "\n",
              "   consequent support  support  confidence        lift  leverage  conviction  \n",
              "0              0.0025    0.002    1.000000  400.000000  0.001995         inf  \n",
              "1              0.0020    0.002    0.800000  400.000000  0.001995    4.990000  \n",
              "2              0.0025    0.002    1.000000  400.000000  0.001995         inf  \n",
              "3              0.0020    0.002    0.800000  400.000000  0.001995    4.990000  \n",
              "4              0.0085    0.002    1.000000  117.647059  0.001983         inf  \n",
              "5              0.0020    0.002    0.235294  117.647059  0.001983    1.305077  \n",
              "6              0.0035    0.002    0.444444  126.984127  0.001984    1.793700  \n",
              "7              0.0045    0.002    0.571429  126.984127  0.001984    2.322833  \n",
              "8              0.0030    0.002    0.444444  148.148148  0.001986    1.794600  \n",
              "9              0.0045    0.002    0.666667  148.148148  0.001986    2.986500  "
            ],
            "text/html": [
              "\n",
              "  <div id=\"df-fa57e0b6-c456-42b9-a6a7-36cea6d38f99\">\n",
              "    <div class=\"colab-df-container\">\n",
              "      <div>\n",
              "<style scoped>\n",
              "    .dataframe tbody tr th:only-of-type {\n",
              "        vertical-align: middle;\n",
              "    }\n",
              "\n",
              "    .dataframe tbody tr th {\n",
              "        vertical-align: top;\n",
              "    }\n",
              "\n",
              "    .dataframe thead th {\n",
              "        text-align: right;\n",
              "    }\n",
              "</style>\n",
              "<table border=\"1\" class=\"dataframe\">\n",
              "  <thead>\n",
              "    <tr style=\"text-align: right;\">\n",
              "      <th></th>\n",
              "      <th>antecedents</th>\n",
              "      <th>consequents</th>\n",
              "      <th>antecedent support</th>\n",
              "      <th>consequent support</th>\n",
              "      <th>support</th>\n",
              "      <th>confidence</th>\n",
              "      <th>lift</th>\n",
              "      <th>leverage</th>\n",
              "      <th>conviction</th>\n",
              "    </tr>\n",
              "  </thead>\n",
              "  <tbody>\n",
              "    <tr>\n",
              "      <th>0</th>\n",
              "      <td>Carpet Hollywood Scene Setter Runner</td>\n",
              "      <td>Amscan 674473 Hollywood Swirls Decorations</td>\n",
              "      <td>0.0020</td>\n",
              "      <td>0.0025</td>\n",
              "      <td>0.002</td>\n",
              "      <td>1.000000</td>\n",
              "      <td>400.000000</td>\n",
              "      <td>0.001995</td>\n",
              "      <td>inf</td>\n",
              "    </tr>\n",
              "    <tr>\n",
              "      <th>1</th>\n",
              "      <td>Amscan 674473 Hollywood Swirls Decorations</td>\n",
              "      <td>Carpet Hollywood Scene Setter Runner</td>\n",
              "      <td>0.0025</td>\n",
              "      <td>0.0020</td>\n",
              "      <td>0.002</td>\n",
              "      <td>0.800000</td>\n",
              "      <td>400.000000</td>\n",
              "      <td>0.001995</td>\n",
              "      <td>4.990000</td>\n",
              "    </tr>\n",
              "    <tr>\n",
              "      <th>2</th>\n",
              "      <td>Hollywood themed party Prom confetti</td>\n",
              "      <td>Amscan 674473 Hollywood Swirls Decorations</td>\n",
              "      <td>0.0020</td>\n",
              "      <td>0.0025</td>\n",
              "      <td>0.002</td>\n",
              "      <td>1.000000</td>\n",
              "      <td>400.000000</td>\n",
              "      <td>0.001995</td>\n",
              "      <td>inf</td>\n",
              "    </tr>\n",
              "    <tr>\n",
              "      <th>3</th>\n",
              "      <td>Amscan 674473 Hollywood Swirls Decorations</td>\n",
              "      <td>Hollywood themed party Prom confetti</td>\n",
              "      <td>0.0025</td>\n",
              "      <td>0.0020</td>\n",
              "      <td>0.002</td>\n",
              "      <td>0.800000</td>\n",
              "      <td>400.000000</td>\n",
              "      <td>0.001995</td>\n",
              "      <td>4.990000</td>\n",
              "    </tr>\n",
              "    <tr>\n",
              "      <th>4</th>\n",
              "      <td>BIRTHDAY GIRL PINK PARTY BALLOONS</td>\n",
              "      <td>Birthday Tropical Assorted Qualatex Balloons</td>\n",
              "      <td>0.0020</td>\n",
              "      <td>0.0085</td>\n",
              "      <td>0.002</td>\n",
              "      <td>1.000000</td>\n",
              "      <td>117.647059</td>\n",
              "      <td>0.001983</td>\n",
              "      <td>inf</td>\n",
              "    </tr>\n",
              "    <tr>\n",
              "      <th>5</th>\n",
              "      <td>Birthday Tropical Assorted Qualatex Balloons</td>\n",
              "      <td>BIRTHDAY GIRL PINK PARTY BALLOONS</td>\n",
              "      <td>0.0085</td>\n",
              "      <td>0.0020</td>\n",
              "      <td>0.002</td>\n",
              "      <td>0.235294</td>\n",
              "      <td>117.647059</td>\n",
              "      <td>0.001983</td>\n",
              "      <td>1.305077</td>\n",
              "    </tr>\n",
              "    <tr>\n",
              "      <th>6</th>\n",
              "      <td>BLACK SILVER HAPPY BIRTHDAY BANNER</td>\n",
              "      <td>Glitz Black Birthday Bunting Banner</td>\n",
              "      <td>0.0045</td>\n",
              "      <td>0.0035</td>\n",
              "      <td>0.002</td>\n",
              "      <td>0.444444</td>\n",
              "      <td>126.984127</td>\n",
              "      <td>0.001984</td>\n",
              "      <td>1.793700</td>\n",
              "    </tr>\n",
              "    <tr>\n",
              "      <th>7</th>\n",
              "      <td>Glitz Black Birthday Bunting Banner</td>\n",
              "      <td>BLACK SILVER HAPPY BIRTHDAY BANNER</td>\n",
              "      <td>0.0035</td>\n",
              "      <td>0.0045</td>\n",
              "      <td>0.002</td>\n",
              "      <td>0.571429</td>\n",
              "      <td>126.984127</td>\n",
              "      <td>0.001984</td>\n",
              "      <td>2.322833</td>\n",
              "    </tr>\n",
              "    <tr>\n",
              "      <th>8</th>\n",
              "      <td>BLACK SILVER HAPPY BIRTHDAY BANNER</td>\n",
              "      <td>Glitz Black Silver Birthday Balloons</td>\n",
              "      <td>0.0045</td>\n",
              "      <td>0.0030</td>\n",
              "      <td>0.002</td>\n",
              "      <td>0.444444</td>\n",
              "      <td>148.148148</td>\n",
              "      <td>0.001986</td>\n",
              "      <td>1.794600</td>\n",
              "    </tr>\n",
              "    <tr>\n",
              "      <th>9</th>\n",
              "      <td>Glitz Black Silver Birthday Balloons</td>\n",
              "      <td>BLACK SILVER HAPPY BIRTHDAY BANNER</td>\n",
              "      <td>0.0030</td>\n",
              "      <td>0.0045</td>\n",
              "      <td>0.002</td>\n",
              "      <td>0.666667</td>\n",
              "      <td>148.148148</td>\n",
              "      <td>0.001986</td>\n",
              "      <td>2.986500</td>\n",
              "    </tr>\n",
              "  </tbody>\n",
              "</table>\n",
              "</div>\n",
              "      <button class=\"colab-df-convert\" onclick=\"convertToInteractive('df-fa57e0b6-c456-42b9-a6a7-36cea6d38f99')\"\n",
              "              title=\"Convert this dataframe to an interactive table.\"\n",
              "              style=\"display:none;\">\n",
              "        \n",
              "  <svg xmlns=\"http://www.w3.org/2000/svg\" height=\"24px\"viewBox=\"0 0 24 24\"\n",
              "       width=\"24px\">\n",
              "    <path d=\"M0 0h24v24H0V0z\" fill=\"none\"/>\n",
              "    <path d=\"M18.56 5.44l.94 2.06.94-2.06 2.06-.94-2.06-.94-.94-2.06-.94 2.06-2.06.94zm-11 1L8.5 8.5l.94-2.06 2.06-.94-2.06-.94L8.5 2.5l-.94 2.06-2.06.94zm10 10l.94 2.06.94-2.06 2.06-.94-2.06-.94-.94-2.06-.94 2.06-2.06.94z\"/><path d=\"M17.41 7.96l-1.37-1.37c-.4-.4-.92-.59-1.43-.59-.52 0-1.04.2-1.43.59L10.3 9.45l-7.72 7.72c-.78.78-.78 2.05 0 2.83L4 21.41c.39.39.9.59 1.41.59.51 0 1.02-.2 1.41-.59l7.78-7.78 2.81-2.81c.8-.78.8-2.07 0-2.86zM5.41 20L4 18.59l7.72-7.72 1.47 1.35L5.41 20z\"/>\n",
              "  </svg>\n",
              "      </button>\n",
              "      \n",
              "  <style>\n",
              "    .colab-df-container {\n",
              "      display:flex;\n",
              "      flex-wrap:wrap;\n",
              "      gap: 12px;\n",
              "    }\n",
              "\n",
              "    .colab-df-convert {\n",
              "      background-color: #E8F0FE;\n",
              "      border: none;\n",
              "      border-radius: 50%;\n",
              "      cursor: pointer;\n",
              "      display: none;\n",
              "      fill: #1967D2;\n",
              "      height: 32px;\n",
              "      padding: 0 0 0 0;\n",
              "      width: 32px;\n",
              "    }\n",
              "\n",
              "    .colab-df-convert:hover {\n",
              "      background-color: #E2EBFA;\n",
              "      box-shadow: 0px 1px 2px rgba(60, 64, 67, 0.3), 0px 1px 3px 1px rgba(60, 64, 67, 0.15);\n",
              "      fill: #174EA6;\n",
              "    }\n",
              "\n",
              "    [theme=dark] .colab-df-convert {\n",
              "      background-color: #3B4455;\n",
              "      fill: #D2E3FC;\n",
              "    }\n",
              "\n",
              "    [theme=dark] .colab-df-convert:hover {\n",
              "      background-color: #434B5C;\n",
              "      box-shadow: 0px 1px 3px 1px rgba(0, 0, 0, 0.15);\n",
              "      filter: drop-shadow(0px 1px 2px rgba(0, 0, 0, 0.3));\n",
              "      fill: #FFFFFF;\n",
              "    }\n",
              "  </style>\n",
              "\n",
              "      <script>\n",
              "        const buttonEl =\n",
              "          document.querySelector('#df-fa57e0b6-c456-42b9-a6a7-36cea6d38f99 button.colab-df-convert');\n",
              "        buttonEl.style.display =\n",
              "          google.colab.kernel.accessAllowed ? 'block' : 'none';\n",
              "\n",
              "        async function convertToInteractive(key) {\n",
              "          const element = document.querySelector('#df-fa57e0b6-c456-42b9-a6a7-36cea6d38f99');\n",
              "          const dataTable =\n",
              "            await google.colab.kernel.invokeFunction('convertToInteractive',\n",
              "                                                     [key], {});\n",
              "          if (!dataTable) return;\n",
              "\n",
              "          const docLinkHtml = 'Like what you see? Visit the ' +\n",
              "            '<a target=\"_blank\" href=https://colab.research.google.com/notebooks/data_table.ipynb>data table notebook</a>'\n",
              "            + ' to learn more about interactive tables.';\n",
              "          element.innerHTML = '';\n",
              "          dataTable['output_type'] = 'display_data';\n",
              "          await google.colab.output.renderOutput(dataTable, element);\n",
              "          const docLink = document.createElement('div');\n",
              "          docLink.innerHTML = docLinkHtml;\n",
              "          element.appendChild(docLink);\n",
              "        }\n",
              "      </script>\n",
              "    </div>\n",
              "  </div>\n",
              "  "
            ]
          },
          "metadata": {},
          "execution_count": 57
        }
      ]
    },
    {
      "cell_type": "code",
      "source": [
        "!pip install --upgrade scipy networkx "
      ],
      "metadata": {
        "colab": {
          "base_uri": "https://localhost:8080/"
        },
        "id": "WsbujgflOwca",
        "outputId": "ceb2831b-baaf-4430-ef8d-54816fec0a59"
      },
      "execution_count": null,
      "outputs": [
        {
          "output_type": "stream",
          "name": "stdout",
          "text": [
            "Looking in indexes: https://pypi.org/simple, https://us-python.pkg.dev/colab-wheels/public/simple/\n",
            "Requirement already satisfied: scipy in /usr/local/lib/python3.8/dist-packages (1.7.3)\n",
            "Collecting scipy\n",
            "  Downloading scipy-1.9.3-cp38-cp38-manylinux_2_17_x86_64.manylinux2014_x86_64.whl (33.8 MB)\n",
            "\u001b[K     |████████████████████████████████| 33.8 MB 210 kB/s \n",
            "\u001b[?25hRequirement already satisfied: networkx in /usr/local/lib/python3.8/dist-packages (2.6.3)\n",
            "Collecting networkx\n",
            "  Downloading networkx-2.8.8-py3-none-any.whl (2.0 MB)\n",
            "\u001b[K     |████████████████████████████████| 2.0 MB 67.5 MB/s \n",
            "\u001b[?25hRequirement already satisfied: numpy<1.26.0,>=1.18.5 in /usr/local/lib/python3.8/dist-packages (from scipy) (1.21.6)\n",
            "Installing collected packages: scipy, networkx\n",
            "  Attempting uninstall: scipy\n",
            "    Found existing installation: scipy 1.7.3\n",
            "    Uninstalling scipy-1.7.3:\n",
            "      Successfully uninstalled scipy-1.7.3\n",
            "  Attempting uninstall: networkx\n",
            "    Found existing installation: networkx 2.6.3\n",
            "    Uninstalling networkx-2.6.3:\n",
            "      Successfully uninstalled networkx-2.6.3\n",
            "Successfully installed networkx-2.8.8 scipy-1.9.3\n"
          ]
        }
      ]
    },
    {
      "cell_type": "code",
      "source": [
        "!pip install 'networkx<2.7'"
      ],
      "metadata": {
        "colab": {
          "base_uri": "https://localhost:8080/"
        },
        "id": "LiJ36gytQXnR",
        "outputId": "4b62aac6-c9ae-4242-9e9c-64a12038dc9b"
      },
      "execution_count": null,
      "outputs": [
        {
          "output_type": "stream",
          "name": "stdout",
          "text": [
            "Looking in indexes: https://pypi.org/simple, https://us-python.pkg.dev/colab-wheels/public/simple/\n",
            "Collecting networkx<2.7\n",
            "  Downloading networkx-2.6.3-py3-none-any.whl (1.9 MB)\n",
            "\u001b[K     |████████████████████████████████| 1.9 MB 15.2 MB/s \n",
            "\u001b[?25hInstalling collected packages: networkx\n",
            "  Attempting uninstall: networkx\n",
            "    Found existing installation: networkx 2.8.8\n",
            "    Uninstalling networkx-2.8.8:\n",
            "      Successfully uninstalled networkx-2.8.8\n",
            "Successfully installed networkx-2.6.3\n"
          ]
        }
      ]
    },
    {
      "cell_type": "code",
      "source": [
        "import networkx as nx\n",
        "import plotly.express as px\n",
        "import plotly.graph_objects as go\n",
        "import plotly.figure_factory as ff\n",
        "from plotly.offline import download_plotlyjs, init_notebook_mode, iplot\n",
        "network_A = list(rules[\"antecedents\"].unique())\n",
        "network_B = list(rules[\"consequents\"].unique())\n",
        "node_list = list(set(network_A + network_B))\n",
        "G = nx.Graph()\n",
        "for i in node_list:\n",
        "    G.add_node(i)\n",
        "for i,j in rules.iterrows():\n",
        "    G.add_edges_from([(j[\"antecedents\"], j[\"consequents\"])])\n",
        "pos = nx.spring_layout(G, k=0.5, dim=2, iterations=400)\n",
        "for n, p in pos.items():\n",
        "    G.nodes[n]['pos'] = p\n",
        "\n",
        "edge_trace = go.Scatter(x=[], y=[], line=dict(width=0.5, color='#888'), hoverinfo='none', mode='lines')\n",
        "\n",
        "for edge in G.edges():\n",
        "    x0, y0 = G.nodes[edge[0]]['pos']\n",
        "    x1, y1 = G.nodes[edge[1]]['pos']\n",
        "    edge_trace['x'] += tuple([x0, x1, None])\n",
        "    edge_trace['y'] += tuple([y0, y1, None])\n",
        "\n",
        "node_trace = go.Scatter(x=[], y=[], text=[], mode='markers', hoverinfo='text',\n",
        "    marker=dict(showscale=True, colorscale='Burg', reversescale=True, color=[], size=15,\n",
        "    colorbar=dict(thickness=10, title='Node Connections', xanchor='left', titleside='right')))\n",
        "\n",
        "for node in G.nodes():\n",
        "    x, y = G.nodes[node]['pos']\n",
        "    node_trace['x'] += tuple([x])\n",
        "    node_trace['y'] += tuple([y])\n",
        "\n",
        "for node, adjacencies in enumerate(G.adjacency()):\n",
        "    node_trace['marker']['color']+=tuple([len(adjacencies[1])])\n",
        "    node_info = str(adjacencies[0]) +'<br>No of Connections: {}'.format(str(len(adjacencies[1])))\n",
        "    node_trace['text']+=tuple([node_info])\n",
        "\n",
        "fig = go.Figure(data=[edge_trace, node_trace], \n",
        "    layout=go.Layout(title='Item Connections Network', titlefont=dict(size=20),\n",
        "    plot_bgcolor='white', showlegend=False, margin=dict(b=0,l=0,r=0,t=50),\n",
        "    xaxis=dict(showgrid=False, zeroline=False, showticklabels=False),\n",
        "    yaxis=dict(showgrid=False, zeroline=False, showticklabels=False)))\n",
        "\n",
        "iplot(fig)"
      ],
      "metadata": {
        "colab": {
          "base_uri": "https://localhost:8080/",
          "height": 542
        },
        "id": "mVpL22z-OTsw",
        "outputId": "25a77a7a-d9b4-4e04-9079-533a50e5cf8d"
      },
      "execution_count": null,
      "outputs": [
        {
          "output_type": "display_data",
          "data": {
            "text/html": [
              "<html>\n",
              "<head><meta charset=\"utf-8\" /></head>\n",
              "<body>\n",
              "    <div>            <script src=\"https://cdnjs.cloudflare.com/ajax/libs/mathjax/2.7.5/MathJax.js?config=TeX-AMS-MML_SVG\"></script><script type=\"text/javascript\">if (window.MathJax) {MathJax.Hub.Config({SVG: {font: \"STIX-Web\"}});}</script>                <script type=\"text/javascript\">window.PlotlyConfig = {MathJaxConfig: 'local'};</script>\n",
              "        <script src=\"https://cdn.plot.ly/plotly-2.8.3.min.js\"></script>                <div id=\"36bc4062-bca8-4aec-a146-a19e994e34d3\" class=\"plotly-graph-div\" style=\"height:525px; width:100%;\"></div>            <script type=\"text/javascript\">                                    window.PLOTLYENV=window.PLOTLYENV || {};                                    if (document.getElementById(\"36bc4062-bca8-4aec-a146-a19e994e34d3\")) {                    Plotly.newPlot(                        \"36bc4062-bca8-4aec-a146-a19e994e34d3\",                        [{\"hoverinfo\":\"none\",\"line\":{\"color\":\"#888\",\"width\":0.5},\"mode\":\"lines\",\"x\":[0.8191203871560164,0.7965392601033036,null,0.4317121034687288,0.44337309038162476,null,-0.9395590244313198,-0.9704313922979885,null,-0.5180518862391085,-0.5374754928869494,null,-0.1697385417726856,-0.15384496008492615,null,-0.1697385417726856,-0.14607086028360022,null,0.12149369953487597,0.14536091129135942,null,0.12149369953487597,0.13068772088768962,null,-1.0,-0.9704313922979885,null,-0.15384496008492615,-0.14607086028360022,null,-0.5374754928869494,-0.5604349862669095,null,0.7603673980131296,0.7747488664055739,null,0.7603673980131296,0.7834300990230649,null,0.13068772088768962,0.14536091129135942,null,0.9694359983339086,0.9436887963222762,null,0.7747488664055739,0.7834300990230649,null,-0.7674256095021088,-0.7878034757515227,null,-0.1852905724158207,-0.1896945799927787,null,-0.1896945799927787,-0.19413694899583375,null],\"y\":[0.5419422018892598,0.5289130566518803,null,0.8202798494023285,0.8433392965375671,null,-0.05071294329811194,-0.053146740259883404,null,-0.7480336943462232,-0.7277839516004757,null,0.9556080756848279,0.9744487705513266,null,0.9556080756848279,0.9499521554955791,null,-0.9664900831675395,-0.9636714337449404,null,-0.9664900831675395,-0.9428425573990112,null,-0.05547850807924046,-0.053146740259883404,null,0.9744487705513266,0.9499521554955791,null,-0.7277839516004757,-0.7117074202188195,null,-0.5869496188490634,-0.6042246236589613,null,-0.5869496188490634,-0.5808074557772559,null,-0.9428425573990112,-0.9636714337449404,null,0.02144658781546455,0.021229669089211655,null,-0.6042246236589613,-0.5808074557772559,null,0.5923108212730394,0.6089141277769904,null,0.07215806435901108,0.04448525192638205,null,0.04448525192638205,0.016821101946657785,null],\"type\":\"scatter\"},{\"hoverinfo\":\"text\",\"marker\":{\"color\":[1,1,1,1,1,2,2,1,2,1,2,1,2,2,1,2,1,2,2,1,2,1,2,2,1,1],\"colorbar\":{\"thickness\":10,\"title\":{\"side\":\"right\",\"text\":\"Node Connections\"},\"xanchor\":\"left\"},\"colorscale\":[[0.0,\"rgb(255, 198, 196)\"],[0.16666666666666666,\"rgb(244, 163, 168)\"],[0.3333333333333333,\"rgb(227, 129, 145)\"],[0.5,\"rgb(204, 96, 125)\"],[0.6666666666666666,\"rgb(173, 70, 108)\"],[0.8333333333333334,\"rgb(139, 48, 88)\"],[1.0,\"rgb(103, 32, 68)\"]],\"reversescale\":true,\"showscale\":true,\"size\":15},\"mode\":\"markers\",\"text\":[\"Hornby R8222 Gauge Track Extension<br>No of Connections: 1\",\"Hornby R8223 Gauge Track Extension<br>No of Connections: 1\",\"Never Pirates Deluxe Adventure Figure<br>No of Connections: 1\",\"Silver Hearts Holographic<br>No of Connections: 1\",\"Q Workshop Polyhedral<br>No of Connections: 1\",\"Monster Manual Dungeons Rulebook Rulebooks<br>No of Connections: 2\",\"Hollywood themed party Prom confetti<br>No of Connections: 2\",\"BIRTHDAY GIRL PINK PARTY BALLOONS<br>No of Connections: 1\",\"Dungeon Masters Dungeons Dragons Rulebooks<br>No of Connections: 2\",\"Never Pirates Hooks Jolly Pirate<br>No of Connections: 1\",\"Polyhedral<br>No of Connections: 2\",\"Chessex Dice Polyhedral<br>No of Connections: 1\",\"Glitz Black Silver Birthday Balloons<br>No of Connections: 2\",\"Carpet Hollywood Scene Setter Runner<br>No of Connections: 2\",\"Lego Minifigures<br>No of Connections: 1\",\"BLACK SILVER HAPPY BIRTHDAY BANNER<br>No of Connections: 2\",\"Crafted Cherry Wooden Chess Draughts<br>No of Connections: 1\",\"Amscan 674473 Hollywood Swirls Decorations<br>No of Connections: 2\",\"Glitz Black Birthday Bunting Banner<br>No of Connections: 2\",\"Rorys Story Cubes Intergalactic<br>No of Connections: 1\",\"Birthday Tropical Assorted Qualatex Balloons<br>No of Connections: 2\",\"Lego Minifigure<br>No of Connections: 1\",\"Dungeons Dragons Players Handbook Rulebooks<br>No of Connections: 2\",\"The Creativity<br>No of Connections: 2\",\"Rory Story Cubes Animalia Dice<br>No of Connections: 1\",\"Woodeyland<br>No of Connections: 1\"],\"x\":[0.8191203871560164,0.7965392601033036,0.4317121034687288,-0.9395590244313198,-0.5180518862391085,-0.1697385417726856,0.12149369953487597,-1.0,-0.15384496008492615,0.44337309038162476,-0.5374754928869494,-0.5604349862669095,0.7603673980131296,0.13068772088768962,0.9694359983339086,0.7747488664055739,-0.7674256095021088,0.14536091129135942,0.7834300990230649,-0.1852905724158207,-0.9704313922979885,0.9436887963222762,-0.14607086028360022,-0.1896945799927787,-0.19413694899583375,-0.7878034757515227],\"y\":[0.5419422018892598,0.5289130566518803,0.8202798494023285,-0.05071294329811194,-0.7480336943462232,0.9556080756848279,-0.9664900831675395,-0.05547850807924046,0.9744487705513266,0.8433392965375671,-0.7277839516004757,-0.7117074202188195,-0.5869496188490634,-0.9428425573990112,0.02144658781546455,-0.6042246236589613,0.5923108212730394,-0.9636714337449404,-0.5808074557772559,0.07215806435901108,-0.053146740259883404,0.021229669089211655,0.9499521554955791,0.04448525192638205,0.016821101946657785,0.6089141277769904],\"type\":\"scatter\"}],                        {\"margin\":{\"b\":0,\"l\":0,\"r\":0,\"t\":50},\"plot_bgcolor\":\"white\",\"showlegend\":false,\"template\":{\"data\":{\"barpolar\":[{\"marker\":{\"line\":{\"color\":\"#E5ECF6\",\"width\":0.5},\"pattern\":{\"fillmode\":\"overlay\",\"size\":10,\"solidity\":0.2}},\"type\":\"barpolar\"}],\"bar\":[{\"error_x\":{\"color\":\"#2a3f5f\"},\"error_y\":{\"color\":\"#2a3f5f\"},\"marker\":{\"line\":{\"color\":\"#E5ECF6\",\"width\":0.5},\"pattern\":{\"fillmode\":\"overlay\",\"size\":10,\"solidity\":0.2}},\"type\":\"bar\"}],\"carpet\":[{\"aaxis\":{\"endlinecolor\":\"#2a3f5f\",\"gridcolor\":\"white\",\"linecolor\":\"white\",\"minorgridcolor\":\"white\",\"startlinecolor\":\"#2a3f5f\"},\"baxis\":{\"endlinecolor\":\"#2a3f5f\",\"gridcolor\":\"white\",\"linecolor\":\"white\",\"minorgridcolor\":\"white\",\"startlinecolor\":\"#2a3f5f\"},\"type\":\"carpet\"}],\"choropleth\":[{\"colorbar\":{\"outlinewidth\":0,\"ticks\":\"\"},\"type\":\"choropleth\"}],\"contourcarpet\":[{\"colorbar\":{\"outlinewidth\":0,\"ticks\":\"\"},\"type\":\"contourcarpet\"}],\"contour\":[{\"colorbar\":{\"outlinewidth\":0,\"ticks\":\"\"},\"colorscale\":[[0.0,\"#0d0887\"],[0.1111111111111111,\"#46039f\"],[0.2222222222222222,\"#7201a8\"],[0.3333333333333333,\"#9c179e\"],[0.4444444444444444,\"#bd3786\"],[0.5555555555555556,\"#d8576b\"],[0.6666666666666666,\"#ed7953\"],[0.7777777777777778,\"#fb9f3a\"],[0.8888888888888888,\"#fdca26\"],[1.0,\"#f0f921\"]],\"type\":\"contour\"}],\"heatmapgl\":[{\"colorbar\":{\"outlinewidth\":0,\"ticks\":\"\"},\"colorscale\":[[0.0,\"#0d0887\"],[0.1111111111111111,\"#46039f\"],[0.2222222222222222,\"#7201a8\"],[0.3333333333333333,\"#9c179e\"],[0.4444444444444444,\"#bd3786\"],[0.5555555555555556,\"#d8576b\"],[0.6666666666666666,\"#ed7953\"],[0.7777777777777778,\"#fb9f3a\"],[0.8888888888888888,\"#fdca26\"],[1.0,\"#f0f921\"]],\"type\":\"heatmapgl\"}],\"heatmap\":[{\"colorbar\":{\"outlinewidth\":0,\"ticks\":\"\"},\"colorscale\":[[0.0,\"#0d0887\"],[0.1111111111111111,\"#46039f\"],[0.2222222222222222,\"#7201a8\"],[0.3333333333333333,\"#9c179e\"],[0.4444444444444444,\"#bd3786\"],[0.5555555555555556,\"#d8576b\"],[0.6666666666666666,\"#ed7953\"],[0.7777777777777778,\"#fb9f3a\"],[0.8888888888888888,\"#fdca26\"],[1.0,\"#f0f921\"]],\"type\":\"heatmap\"}],\"histogram2dcontour\":[{\"colorbar\":{\"outlinewidth\":0,\"ticks\":\"\"},\"colorscale\":[[0.0,\"#0d0887\"],[0.1111111111111111,\"#46039f\"],[0.2222222222222222,\"#7201a8\"],[0.3333333333333333,\"#9c179e\"],[0.4444444444444444,\"#bd3786\"],[0.5555555555555556,\"#d8576b\"],[0.6666666666666666,\"#ed7953\"],[0.7777777777777778,\"#fb9f3a\"],[0.8888888888888888,\"#fdca26\"],[1.0,\"#f0f921\"]],\"type\":\"histogram2dcontour\"}],\"histogram2d\":[{\"colorbar\":{\"outlinewidth\":0,\"ticks\":\"\"},\"colorscale\":[[0.0,\"#0d0887\"],[0.1111111111111111,\"#46039f\"],[0.2222222222222222,\"#7201a8\"],[0.3333333333333333,\"#9c179e\"],[0.4444444444444444,\"#bd3786\"],[0.5555555555555556,\"#d8576b\"],[0.6666666666666666,\"#ed7953\"],[0.7777777777777778,\"#fb9f3a\"],[0.8888888888888888,\"#fdca26\"],[1.0,\"#f0f921\"]],\"type\":\"histogram2d\"}],\"histogram\":[{\"marker\":{\"pattern\":{\"fillmode\":\"overlay\",\"size\":10,\"solidity\":0.2}},\"type\":\"histogram\"}],\"mesh3d\":[{\"colorbar\":{\"outlinewidth\":0,\"ticks\":\"\"},\"type\":\"mesh3d\"}],\"parcoords\":[{\"line\":{\"colorbar\":{\"outlinewidth\":0,\"ticks\":\"\"}},\"type\":\"parcoords\"}],\"pie\":[{\"automargin\":true,\"type\":\"pie\"}],\"scatter3d\":[{\"line\":{\"colorbar\":{\"outlinewidth\":0,\"ticks\":\"\"}},\"marker\":{\"colorbar\":{\"outlinewidth\":0,\"ticks\":\"\"}},\"type\":\"scatter3d\"}],\"scattercarpet\":[{\"marker\":{\"colorbar\":{\"outlinewidth\":0,\"ticks\":\"\"}},\"type\":\"scattercarpet\"}],\"scattergeo\":[{\"marker\":{\"colorbar\":{\"outlinewidth\":0,\"ticks\":\"\"}},\"type\":\"scattergeo\"}],\"scattergl\":[{\"marker\":{\"colorbar\":{\"outlinewidth\":0,\"ticks\":\"\"}},\"type\":\"scattergl\"}],\"scattermapbox\":[{\"marker\":{\"colorbar\":{\"outlinewidth\":0,\"ticks\":\"\"}},\"type\":\"scattermapbox\"}],\"scatterpolargl\":[{\"marker\":{\"colorbar\":{\"outlinewidth\":0,\"ticks\":\"\"}},\"type\":\"scatterpolargl\"}],\"scatterpolar\":[{\"marker\":{\"colorbar\":{\"outlinewidth\":0,\"ticks\":\"\"}},\"type\":\"scatterpolar\"}],\"scatter\":[{\"marker\":{\"colorbar\":{\"outlinewidth\":0,\"ticks\":\"\"}},\"type\":\"scatter\"}],\"scatterternary\":[{\"marker\":{\"colorbar\":{\"outlinewidth\":0,\"ticks\":\"\"}},\"type\":\"scatterternary\"}],\"surface\":[{\"colorbar\":{\"outlinewidth\":0,\"ticks\":\"\"},\"colorscale\":[[0.0,\"#0d0887\"],[0.1111111111111111,\"#46039f\"],[0.2222222222222222,\"#7201a8\"],[0.3333333333333333,\"#9c179e\"],[0.4444444444444444,\"#bd3786\"],[0.5555555555555556,\"#d8576b\"],[0.6666666666666666,\"#ed7953\"],[0.7777777777777778,\"#fb9f3a\"],[0.8888888888888888,\"#fdca26\"],[1.0,\"#f0f921\"]],\"type\":\"surface\"}],\"table\":[{\"cells\":{\"fill\":{\"color\":\"#EBF0F8\"},\"line\":{\"color\":\"white\"}},\"header\":{\"fill\":{\"color\":\"#C8D4E3\"},\"line\":{\"color\":\"white\"}},\"type\":\"table\"}]},\"layout\":{\"annotationdefaults\":{\"arrowcolor\":\"#2a3f5f\",\"arrowhead\":0,\"arrowwidth\":1},\"autotypenumbers\":\"strict\",\"coloraxis\":{\"colorbar\":{\"outlinewidth\":0,\"ticks\":\"\"}},\"colorscale\":{\"diverging\":[[0,\"#8e0152\"],[0.1,\"#c51b7d\"],[0.2,\"#de77ae\"],[0.3,\"#f1b6da\"],[0.4,\"#fde0ef\"],[0.5,\"#f7f7f7\"],[0.6,\"#e6f5d0\"],[0.7,\"#b8e186\"],[0.8,\"#7fbc41\"],[0.9,\"#4d9221\"],[1,\"#276419\"]],\"sequential\":[[0.0,\"#0d0887\"],[0.1111111111111111,\"#46039f\"],[0.2222222222222222,\"#7201a8\"],[0.3333333333333333,\"#9c179e\"],[0.4444444444444444,\"#bd3786\"],[0.5555555555555556,\"#d8576b\"],[0.6666666666666666,\"#ed7953\"],[0.7777777777777778,\"#fb9f3a\"],[0.8888888888888888,\"#fdca26\"],[1.0,\"#f0f921\"]],\"sequentialminus\":[[0.0,\"#0d0887\"],[0.1111111111111111,\"#46039f\"],[0.2222222222222222,\"#7201a8\"],[0.3333333333333333,\"#9c179e\"],[0.4444444444444444,\"#bd3786\"],[0.5555555555555556,\"#d8576b\"],[0.6666666666666666,\"#ed7953\"],[0.7777777777777778,\"#fb9f3a\"],[0.8888888888888888,\"#fdca26\"],[1.0,\"#f0f921\"]]},\"colorway\":[\"#636efa\",\"#EF553B\",\"#00cc96\",\"#ab63fa\",\"#FFA15A\",\"#19d3f3\",\"#FF6692\",\"#B6E880\",\"#FF97FF\",\"#FECB52\"],\"font\":{\"color\":\"#2a3f5f\"},\"geo\":{\"bgcolor\":\"white\",\"lakecolor\":\"white\",\"landcolor\":\"#E5ECF6\",\"showlakes\":true,\"showland\":true,\"subunitcolor\":\"white\"},\"hoverlabel\":{\"align\":\"left\"},\"hovermode\":\"closest\",\"mapbox\":{\"style\":\"light\"},\"paper_bgcolor\":\"white\",\"plot_bgcolor\":\"#E5ECF6\",\"polar\":{\"angularaxis\":{\"gridcolor\":\"white\",\"linecolor\":\"white\",\"ticks\":\"\"},\"bgcolor\":\"#E5ECF6\",\"radialaxis\":{\"gridcolor\":\"white\",\"linecolor\":\"white\",\"ticks\":\"\"}},\"scene\":{\"xaxis\":{\"backgroundcolor\":\"#E5ECF6\",\"gridcolor\":\"white\",\"gridwidth\":2,\"linecolor\":\"white\",\"showbackground\":true,\"ticks\":\"\",\"zerolinecolor\":\"white\"},\"yaxis\":{\"backgroundcolor\":\"#E5ECF6\",\"gridcolor\":\"white\",\"gridwidth\":2,\"linecolor\":\"white\",\"showbackground\":true,\"ticks\":\"\",\"zerolinecolor\":\"white\"},\"zaxis\":{\"backgroundcolor\":\"#E5ECF6\",\"gridcolor\":\"white\",\"gridwidth\":2,\"linecolor\":\"white\",\"showbackground\":true,\"ticks\":\"\",\"zerolinecolor\":\"white\"}},\"shapedefaults\":{\"line\":{\"color\":\"#2a3f5f\"}},\"ternary\":{\"aaxis\":{\"gridcolor\":\"white\",\"linecolor\":\"white\",\"ticks\":\"\"},\"baxis\":{\"gridcolor\":\"white\",\"linecolor\":\"white\",\"ticks\":\"\"},\"bgcolor\":\"#E5ECF6\",\"caxis\":{\"gridcolor\":\"white\",\"linecolor\":\"white\",\"ticks\":\"\"}},\"title\":{\"x\":0.05},\"xaxis\":{\"automargin\":true,\"gridcolor\":\"white\",\"linecolor\":\"white\",\"ticks\":\"\",\"title\":{\"standoff\":15},\"zerolinecolor\":\"white\",\"zerolinewidth\":2},\"yaxis\":{\"automargin\":true,\"gridcolor\":\"white\",\"linecolor\":\"white\",\"ticks\":\"\",\"title\":{\"standoff\":15},\"zerolinecolor\":\"white\",\"zerolinewidth\":2}}},\"title\":{\"font\":{\"size\":20},\"text\":\"Item Connections Network\"},\"xaxis\":{\"showgrid\":false,\"showticklabels\":false,\"zeroline\":false},\"yaxis\":{\"showgrid\":false,\"showticklabels\":false,\"zeroline\":false}},                        {\"responsive\": true}                    ).then(function(){\n",
              "                            \n",
              "var gd = document.getElementById('36bc4062-bca8-4aec-a146-a19e994e34d3');\n",
              "var x = new MutationObserver(function (mutations, observer) {{\n",
              "        var display = window.getComputedStyle(gd).display;\n",
              "        if (!display || display === 'none') {{\n",
              "            console.log([gd, 'removed!']);\n",
              "            Plotly.purge(gd);\n",
              "            observer.disconnect();\n",
              "        }}\n",
              "}});\n",
              "\n",
              "// Listen for the removal of the full notebook cells\n",
              "var notebookContainer = gd.closest('#notebook-container');\n",
              "if (notebookContainer) {{\n",
              "    x.observe(notebookContainer, {childList: true});\n",
              "}}\n",
              "\n",
              "// Listen for the clearing of the current output cell\n",
              "var outputEl = gd.closest('.output');\n",
              "if (outputEl) {{\n",
              "    x.observe(outputEl, {childList: true});\n",
              "}}\n",
              "\n",
              "                        })                };                            </script>        </div>\n",
              "</body>\n",
              "</html>"
            ]
          },
          "metadata": {}
        }
      ]
    },
    {
      "cell_type": "markdown",
      "source": [
        "### Entire Data"
      ],
      "metadata": {
        "id": "rpJ1ndj_CW38"
      }
    },
    {
      "cell_type": "code",
      "source": [
        "df = pd.read_csv('/content/drive/MyDrive/WALMART/CAPSTONE project/Data/Temp data/df_without_name_matching.csv')"
      ],
      "metadata": {
        "id": "cWcD6xUcCazN"
      },
      "execution_count": null,
      "outputs": []
    },
    {
      "cell_type": "code",
      "source": [
        "basket_sample = pd.DataFrame(df[['product_name', '0together', '1together', '2together', '3together'\\\n",
        "                  , '4together', '5together', '6together', '7together', '8together', '9together'\\\n",
        "                  , '10together', '11together']])"
      ],
      "metadata": {
        "id": "RE5qho9YCnUD"
      },
      "execution_count": null,
      "outputs": []
    },
    {
      "cell_type": "code",
      "source": [
        "basket_sample = basket_sample.replace('nan',np.nan, regex = True)"
      ],
      "metadata": {
        "id": "a6-VdTyXCnUD"
      },
      "execution_count": null,
      "outputs": []
    },
    {
      "cell_type": "code",
      "source": [
        "basket_sample.shape"
      ],
      "metadata": {
        "colab": {
          "base_uri": "https://localhost:8080/"
        },
        "outputId": "4d54c626-27f3-417e-ca8d-0b54919ad78d",
        "id": "BT8UBaZGCnUE"
      },
      "execution_count": null,
      "outputs": [
        {
          "output_type": "execute_result",
          "data": {
            "text/plain": [
              "(10000, 13)"
            ]
          },
          "metadata": {},
          "execution_count": 87
        }
      ]
    },
    {
      "cell_type": "code",
      "source": [
        "trans=[]\n",
        "for i in range(0,10000):\n",
        "    trans.append([str(basket_sample.values[i,j]) for j in range(0,13)])\n",
        "\n",
        "trans=np.array(trans)\n",
        "\n",
        "print(trans.shape)"
      ],
      "metadata": {
        "colab": {
          "base_uri": "https://localhost:8080/"
        },
        "outputId": "73b6ffc0-12d6-4efc-c56d-0226ce87e693",
        "id": "cCsldWIZCnUI"
      },
      "execution_count": null,
      "outputs": [
        {
          "output_type": "stream",
          "name": "stdout",
          "text": [
            "(10000, 13)\n"
          ]
        }
      ]
    },
    {
      "cell_type": "code",
      "source": [
        "from mlxtend.preprocessing import TransactionEncoder\n",
        "t=TransactionEncoder()\n",
        "data=t.fit_transform(trans)\n",
        "data=pd.DataFrame(data,columns=t.columns_,dtype=int)\n",
        "\n",
        "data.shape"
      ],
      "metadata": {
        "colab": {
          "base_uri": "https://localhost:8080/"
        },
        "outputId": "12d00b8f-26cd-4c2f-e784-6d7080867675",
        "id": "LBeciTUACnUI"
      },
      "execution_count": null,
      "outputs": [
        {
          "output_type": "execute_result",
          "data": {
            "text/plain": [
              "(10000, 36981)"
            ]
          },
          "metadata": {},
          "execution_count": 89
        }
      ]
    },
    {
      "cell_type": "code",
      "source": [
        "data.drop('nan',axis=1,inplace=True)"
      ],
      "metadata": {
        "id": "7wiFt3NOCnUI"
      },
      "execution_count": null,
      "outputs": []
    },
    {
      "cell_type": "code",
      "source": [
        "print(data.shape)\n",
        "\n",
        "'nan' in data.columns"
      ],
      "metadata": {
        "colab": {
          "base_uri": "https://localhost:8080/"
        },
        "outputId": "052b8916-74a0-4840-8a74-e2cd4eb48d30",
        "id": "DYcUr0LkCnUJ"
      },
      "execution_count": null,
      "outputs": [
        {
          "output_type": "stream",
          "name": "stdout",
          "text": [
            "(10000, 36980)\n"
          ]
        },
        {
          "output_type": "execute_result",
          "data": {
            "text/plain": [
              "False"
            ]
          },
          "metadata": {},
          "execution_count": 91
        }
      ]
    },
    {
      "cell_type": "code",
      "source": [],
      "metadata": {
        "id": "vIg1LZ25CnUJ"
      },
      "execution_count": null,
      "outputs": []
    },
    {
      "cell_type": "code",
      "source": [
        "##Lets consider the top 20 items purchased freequently\n",
        "r=data.sum(axis=0).sort_values(ascending=False)[:20]\n",
        "\n",
        "plt.figure(figsize=(20,10))\n",
        "s=sns.barplot(x=r.index,y=r.values)\n",
        "s.set_xticklabels(s.get_xticklabels(), rotation=90)"
      ],
      "metadata": {
        "colab": {
          "base_uri": "https://localhost:8080/",
          "height": 1000
        },
        "outputId": "f229ac10-7246-4aa6-fb37-3e368ce6818e",
        "id": "E6Fax9FGCnUJ"
      },
      "execution_count": null,
      "outputs": [
        {
          "output_type": "execute_result",
          "data": {
            "text/plain": [
              "[Text(0, 0, 'Ravensburger'),\n",
              " Text(0, 0, 'Amscan International'),\n",
              " Text(0, 0, 'Scalextric'),\n",
              " Text(0, 0, 'Transformers'),\n",
              " Text(0, 0, 'MyTinyWorld'),\n",
              " Text(0, 0, 'Trading Card Sleeves Protectors'),\n",
              " Text(0, 0, 'Dungeons Dragons Players Handbook Rulebooks'),\n",
              " Text(0, 0, 'Birthday Tropical Assorted Qualatex Balloons'),\n",
              " Text(0, 0, 'Revell 39604 Contacta Professional'),\n",
              " Text(0, 0, 'Tommee Tippee Sangenic Compatible'),\n",
              " Text(0, 0, 'Dungeon Masters Dungeons Dragons Rulebooks'),\n",
              " Text(0, 0, 'Yu Gi Oh Legendary Collection'),\n",
              " Text(0, 0, 'Johnsons Extra Sensitive Baby wipes'),\n",
              " Text(0, 0, 'Yu Gi Oh Premium Gold Booster Pack'),\n",
              " Text(0, 0, 'k2 accessories'),\n",
              " Text(0, 0, 'OnlineRetail EU S %C3%A0 r l OnlineRetail co uk Printable'),\n",
              " Text(0, 0, 'Monster Manual Dungeons Rulebook Rulebooks'),\n",
              " Text(0, 0, 'Inflatable'),\n",
              " Text(0, 0, 'Hanging Glitz Prism Birthday Decorations'),\n",
              " Text(0, 0, 'Despicable')]"
            ]
          },
          "metadata": {},
          "execution_count": 92
        },
        {
          "output_type": "display_data",
          "data": {
            "text/plain": [
              "<Figure size 1440x720 with 1 Axes>"
            ],
            "image/png": "[encoded data removed]"
          },
          "metadata": {
            "needs_background": "light"
          }
        }
      ]
    },
    {
      "cell_type": "code",
      "source": [
        "!pip install squarify"
      ],
      "metadata": {
        "colab": {
          "base_uri": "https://localhost:8080/"
        },
        "outputId": "32e4c69a-7f29-411b-d639-071332e0c17a",
        "id": "RKJ_JRABCnUK"
      },
      "execution_count": null,
      "outputs": [
        {
          "output_type": "stream",
          "name": "stdout",
          "text": [
            "Looking in indexes: https://pypi.org/simple, https://us-python.pkg.dev/colab-wheels/public/simple/\n",
            "Collecting squarify\n",
            "  Downloading squarify-0.4.3-py3-none-any.whl (4.3 kB)\n",
            "Installing collected packages: squarify\n",
            "Successfully installed squarify-0.4.3\n"
          ]
        }
      ]
    },
    {
      "cell_type": "code",
      "source": [
        "import matplotlib\n",
        "import squarify\n",
        "my_values=r.values\n",
        "cmap = matplotlib.cm.Blues\n",
        "mini=min(my_values)\n",
        "maxi=max(my_values)\n",
        "norm = matplotlib.colors.Normalize(vmin=mini, vmax=maxi)\n",
        "colors = [cmap(norm(value)) for value in my_values]\n",
        "\n",
        "\n",
        "#treemap of top 20 frequent items\n",
        "plt.figure(figsize=(20, 20))\n",
        "squarify.plot(sizes=r.values, label=r.index, alpha=.7,color=colors)\n",
        "plt.title(\"Tree map of top 20 items\")\n",
        "plt.axis('off')"
      ],
      "metadata": {
        "colab": {
          "base_uri": "https://localhost:8080/",
          "height": 1000
        },
        "outputId": "2f24ab97-340d-4653-eb41-5c7fb4f5529b",
        "id": "YdLD9VuXCnUK"
      },
      "execution_count": null,
      "outputs": [
        {
          "output_type": "execute_result",
          "data": {
            "text/plain": [
              "(0.0, 100.0, 0.0, 100.0)"
            ]
          },
          "metadata": {},
          "execution_count": 93
        },
        {
          "output_type": "display_data",
          "data": {
            "text/plain": [
              "<Figure size 1440x1440 with 1 Axes>"
            ],
            "image/png": "[encoded data removed]"
          },
          "metadata": {
            "needs_background": "light"
          }
        }
      ]
    },
    {
      "cell_type": "code",
      "source": [
        "# !pip install mlxtend --upgrade"
      ],
      "metadata": {
        "id": "ihgq-Z0DCnUK"
      },
      "execution_count": null,
      "outputs": []
    },
    {
      "cell_type": "code",
      "source": [
        "from mlxtend.frequent_patterns import apriori\n",
        "from mlxtend.frequent_patterns import association_rules"
      ],
      "metadata": {
        "id": "i4k1aWDYCnUK"
      },
      "execution_count": null,
      "outputs": []
    },
    {
      "cell_type": "markdown",
      "source": [
        "**- Chose one of these two references(First or Second)**"
      ],
      "metadata": {
        "id": "Al2P1wDaCnUL"
      }
    },
    {
      "cell_type": "markdown",
      "source": [
        "#### First reference"
      ],
      "metadata": {
        "id": "6z1sgiu6CnUL"
      }
    },
    {
      "cell_type": "markdown",
      "source": [
        "'https://www.kaggle.com/code/sajidcse/market-basket-analysis#Apriori-Algorithm'"
      ],
      "metadata": {
        "id": "za_qGm71CnUL"
      }
    },
    {
      "cell_type": "code",
      "source": [
        "# freq_items=apriori(data,min_support=0.001,use_colnames=True)"
      ],
      "metadata": {
        "id": "EOFvF-bMCnUL"
      },
      "execution_count": null,
      "outputs": []
    },
    {
      "cell_type": "code",
      "source": [
        "# freq_items"
      ],
      "metadata": {
        "id": "WObGy9L3CnUM"
      },
      "execution_count": null,
      "outputs": []
    },
    {
      "cell_type": "code",
      "source": [
        "# res=association_rules(freq_items,metric=\"lift\",min_threshold=1)"
      ],
      "metadata": {
        "id": "RKVgapAjCnUM"
      },
      "execution_count": null,
      "outputs": []
    },
    {
      "cell_type": "code",
      "source": [
        "# res"
      ],
      "metadata": {
        "id": "12qT4f59CnUM"
      },
      "execution_count": null,
      "outputs": []
    },
    {
      "cell_type": "code",
      "source": [
        "# frequent_itemsets = apriori(data, min_support = 0.001, use_colnames=True)\n",
        "# frequent_itemsets['length'] = frequent_itemsets['itemsets'].apply(lambda x: len(x))\n",
        "# frequent_itemsets"
      ],
      "metadata": {
        "id": "NwAM7UPoCnUM"
      },
      "execution_count": null,
      "outputs": []
    },
    {
      "cell_type": "code",
      "source": [
        "# frequent_itemsets[ (frequent_itemsets['length'] == 2) &\n",
        "#                    (frequent_itemsets['support'] >= 0.001) ]"
      ],
      "metadata": {
        "id": "CNUhCUQKCnUM"
      },
      "execution_count": null,
      "outputs": []
    },
    {
      "cell_type": "code",
      "source": [
        "# import time\n",
        "# l=[0.01,0.02,0.03,0.04,0.05, 0.001]\n",
        "# t=[]\n",
        "# for i in l:\n",
        "#     t1=time.time()\n",
        "#     apriori(data,min_support=i,use_colnames=True)\n",
        "#     t2=time.time()\n",
        "#     t.append((t2-t1)*1000)"
      ],
      "metadata": {
        "id": "yctP2bAGCnUM"
      },
      "execution_count": null,
      "outputs": []
    },
    {
      "cell_type": "markdown",
      "source": [
        "#### Second reference"
      ],
      "metadata": {
        "id": "t15_sIz8CnUM"
      }
    },
    {
      "cell_type": "markdown",
      "source": [
        "'https://www.kaggle.com/code/akashdeepkuila/market-basket-analysis'"
      ],
      "metadata": {
        "id": "T4B3yYScCnUN"
      }
    },
    {
      "cell_type": "code",
      "source": [
        "frequentItems = apriori(data, min_support = 0.001, use_colnames=True)\n",
        "frequentItems"
      ],
      "metadata": {
        "colab": {
          "base_uri": "https://localhost:8080/",
          "height": 424
        },
        "outputId": "9676d5c7-65c9-49b9-f051-11a3251d8aab",
        "id": "bApEsnsxCnUN"
      },
      "execution_count": null,
      "outputs": [
        {
          "output_type": "execute_result",
          "data": {
            "text/plain": [
              "     support                                           itemsets\n",
              "0     0.0017                 (12pcs 1 2 inch Scenery Landscape)\n",
              "1     0.0011                   (12th Scale Dolls House Roofing)\n",
              "2     0.0011              (15ml Body Adhesive brush applicator)\n",
              "3     0.0022  (15pcs Miniature Porcelain Plate Colorful Floral)\n",
              "4     0.0011                                      (Accessories)\n",
              "..       ...                                                ...\n",
              "300   0.0010  (Dungeon Masters Dungeons Dragons Rulebooks, D...\n",
              "301   0.0010  (Dungeons Dragons Players Handbook Rulebooks, ...\n",
              "302   0.0010  (Hanging Glitz Prism Birthday Decorations, Gli...\n",
              "303   0.0013  (Dungeon Masters Dungeons Dragons Rulebooks, D...\n",
              "304   0.0010  (Dungeon Masters Dungeons Dragons Rulebooks, D...\n",
              "\n",
              "[305 rows x 2 columns]"
            ],
            "text/html": [
              "\n",
              "  <div id=\"df-ca5416a8-3f2b-42de-8042-3ad248143a6c\">\n",
              "    <div class=\"colab-df-container\">\n",
              "      <div>\n",
              "<style scoped>\n",
              "    .dataframe tbody tr th:only-of-type {\n",
              "        vertical-align: middle;\n",
              "    }\n",
              "\n",
              "    .dataframe tbody tr th {\n",
              "        vertical-align: top;\n",
              "    }\n",
              "\n",
              "    .dataframe thead th {\n",
              "        text-align: right;\n",
              "    }\n",
              "</style>\n",
              "<table border=\"1\" class=\"dataframe\">\n",
              "  <thead>\n",
              "    <tr style=\"text-align: right;\">\n",
              "      <th></th>\n",
              "      <th>support</th>\n",
              "      <th>itemsets</th>\n",
              "    </tr>\n",
              "  </thead>\n",
              "  <tbody>\n",
              "    <tr>\n",
              "      <th>0</th>\n",
              "      <td>0.0017</td>\n",
              "      <td>(12pcs 1 2 inch Scenery Landscape)</td>\n",
              "    </tr>\n",
              "    <tr>\n",
              "      <th>1</th>\n",
              "      <td>0.0011</td>\n",
              "      <td>(12th Scale Dolls House Roofing)</td>\n",
              "    </tr>\n",
              "    <tr>\n",
              "      <th>2</th>\n",
              "      <td>0.0011</td>\n",
              "      <td>(15ml Body Adhesive brush applicator)</td>\n",
              "    </tr>\n",
              "    <tr>\n",
              "      <th>3</th>\n",
              "      <td>0.0022</td>\n",
              "      <td>(15pcs Miniature Porcelain Plate Colorful Floral)</td>\n",
              "    </tr>\n",
              "    <tr>\n",
              "      <th>4</th>\n",
              "      <td>0.0011</td>\n",
              "      <td>(Accessories)</td>\n",
              "    </tr>\n",
              "    <tr>\n",
              "      <th>...</th>\n",
              "      <td>...</td>\n",
              "      <td>...</td>\n",
              "    </tr>\n",
              "    <tr>\n",
              "      <th>300</th>\n",
              "      <td>0.0010</td>\n",
              "      <td>(Dungeon Masters Dungeons Dragons Rulebooks, D...</td>\n",
              "    </tr>\n",
              "    <tr>\n",
              "      <th>301</th>\n",
              "      <td>0.0010</td>\n",
              "      <td>(Dungeons Dragons Players Handbook Rulebooks, ...</td>\n",
              "    </tr>\n",
              "    <tr>\n",
              "      <th>302</th>\n",
              "      <td>0.0010</td>\n",
              "      <td>(Hanging Glitz Prism Birthday Decorations, Gli...</td>\n",
              "    </tr>\n",
              "    <tr>\n",
              "      <th>303</th>\n",
              "      <td>0.0013</td>\n",
              "      <td>(Dungeon Masters Dungeons Dragons Rulebooks, D...</td>\n",
              "    </tr>\n",
              "    <tr>\n",
              "      <th>304</th>\n",
              "      <td>0.0010</td>\n",
              "      <td>(Dungeon Masters Dungeons Dragons Rulebooks, D...</td>\n",
              "    </tr>\n",
              "  </tbody>\n",
              "</table>\n",
              "<p>305 rows × 2 columns</p>\n",
              "</div>\n",
              "      <button class=\"colab-df-convert\" onclick=\"convertToInteractive('df-ca5416a8-3f2b-42de-8042-3ad248143a6c')\"\n",
              "              title=\"Convert this dataframe to an interactive table.\"\n",
              "              style=\"display:none;\">\n",
              "        \n",
              "  <svg xmlns=\"http://www.w3.org/2000/svg\" height=\"24px\"viewBox=\"0 0 24 24\"\n",
              "       width=\"24px\">\n",
              "    <path d=\"M0 0h24v24H0V0z\" fill=\"none\"/>\n",
              "    <path d=\"M18.56 5.44l.94 2.06.94-2.06 2.06-.94-2.06-.94-.94-2.06-.94 2.06-2.06.94zm-11 1L8.5 8.5l.94-2.06 2.06-.94-2.06-.94L8.5 2.5l-.94 2.06-2.06.94zm10 10l.94 2.06.94-2.06 2.06-.94-2.06-.94-.94-2.06-.94 2.06-2.06.94z\"/><path d=\"M17.41 7.96l-1.37-1.37c-.4-.4-.92-.59-1.43-.59-.52 0-1.04.2-1.43.59L10.3 9.45l-7.72 7.72c-.78.78-.78 2.05 0 2.83L4 21.41c.39.39.9.59 1.41.59.51 0 1.02-.2 1.41-.59l7.78-7.78 2.81-2.81c.8-.78.8-2.07 0-2.86zM5.41 20L4 18.59l7.72-7.72 1.47 1.35L5.41 20z\"/>\n",
              "  </svg>\n",
              "      </button>\n",
              "      \n",
              "  <style>\n",
              "    .colab-df-container {\n",
              "      display:flex;\n",
              "      flex-wrap:wrap;\n",
              "      gap: 12px;\n",
              "    }\n",
              "\n",
              "    .colab-df-convert {\n",
              "      background-color: #E8F0FE;\n",
              "      border: none;\n",
              "      border-radius: 50%;\n",
              "      cursor: pointer;\n",
              "      display: none;\n",
              "      fill: #1967D2;\n",
              "      height: 32px;\n",
              "      padding: 0 0 0 0;\n",
              "      width: 32px;\n",
              "    }\n",
              "\n",
              "    .colab-df-convert:hover {\n",
              "      background-color: #E2EBFA;\n",
              "      box-shadow: 0px 1px 2px rgba(60, 64, 67, 0.3), 0px 1px 3px 1px rgba(60, 64, 67, 0.15);\n",
              "      fill: #174EA6;\n",
              "    }\n",
              "\n",
              "    [theme=dark] .colab-df-convert {\n",
              "      background-color: #3B4455;\n",
              "      fill: #D2E3FC;\n",
              "    }\n",
              "\n",
              "    [theme=dark] .colab-df-convert:hover {\n",
              "      background-color: #434B5C;\n",
              "      box-shadow: 0px 1px 3px 1px rgba(0, 0, 0, 0.15);\n",
              "      filter: drop-shadow(0px 1px 2px rgba(0, 0, 0, 0.3));\n",
              "      fill: #FFFFFF;\n",
              "    }\n",
              "  </style>\n",
              "\n",
              "      <script>\n",
              "        const buttonEl =\n",
              "          document.querySelector('#df-ca5416a8-3f2b-42de-8042-3ad248143a6c button.colab-df-convert');\n",
              "        buttonEl.style.display =\n",
              "          google.colab.kernel.accessAllowed ? 'block' : 'none';\n",
              "\n",
              "        async function convertToInteractive(key) {\n",
              "          const element = document.querySelector('#df-ca5416a8-3f2b-42de-8042-3ad248143a6c');\n",
              "          const dataTable =\n",
              "            await google.colab.kernel.invokeFunction('convertToInteractive',\n",
              "                                                     [key], {});\n",
              "          if (!dataTable) return;\n",
              "\n",
              "          const docLinkHtml = 'Like what you see? Visit the ' +\n",
              "            '<a target=\"_blank\" href=https://colab.research.google.com/notebooks/data_table.ipynb>data table notebook</a>'\n",
              "            + ' to learn more about interactive tables.';\n",
              "          element.innerHTML = '';\n",
              "          dataTable['output_type'] = 'display_data';\n",
              "          await google.colab.output.renderOutput(dataTable, element);\n",
              "          const docLink = document.createElement('div');\n",
              "          docLink.innerHTML = docLinkHtml;\n",
              "          element.appendChild(docLink);\n",
              "        }\n",
              "      </script>\n",
              "    </div>\n",
              "  </div>\n",
              "  "
            ]
          },
          "metadata": {},
          "execution_count": 95
        }
      ]
    },
    {
      "cell_type": "code",
      "source": [
        "rules = association_rules(frequentItems, metric=\"lift\")\n",
        "rules.antecedents = rules.antecedents.apply(lambda x: next(iter(x)))\n",
        "rules.consequents = rules.consequents.apply(lambda x: next(iter(x)))\n",
        "rules.head(10)"
      ],
      "metadata": {
        "colab": {
          "base_uri": "https://localhost:8080/",
          "height": 528
        },
        "outputId": "165ccb3f-8fa1-4438-98bc-08955f9d8de7",
        "id": "_DkR3tVUCnUN"
      },
      "execution_count": null,
      "outputs": [
        {
          "output_type": "execute_result",
          "data": {
            "text/plain": [
              "                                         antecedents  \\\n",
              "0                15ml Body Adhesive brush applicator   \n",
              "1                     Girls 10ml Glitter Tattoo Glue   \n",
              "2  Dollhouse Miniature Assorted Chocolate Strawberry   \n",
              "3    15pcs Miniature Porcelain Plate Colorful Floral   \n",
              "4                          Silver Hearts Holographic   \n",
              "5       Birthday Tropical Assorted Qualatex Balloons   \n",
              "6                            Chessex Dice Polyhedral   \n",
              "7                                         Polyhedral   \n",
              "8                                         Clementoni   \n",
              "9                                       Ravensburger   \n",
              "\n",
              "                                         consequents  antecedent support  \\\n",
              "0                     Girls 10ml Glitter Tattoo Glue              0.0011   \n",
              "1                15ml Body Adhesive brush applicator              0.0027   \n",
              "2    15pcs Miniature Porcelain Plate Colorful Floral              0.0012   \n",
              "3  Dollhouse Miniature Assorted Chocolate Strawberry              0.0022   \n",
              "4       Birthday Tropical Assorted Qualatex Balloons              0.0024   \n",
              "5                          Silver Hearts Holographic              0.0045   \n",
              "6                                         Polyhedral              0.0011   \n",
              "7                            Chessex Dice Polyhedral              0.0020   \n",
              "8                                       Ravensburger              0.0015   \n",
              "9                                         Clementoni              0.0167   \n",
              "\n",
              "   consequent support  support  confidence        lift  leverage  conviction  \n",
              "0              0.0027   0.0011    1.000000  370.370370  0.001097         inf  \n",
              "1              0.0011   0.0011    0.407407  370.370370  0.001097    1.685644  \n",
              "2              0.0022   0.0011    0.916667  416.666667  0.001097   11.973600  \n",
              "3              0.0012   0.0011    0.500000  416.666667  0.001097    1.997600  \n",
              "4              0.0045   0.0010    0.416667   92.592593  0.000989    1.706571  \n",
              "5              0.0024   0.0010    0.222222   92.592593  0.000989    1.282629  \n",
              "6              0.0020   0.0010    0.909091  454.545455  0.000998   10.978000  \n",
              "7              0.0011   0.0010    0.500000  454.545455  0.000998    1.997800  \n",
              "8              0.0167   0.0012    0.800000   47.904192  0.001175    4.916500  \n",
              "9              0.0015   0.0012    0.071856   47.904192  0.001175    1.075803  "
            ],
            "text/html": [
              "\n",
              "  <div id=\"df-6d73e7a6-2ae5-445b-8521-5ef7b34d83a5\">\n",
              "    <div class=\"colab-df-container\">\n",
              "      <div>\n",
              "<style scoped>\n",
              "    .dataframe tbody tr th:only-of-type {\n",
              "        vertical-align: middle;\n",
              "    }\n",
              "\n",
              "    .dataframe tbody tr th {\n",
              "        vertical-align: top;\n",
              "    }\n",
              "\n",
              "    .dataframe thead th {\n",
              "        text-align: right;\n",
              "    }\n",
              "</style>\n",
              "<table border=\"1\" class=\"dataframe\">\n",
              "  <thead>\n",
              "    <tr style=\"text-align: right;\">\n",
              "      <th></th>\n",
              "      <th>antecedents</th>\n",
              "      <th>consequents</th>\n",
              "      <th>antecedent support</th>\n",
              "      <th>consequent support</th>\n",
              "      <th>support</th>\n",
              "      <th>confidence</th>\n",
              "      <th>lift</th>\n",
              "      <th>leverage</th>\n",
              "      <th>conviction</th>\n",
              "    </tr>\n",
              "  </thead>\n",
              "  <tbody>\n",
              "    <tr>\n",
              "      <th>0</th>\n",
              "      <td>15ml Body Adhesive brush applicator</td>\n",
              "      <td>Girls 10ml Glitter Tattoo Glue</td>\n",
              "      <td>0.0011</td>\n",
              "      <td>0.0027</td>\n",
              "      <td>0.0011</td>\n",
              "      <td>1.000000</td>\n",
              "      <td>370.370370</td>\n",
              "      <td>0.001097</td>\n",
              "      <td>inf</td>\n",
              "    </tr>\n",
              "    <tr>\n",
              "      <th>1</th>\n",
              "      <td>Girls 10ml Glitter Tattoo Glue</td>\n",
              "      <td>15ml Body Adhesive brush applicator</td>\n",
              "      <td>0.0027</td>\n",
              "      <td>0.0011</td>\n",
              "      <td>0.0011</td>\n",
              "      <td>0.407407</td>\n",
              "      <td>370.370370</td>\n",
              "      <td>0.001097</td>\n",
              "      <td>1.685644</td>\n",
              "    </tr>\n",
              "    <tr>\n",
              "      <th>2</th>\n",
              "      <td>Dollhouse Miniature Assorted Chocolate Strawberry</td>\n",
              "      <td>15pcs Miniature Porcelain Plate Colorful Floral</td>\n",
              "      <td>0.0012</td>\n",
              "      <td>0.0022</td>\n",
              "      <td>0.0011</td>\n",
              "      <td>0.916667</td>\n",
              "      <td>416.666667</td>\n",
              "      <td>0.001097</td>\n",
              "      <td>11.973600</td>\n",
              "    </tr>\n",
              "    <tr>\n",
              "      <th>3</th>\n",
              "      <td>15pcs Miniature Porcelain Plate Colorful Floral</td>\n",
              "      <td>Dollhouse Miniature Assorted Chocolate Strawberry</td>\n",
              "      <td>0.0022</td>\n",
              "      <td>0.0012</td>\n",
              "      <td>0.0011</td>\n",
              "      <td>0.500000</td>\n",
              "      <td>416.666667</td>\n",
              "      <td>0.001097</td>\n",
              "      <td>1.997600</td>\n",
              "    </tr>\n",
              "    <tr>\n",
              "      <th>4</th>\n",
              "      <td>Silver Hearts Holographic</td>\n",
              "      <td>Birthday Tropical Assorted Qualatex Balloons</td>\n",
              "      <td>0.0024</td>\n",
              "      <td>0.0045</td>\n",
              "      <td>0.0010</td>\n",
              "      <td>0.416667</td>\n",
              "      <td>92.592593</td>\n",
              "      <td>0.000989</td>\n",
              "      <td>1.706571</td>\n",
              "    </tr>\n",
              "    <tr>\n",
              "      <th>5</th>\n",
              "      <td>Birthday Tropical Assorted Qualatex Balloons</td>\n",
              "      <td>Silver Hearts Holographic</td>\n",
              "      <td>0.0045</td>\n",
              "      <td>0.0024</td>\n",
              "      <td>0.0010</td>\n",
              "      <td>0.222222</td>\n",
              "      <td>92.592593</td>\n",
              "      <td>0.000989</td>\n",
              "      <td>1.282629</td>\n",
              "    </tr>\n",
              "    <tr>\n",
              "      <th>6</th>\n",
              "      <td>Chessex Dice Polyhedral</td>\n",
              "      <td>Polyhedral</td>\n",
              "      <td>0.0011</td>\n",
              "      <td>0.0020</td>\n",
              "      <td>0.0010</td>\n",
              "      <td>0.909091</td>\n",
              "      <td>454.545455</td>\n",
              "      <td>0.000998</td>\n",
              "      <td>10.978000</td>\n",
              "    </tr>\n",
              "    <tr>\n",
              "      <th>7</th>\n",
              "      <td>Polyhedral</td>\n",
              "      <td>Chessex Dice Polyhedral</td>\n",
              "      <td>0.0020</td>\n",
              "      <td>0.0011</td>\n",
              "      <td>0.0010</td>\n",
              "      <td>0.500000</td>\n",
              "      <td>454.545455</td>\n",
              "      <td>0.000998</td>\n",
              "      <td>1.997800</td>\n",
              "    </tr>\n",
              "    <tr>\n",
              "      <th>8</th>\n",
              "      <td>Clementoni</td>\n",
              "      <td>Ravensburger</td>\n",
              "      <td>0.0015</td>\n",
              "      <td>0.0167</td>\n",
              "      <td>0.0012</td>\n",
              "      <td>0.800000</td>\n",
              "      <td>47.904192</td>\n",
              "      <td>0.001175</td>\n",
              "      <td>4.916500</td>\n",
              "    </tr>\n",
              "    <tr>\n",
              "      <th>9</th>\n",
              "      <td>Ravensburger</td>\n",
              "      <td>Clementoni</td>\n",
              "      <td>0.0167</td>\n",
              "      <td>0.0015</td>\n",
              "      <td>0.0012</td>\n",
              "      <td>0.071856</td>\n",
              "      <td>47.904192</td>\n",
              "      <td>0.001175</td>\n",
              "      <td>1.075803</td>\n",
              "    </tr>\n",
              "  </tbody>\n",
              "</table>\n",
              "</div>\n",
              "      <button class=\"colab-df-convert\" onclick=\"convertToInteractive('df-6d73e7a6-2ae5-445b-8521-5ef7b34d83a5')\"\n",
              "              title=\"Convert this dataframe to an interactive table.\"\n",
              "              style=\"display:none;\">\n",
              "        \n",
              "  <svg xmlns=\"http://www.w3.org/2000/svg\" height=\"24px\"viewBox=\"0 0 24 24\"\n",
              "       width=\"24px\">\n",
              "    <path d=\"M0 0h24v24H0V0z\" fill=\"none\"/>\n",
              "    <path d=\"M18.56 5.44l.94 2.06.94-2.06 2.06-.94-2.06-.94-.94-2.06-.94 2.06-2.06.94zm-11 1L8.5 8.5l.94-2.06 2.06-.94-2.06-.94L8.5 2.5l-.94 2.06-2.06.94zm10 10l.94 2.06.94-2.06 2.06-.94-2.06-.94-.94-2.06-.94 2.06-2.06.94z\"/><path d=\"M17.41 7.96l-1.37-1.37c-.4-.4-.92-.59-1.43-.59-.52 0-1.04.2-1.43.59L10.3 9.45l-7.72 7.72c-.78.78-.78 2.05 0 2.83L4 21.41c.39.39.9.59 1.41.59.51 0 1.02-.2 1.41-.59l7.78-7.78 2.81-2.81c.8-.78.8-2.07 0-2.86zM5.41 20L4 18.59l7.72-7.72 1.47 1.35L5.41 20z\"/>\n",
              "  </svg>\n",
              "      </button>\n",
              "      \n",
              "  <style>\n",
              "    .colab-df-container {\n",
              "      display:flex;\n",
              "      flex-wrap:wrap;\n",
              "      gap: 12px;\n",
              "    }\n",
              "\n",
              "    .colab-df-convert {\n",
              "      background-color: #E8F0FE;\n",
              "      border: none;\n",
              "      border-radius: 50%;\n",
              "      cursor: pointer;\n",
              "      display: none;\n",
              "      fill: #1967D2;\n",
              "      height: 32px;\n",
              "      padding: 0 0 0 0;\n",
              "      width: 32px;\n",
              "    }\n",
              "\n",
              "    .colab-df-convert:hover {\n",
              "      background-color: #E2EBFA;\n",
              "      box-shadow: 0px 1px 2px rgba(60, 64, 67, 0.3), 0px 1px 3px 1px rgba(60, 64, 67, 0.15);\n",
              "      fill: #174EA6;\n",
              "    }\n",
              "\n",
              "    [theme=dark] .colab-df-convert {\n",
              "      background-color: #3B4455;\n",
              "      fill: #D2E3FC;\n",
              "    }\n",
              "\n",
              "    [theme=dark] .colab-df-convert:hover {\n",
              "      background-color: #434B5C;\n",
              "      box-shadow: 0px 1px 3px 1px rgba(0, 0, 0, 0.15);\n",
              "      filter: drop-shadow(0px 1px 2px rgba(0, 0, 0, 0.3));\n",
              "      fill: #FFFFFF;\n",
              "    }\n",
              "  </style>\n",
              "\n",
              "      <script>\n",
              "        const buttonEl =\n",
              "          document.querySelector('#df-6d73e7a6-2ae5-445b-8521-5ef7b34d83a5 button.colab-df-convert');\n",
              "        buttonEl.style.display =\n",
              "          google.colab.kernel.accessAllowed ? 'block' : 'none';\n",
              "\n",
              "        async function convertToInteractive(key) {\n",
              "          const element = document.querySelector('#df-6d73e7a6-2ae5-445b-8521-5ef7b34d83a5');\n",
              "          const dataTable =\n",
              "            await google.colab.kernel.invokeFunction('convertToInteractive',\n",
              "                                                     [key], {});\n",
              "          if (!dataTable) return;\n",
              "\n",
              "          const docLinkHtml = 'Like what you see? Visit the ' +\n",
              "            '<a target=\"_blank\" href=https://colab.research.google.com/notebooks/data_table.ipynb>data table notebook</a>'\n",
              "            + ' to learn more about interactive tables.';\n",
              "          element.innerHTML = '';\n",
              "          dataTable['output_type'] = 'display_data';\n",
              "          await google.colab.output.renderOutput(dataTable, element);\n",
              "          const docLink = document.createElement('div');\n",
              "          docLink.innerHTML = docLinkHtml;\n",
              "          element.appendChild(docLink);\n",
              "        }\n",
              "      </script>\n",
              "    </div>\n",
              "  </div>\n",
              "  "
            ]
          },
          "metadata": {},
          "execution_count": 96
        }
      ]
    },
    {
      "cell_type": "code",
      "source": [
        "!pip install --upgrade scipy networkx "
      ],
      "metadata": {
        "colab": {
          "base_uri": "https://localhost:8080/"
        },
        "outputId": "ceb2831b-baaf-4430-ef8d-54816fec0a59",
        "id": "3ByVCIOzCnUO"
      },
      "execution_count": null,
      "outputs": [
        {
          "output_type": "stream",
          "name": "stdout",
          "text": [
            "Looking in indexes: https://pypi.org/simple, https://us-python.pkg.dev/colab-wheels/public/simple/\n",
            "Requirement already satisfied: scipy in /usr/local/lib/python3.8/dist-packages (1.7.3)\n",
            "Collecting scipy\n",
            "  Downloading scipy-1.9.3-cp38-cp38-manylinux_2_17_x86_64.manylinux2014_x86_64.whl (33.8 MB)\n",
            "\u001b[K     |████████████████████████████████| 33.8 MB 210 kB/s \n",
            "\u001b[?25hRequirement already satisfied: networkx in /usr/local/lib/python3.8/dist-packages (2.6.3)\n",
            "Collecting networkx\n",
            "  Downloading networkx-2.8.8-py3-none-any.whl (2.0 MB)\n",
            "\u001b[K     |████████████████████████████████| 2.0 MB 67.5 MB/s \n",
            "\u001b[?25hRequirement already satisfied: numpy<1.26.0,>=1.18.5 in /usr/local/lib/python3.8/dist-packages (from scipy) (1.21.6)\n",
            "Installing collected packages: scipy, networkx\n",
            "  Attempting uninstall: scipy\n",
            "    Found existing installation: scipy 1.7.3\n",
            "    Uninstalling scipy-1.7.3:\n",
            "      Successfully uninstalled scipy-1.7.3\n",
            "  Attempting uninstall: networkx\n",
            "    Found existing installation: networkx 2.6.3\n",
            "    Uninstalling networkx-2.6.3:\n",
            "      Successfully uninstalled networkx-2.6.3\n",
            "Successfully installed networkx-2.8.8 scipy-1.9.3\n"
          ]
        }
      ]
    },
    {
      "cell_type": "code",
      "source": [
        "!pip install 'networkx<2.7'"
      ],
      "metadata": {
        "colab": {
          "base_uri": "https://localhost:8080/"
        },
        "outputId": "4b62aac6-c9ae-4242-9e9c-64a12038dc9b",
        "id": "xbS27DsFCnUO"
      },
      "execution_count": null,
      "outputs": [
        {
          "output_type": "stream",
          "name": "stdout",
          "text": [
            "Looking in indexes: https://pypi.org/simple, https://us-python.pkg.dev/colab-wheels/public/simple/\n",
            "Collecting networkx<2.7\n",
            "  Downloading networkx-2.6.3-py3-none-any.whl (1.9 MB)\n",
            "\u001b[K     |████████████████████████████████| 1.9 MB 15.2 MB/s \n",
            "\u001b[?25hInstalling collected packages: networkx\n",
            "  Attempting uninstall: networkx\n",
            "    Found existing installation: networkx 2.8.8\n",
            "    Uninstalling networkx-2.8.8:\n",
            "      Successfully uninstalled networkx-2.8.8\n",
            "Successfully installed networkx-2.6.3\n"
          ]
        }
      ]
    },
    {
      "cell_type": "code",
      "source": [
        "import networkx as nx\n",
        "import plotly.express as px\n",
        "import plotly.graph_objects as go\n",
        "import plotly.figure_factory as ff\n",
        "from plotly.offline import download_plotlyjs, init_notebook_mode, iplot\n",
        "network_A = list(rules[\"antecedents\"].unique())\n",
        "network_B = list(rules[\"consequents\"].unique())\n",
        "node_list = list(set(network_A + network_B))\n",
        "G = nx.Graph()\n",
        "for i in node_list:\n",
        "    G.add_node(i)\n",
        "for i,j in rules.iterrows():\n",
        "    G.add_edges_from([(j[\"antecedents\"], j[\"consequents\"])])\n",
        "pos = nx.spring_layout(G, k=0.5, dim=2, iterations=400)\n",
        "for n, p in pos.items():\n",
        "    G.nodes[n]['pos'] = p\n",
        "\n",
        "edge_trace = go.Scatter(x=[], y=[], line=dict(width=0.5, color='#888'), hoverinfo='none', mode='lines')\n",
        "\n",
        "for edge in G.edges():\n",
        "    x0, y0 = G.nodes[edge[0]]['pos']\n",
        "    x1, y1 = G.nodes[edge[1]]['pos']\n",
        "    edge_trace['x'] += tuple([x0, x1, None])\n",
        "    edge_trace['y'] += tuple([y0, y1, None])\n",
        "\n",
        "node_trace = go.Scatter(x=[], y=[], text=[], mode='markers', hoverinfo='text',\n",
        "    marker=dict(showscale=True, colorscale='Burg', reversescale=True, color=[], size=15,\n",
        "    colorbar=dict(thickness=10, title='Node Connections', xanchor='left', titleside='right')))\n",
        "\n",
        "for node in G.nodes():\n",
        "    x, y = G.nodes[node]['pos']\n",
        "    node_trace['x'] += tuple([x])\n",
        "    node_trace['y'] += tuple([y])\n",
        "\n",
        "for node, adjacencies in enumerate(G.adjacency()):\n",
        "    node_trace['marker']['color']+=tuple([len(adjacencies[1])])\n",
        "    node_info = str(adjacencies[0]) +'<br>No of Connections: {}'.format(str(len(adjacencies[1])))\n",
        "    node_trace['text']+=tuple([node_info])\n",
        "\n",
        "fig = go.Figure(data=[edge_trace, node_trace], \n",
        "    layout=go.Layout(title='Item Connections Network', titlefont=dict(size=20),\n",
        "    plot_bgcolor='white', showlegend=False, margin=dict(b=0,l=0,r=0,t=50),\n",
        "    xaxis=dict(showgrid=False, zeroline=False, showticklabels=False),\n",
        "    yaxis=dict(showgrid=False, zeroline=False, showticklabels=False)))\n",
        "\n",
        "iplot(fig)"
      ],
      "metadata": {
        "colab": {
          "base_uri": "https://localhost:8080/",
          "height": 542
        },
        "outputId": "1a6b8a80-1c59-4ce8-db9a-cf3b1ea414c5",
        "id": "x9CR85zrCnUO"
      },
      "execution_count": null,
      "outputs": [
        {
          "output_type": "display_data",
          "data": {
            "text/html": [
              "<html>\n",
              "<head><meta charset=\"utf-8\" /></head>\n",
              "<body>\n",
              "    <div>            <script src=\"https://cdnjs.cloudflare.com/ajax/libs/mathjax/2.7.5/MathJax.js?config=TeX-AMS-MML_SVG\"></script><script type=\"text/javascript\">if (window.MathJax) {MathJax.Hub.Config({SVG: {font: \"STIX-Web\"}});}</script>                <script type=\"text/javascript\">window.PlotlyConfig = {MathJaxConfig: 'local'};</script>\n",
              "        <script src=\"https://cdn.plot.ly/plotly-2.8.3.min.js\"></script>                <div id=\"c95bc2cc-72b8-488e-bf9a-17136a7ca665\" class=\"plotly-graph-div\" style=\"height:525px; width:100%;\"></div>            <script type=\"text/javascript\">                                    window.PLOTLYENV=window.PLOTLYENV || {};                                    if (document.getElementById(\"c95bc2cc-72b8-488e-bf9a-17136a7ca665\")) {                    Plotly.newPlot(                        \"c95bc2cc-72b8-488e-bf9a-17136a7ca665\",                        [{\"hoverinfo\":\"none\",\"line\":{\"color\":\"#888\",\"width\":0.5},\"mode\":\"lines\",\"x\":[0.988576896509033,0.9574478341470044,null,0.9470259114418351,0.9780160111030152,null,-0.8993444686313764,-0.8698464337870864,null,-0.967481686609233,-0.9842036533446259,null,-0.6524912330906735,-0.6597131545423973,null,-0.6524912330906735,-0.6416971183481428,null,-0.6524912330906735,-0.6268230112419446,null,-0.6524912330906735,-0.6255298078134698,null,-0.6798559432316899,-0.6838651168395626,null,-0.6798559432316899,-0.6545004395209525,null,-0.6416971183481428,-0.6597131545423973,null,-0.6416971183481428,-0.6268230112419446,null,-0.6416971183481428,-0.6255298078134698,null,0.9195318243416953,0.9200052097143568,null,-0.18108698391257658,-0.1874691425105255,null,0.022350515925214094,0.022451710932458884,null,0.5050302203693101,0.5116156599410299,null,-0.8981179617261268,-0.9015658364793628,null,0.7870319371056889,0.7687505642482776,null,0.9160792830699058,0.9412515507602688,null,0.9160792830699058,0.937996975045807,null,-0.30361560083803985,-0.27278202715639377,null,-0.27278202715639377,-0.23939402315907565,null,-0.27278202715639377,-0.2838940878122181,null,-0.27278202715639377,-0.2631539828038031,null,-0.6787780677657922,-0.6838651168395626,null,-0.6255298078134698,-0.6268230112419446,null,0.23608918358804243,0.25483695576010706,null,-0.9685961527346072,-0.9879814606451953,null,-0.9685961527346072,-0.9676661772602339,null,0.7821794144281646,0.7585031228735872,null,-0.7189144892725892,-0.6838651168395626,null,0.5847011776986872,0.562552813076568,null,-0.6597131545423973,-0.6268230112419446,null,0.7687505642482776,0.7441357233908638,null,0.03468176761090958,0.013467183465836082,null,-0.9676661772602339,-0.9879814606451953,null,-0.39179600258530295,-0.4039469368140917,null,0.694690656655719,0.7142808716754516,null,0.28295054311339474,0.27315693286796056,null,-0.6268230112419446,-0.5954836294531818,null,0.4411854565546634,0.42707438829410194,null,0.26194633422131397,0.27315693286796056,null,-0.6545004395209525,-0.6838651168395626,null],\"y\":[-0.05315568044236011,-0.05112624417732281,null,0.16269972933948246,0.16731361706978068,null,0.34913831659542477,0.33787518072327527,null,-0.0024002372192170594,-0.03695233545981644,null,0.6271242020302089,0.6005117604364819,null,0.6271242020302089,0.6145546152406994,null,0.6271242020302089,0.6001435598469195,null,0.6271242020302089,0.631880916351316,null,-0.6401334559980743,-0.6693112620487867,null,-0.6401334559980743,-0.6389940181999484,null,0.6145546152406994,0.6005117604364819,null,0.6145546152406994,0.6001435598469195,null,0.6145546152406994,0.631880916351316,null,0.3666878052819215,0.3915974340570974,null,0.9247070988547145,0.9550707769384816,null,-0.9502160316328628,-0.9236566399678912,null,-0.7963591895640358,-0.8206250838962333,null,-0.3571577638458689,-0.38190828187454817,null,0.5974186260072323,0.5760193923127116,null,-0.32246967534038246,-0.345974551328122,null,-0.32246967534038246,-0.30205164573078236,null,-0.8121763102642087,-0.8254868669571598,null,-0.8254868669571598,-0.8302201640710326,null,-0.8254868669571598,-0.8618327939168594,null,-0.8254868669571598,-0.7923432348658697,null,-0.7035505752775335,-0.6693112620487867,null,0.631880916351316,0.6001435598469195,null,0.974889310166855,0.9585466475303849,null,0.025786335780599575,0.016654257714211543,null,0.025786335780599575,-0.010756393460805038,null,-0.5147523113212034,-0.49909280989501764,null,-0.6864051950972655,-0.6693112620487867,null,0.7290920710533351,0.71775299863983,null,0.6005117604364819,0.6001435598469195,null,0.5760193923127116,0.5542095849810397,null,0.9869238393776366,1.0,null,-0.010756393460805038,0.016654257714211543,null,0.8618476196142943,0.8848848294810704,null,-0.7211195444007742,-0.7056789086691636,null,-0.9213341387923728,-0.8889590540728274,null,0.6001435598469195,0.5695498758937032,null,0.8820390294944358,0.8537300770683747,null,-0.8524491100931725,-0.8889590540728274,null,-0.6389940181999484,-0.6693112620487867,null],\"type\":\"scatter\"},{\"hoverinfo\":\"text\",\"marker\":{\"color\":[1,1,1,1,1,4,2,4,1,1,1,1,1,1,1,1,1,2,1,1,4,1,3,1,1,2,1,1,1,1,1,3,1,2,1,1,2,1,1,1,1,1,1,5,1,1,1,1,1,2,1,1,2,1,1,1,1,1,2,4],\"colorbar\":{\"thickness\":10,\"title\":{\"side\":\"right\",\"text\":\"Node Connections\"},\"xanchor\":\"left\"},\"colorscale\":[[0.0,\"rgb(255, 198, 196)\"],[0.16666666666666666,\"rgb(244, 163, 168)\"],[0.3333333333333333,\"rgb(227, 129, 145)\"],[0.5,\"rgb(204, 96, 125)\"],[0.6666666666666666,\"rgb(173, 70, 108)\"],[0.8333333333333334,\"rgb(139, 48, 88)\"],[1.0,\"rgb(103, 32, 68)\"]],\"reversescale\":true,\"showscale\":true,\"size\":15},\"mode\":\"markers\",\"text\":[\"Hornby R8222 Gauge Track Extension<br>No of Connections: 1\",\"Hornby R8223 Gauge Track Extension<br>No of Connections: 1\",\"Magic The Gathering Origins Pack<br>No of Connections: 1\",\"Never Pirates Deluxe Adventure Figure<br>No of Connections: 1\",\"Silver Hearts Holographic<br>No of Connections: 1\",\"Monster Manual Dungeons Rulebook Rulebooks<br>No of Connections: 4\",\"Playmobil 4783 Collectable<br>No of Connections: 2\",\"Dungeon Masters Dungeons Dragons Rulebooks<br>No of Connections: 4\",\"Clementoni<br>No of Connections: 1\",\"Never Pirates Hooks Jolly Pirate<br>No of Connections: 1\",\"Chessex Dice Polyhedral<br>No of Connections: 1\",\"Polyhedral<br>No of Connections: 1\",\"Ravensburger<br>No of Connections: 1\",\"Loom Bandz Rainbow Colours Black<br>No of Connections: 1\",\"Perfectly Pink Party Birthday Bunting<br>No of Connections: 1\",\"The Puppet Company Long Sleeves<br>No of Connections: 1\",\"Glitz Black Silver Birthday Balloons<br>No of Connections: 1\",\"Yu Gi Oh Legendary Collection<br>No of Connections: 2\",\"Yu Gi Oh Games Yugis Legendary Holiday<br>No of Connections: 1\",\"Mixed Girls Glitter Tattoo Stencils<br>No of Connections: 1\",\"Girls 10ml Glitter Tattoo Glue<br>No of Connections: 4\",\"Playmobil 5135 Large Pirate Ship<br>No of Connections: 1\",\"Dungeons Dragons Starter Boxed Game<br>No of Connections: 3\",\"Yu Gi Oh Premium Gold Booster Pack<br>No of Connections: 1\",\"Motion Sand Beach Bucket Playset<br>No of Connections: 1\",\"Glitz Blue Latex Birthday Balloons<br>No of Connections: 2\",\"15pcs Miniature Porcelain Plate Colorful Floral<br>No of Connections: 1\",\"15ml Body Adhesive brush applicator<br>No of Connections: 1\",\"Glitz Pink Latex Birthday Balloons<br>No of Connections: 1\",\"Playmobil 5137 Pirates Rowboat<br>No of Connections: 1\",\"Crafted Cherry Wooden Chess Draughts<br>No of Connections: 1\",\"Dungeon Masters Dungeons Dragons Accessories<br>No of Connections: 3\",\"Magic Gathering Origins Deck Builders<br>No of Connections: 1\",\"Glitz Black Birthday Bunting Banner<br>No of Connections: 2\",\"Loom Bandz Rainbow Colours White<br>No of Connections: 1\",\"Melissa Doug Deluxe Puppet Theatre<br>No of Connections: 1\",\"Hanging Glitz Prism Birthday Decorations<br>No of Connections: 2\",\"Motion Sand Sand%C2%AE 2000g Pack<br>No of Connections: 1\",\"Pack Junior Glitter Tattoo Stencils<br>No of Connections: 1\",\"Birthday Tropical Assorted Qualatex Balloons<br>No of Connections: 1\",\"Papo 39338 King Richard Red<br>No of Connections: 1\",\"Schleich Griffin Knight with Sword<br>No of Connections: 1\",\"Tommee Tippee Sangenic Compatible<br>No of Connections: 1\",\"Dungeons Dragons Players Handbook Rulebooks<br>No of Connections: 5\",\"Papo Knights 39384 Red Bowman<br>No of Connections: 1\",\"Dollhouse Miniature Assorted Chocolate Strawberry<br>No of Connections: 1\",\"Q Workshop QWOELV01 Q workshop Elven Bag<br>No of Connections: 1\",\"The Creativity<br>No of Connections: 1\",\"Rory Story Cubes Animalia Dice<br>No of Connections: 1\",\"Glitz Blue Foil Birthday Confetti<br>No of Connections: 2\",\"Woodeyland<br>No of Connections: 1\",\"Pampers Baby Junior Nappies Monthly<br>No of Connections: 1\",\"Playmobil 5298 Pirates Skull Corsair<br>No of Connections: 2\",\"Schleich Dragon Knight with Sword<br>No of Connections: 1\",\"Glitz Black Birthday Paper Napkins<br>No of Connections: 1\",\"The Puppet Company Sleeves Border<br>No of Connections: 1\",\"Pack Girls Glitter Tattoo Stencils<br>No of Connections: 1\",\"Melissa Doug 13899 Pirate Puppet<br>No of Connections: 1\",\"Johnsons Extra Sensitive Baby wipes<br>No of Connections: 2\",\"Playmobil 5136 Pirate Gang<br>No of Connections: 4\"],\"x\":[0.988576896509033,0.9574478341470044,0.9470259114418351,-0.8993444686313764,-0.967481686609233,-0.6524912330906735,-0.6798559432316899,-0.6416971183481428,0.9195318243416953,-0.8698464337870864,-0.18108698391257658,-0.1874691425105255,0.9200052097143568,0.022350515925214094,0.5050302203693101,-0.8981179617261268,0.7870319371056889,0.9160792830699058,0.9412515507602688,-0.30361560083803985,-0.27278202715639377,-0.6787780677657922,-0.6255298078134698,0.937996975045807,0.23608918358804243,-0.9685961527346072,0.7821794144281646,-0.23939402315907565,0.5116156599410299,-0.7189144892725892,0.5847011776986872,-0.6597131545423973,0.9780160111030152,0.7687505642482776,0.022451710932458884,0.03468176761090958,-0.9676661772602339,0.25483695576010706,-0.2631539828038031,-0.9842036533446259,-0.39179600258530295,0.694690656655719,0.28295054311339474,-0.6268230112419446,-0.4039469368140917,0.7585031228735872,-0.5954836294531818,0.4411854565546634,0.42707438829410194,-0.9879814606451953,0.562552813076568,0.26194633422131397,-0.6545004395209525,0.7142808716754516,0.7441357233908638,-0.9015658364793628,-0.2838940878122181,0.013467183465836082,0.27315693286796056,-0.6838651168395626],\"y\":[-0.05315568044236011,-0.05112624417732281,0.16269972933948246,0.34913831659542477,-0.0024002372192170594,0.6271242020302089,-0.6401334559980743,0.6145546152406994,0.3666878052819215,0.33787518072327527,0.9247070988547145,0.9550707769384816,0.3915974340570974,-0.9502160316328628,-0.7963591895640358,-0.3571577638458689,0.5974186260072323,-0.32246967534038246,-0.345974551328122,-0.8121763102642087,-0.8254868669571598,-0.7035505752775335,0.631880916351316,-0.30205164573078236,0.974889310166855,0.025786335780599575,-0.5147523113212034,-0.8302201640710326,-0.8206250838962333,-0.6864051950972655,0.7290920710533351,0.6005117604364819,0.16731361706978068,0.5760193923127116,-0.9236566399678912,0.9869238393776366,-0.010756393460805038,0.9585466475303849,-0.7923432348658697,-0.03695233545981644,0.8618476196142943,-0.7211195444007742,-0.9213341387923728,0.6001435598469195,0.8848848294810704,-0.49909280989501764,0.5695498758937032,0.8820390294944358,0.8537300770683747,0.016654257714211543,0.71775299863983,-0.8524491100931725,-0.6389940181999484,-0.7056789086691636,0.5542095849810397,-0.38190828187454817,-0.8618327939168594,1.0,-0.8889590540728274,-0.6693112620487867],\"type\":\"scatter\"}],                        {\"margin\":{\"b\":0,\"l\":0,\"r\":0,\"t\":50},\"plot_bgcolor\":\"white\",\"showlegend\":false,\"template\":{\"data\":{\"barpolar\":[{\"marker\":{\"line\":{\"color\":\"#E5ECF6\",\"width\":0.5},\"pattern\":{\"fillmode\":\"overlay\",\"size\":10,\"solidity\":0.2}},\"type\":\"barpolar\"}],\"bar\":[{\"error_x\":{\"color\":\"#2a3f5f\"},\"error_y\":{\"color\":\"#2a3f5f\"},\"marker\":{\"line\":{\"color\":\"#E5ECF6\",\"width\":0.5},\"pattern\":{\"fillmode\":\"overlay\",\"size\":10,\"solidity\":0.2}},\"type\":\"bar\"}],\"carpet\":[{\"aaxis\":{\"endlinecolor\":\"#2a3f5f\",\"gridcolor\":\"white\",\"linecolor\":\"white\",\"minorgridcolor\":\"white\",\"startlinecolor\":\"#2a3f5f\"},\"baxis\":{\"endlinecolor\":\"#2a3f5f\",\"gridcolor\":\"white\",\"linecolor\":\"white\",\"minorgridcolor\":\"white\",\"startlinecolor\":\"#2a3f5f\"},\"type\":\"carpet\"}],\"choropleth\":[{\"colorbar\":{\"outlinewidth\":0,\"ticks\":\"\"},\"type\":\"choropleth\"}],\"contourcarpet\":[{\"colorbar\":{\"outlinewidth\":0,\"ticks\":\"\"},\"type\":\"contourcarpet\"}],\"contour\":[{\"colorbar\":{\"outlinewidth\":0,\"ticks\":\"\"},\"colorscale\":[[0.0,\"#0d0887\"],[0.1111111111111111,\"#46039f\"],[0.2222222222222222,\"#7201a8\"],[0.3333333333333333,\"#9c179e\"],[0.4444444444444444,\"#bd3786\"],[0.5555555555555556,\"#d8576b\"],[0.6666666666666666,\"#ed7953\"],[0.7777777777777778,\"#fb9f3a\"],[0.8888888888888888,\"#fdca26\"],[1.0,\"#f0f921\"]],\"type\":\"contour\"}],\"heatmapgl\":[{\"colorbar\":{\"outlinewidth\":0,\"ticks\":\"\"},\"colorscale\":[[0.0,\"#0d0887\"],[0.1111111111111111,\"#46039f\"],[0.2222222222222222,\"#7201a8\"],[0.3333333333333333,\"#9c179e\"],[0.4444444444444444,\"#bd3786\"],[0.5555555555555556,\"#d8576b\"],[0.6666666666666666,\"#ed7953\"],[0.7777777777777778,\"#fb9f3a\"],[0.8888888888888888,\"#fdca26\"],[1.0,\"#f0f921\"]],\"type\":\"heatmapgl\"}],\"heatmap\":[{\"colorbar\":{\"outlinewidth\":0,\"ticks\":\"\"},\"colorscale\":[[0.0,\"#0d0887\"],[0.1111111111111111,\"#46039f\"],[0.2222222222222222,\"#7201a8\"],[0.3333333333333333,\"#9c179e\"],[0.4444444444444444,\"#bd3786\"],[0.5555555555555556,\"#d8576b\"],[0.6666666666666666,\"#ed7953\"],[0.7777777777777778,\"#fb9f3a\"],[0.8888888888888888,\"#fdca26\"],[1.0,\"#f0f921\"]],\"type\":\"heatmap\"}],\"histogram2dcontour\":[{\"colorbar\":{\"outlinewidth\":0,\"ticks\":\"\"},\"colorscale\":[[0.0,\"#0d0887\"],[0.1111111111111111,\"#46039f\"],[0.2222222222222222,\"#7201a8\"],[0.3333333333333333,\"#9c179e\"],[0.4444444444444444,\"#bd3786\"],[0.5555555555555556,\"#d8576b\"],[0.6666666666666666,\"#ed7953\"],[0.7777777777777778,\"#fb9f3a\"],[0.8888888888888888,\"#fdca26\"],[1.0,\"#f0f921\"]],\"type\":\"histogram2dcontour\"}],\"histogram2d\":[{\"colorbar\":{\"outlinewidth\":0,\"ticks\":\"\"},\"colorscale\":[[0.0,\"#0d0887\"],[0.1111111111111111,\"#46039f\"],[0.2222222222222222,\"#7201a8\"],[0.3333333333333333,\"#9c179e\"],[0.4444444444444444,\"#bd3786\"],[0.5555555555555556,\"#d8576b\"],[0.6666666666666666,\"#ed7953\"],[0.7777777777777778,\"#fb9f3a\"],[0.8888888888888888,\"#fdca26\"],[1.0,\"#f0f921\"]],\"type\":\"histogram2d\"}],\"histogram\":[{\"marker\":{\"pattern\":{\"fillmode\":\"overlay\",\"size\":10,\"solidity\":0.2}},\"type\":\"histogram\"}],\"mesh3d\":[{\"colorbar\":{\"outlinewidth\":0,\"ticks\":\"\"},\"type\":\"mesh3d\"}],\"parcoords\":[{\"line\":{\"colorbar\":{\"outlinewidth\":0,\"ticks\":\"\"}},\"type\":\"parcoords\"}],\"pie\":[{\"automargin\":true,\"type\":\"pie\"}],\"scatter3d\":[{\"line\":{\"colorbar\":{\"outlinewidth\":0,\"ticks\":\"\"}},\"marker\":{\"colorbar\":{\"outlinewidth\":0,\"ticks\":\"\"}},\"type\":\"scatter3d\"}],\"scattercarpet\":[{\"marker\":{\"colorbar\":{\"outlinewidth\":0,\"ticks\":\"\"}},\"type\":\"scattercarpet\"}],\"scattergeo\":[{\"marker\":{\"colorbar\":{\"outlinewidth\":0,\"ticks\":\"\"}},\"type\":\"scattergeo\"}],\"scattergl\":[{\"marker\":{\"colorbar\":{\"outlinewidth\":0,\"ticks\":\"\"}},\"type\":\"scattergl\"}],\"scattermapbox\":[{\"marker\":{\"colorbar\":{\"outlinewidth\":0,\"ticks\":\"\"}},\"type\":\"scattermapbox\"}],\"scatterpolargl\":[{\"marker\":{\"colorbar\":{\"outlinewidth\":0,\"ticks\":\"\"}},\"type\":\"scatterpolargl\"}],\"scatterpolar\":[{\"marker\":{\"colorbar\":{\"outlinewidth\":0,\"ticks\":\"\"}},\"type\":\"scatterpolar\"}],\"scatter\":[{\"marker\":{\"colorbar\":{\"outlinewidth\":0,\"ticks\":\"\"}},\"type\":\"scatter\"}],\"scatterternary\":[{\"marker\":{\"colorbar\":{\"outlinewidth\":0,\"ticks\":\"\"}},\"type\":\"scatterternary\"}],\"surface\":[{\"colorbar\":{\"outlinewidth\":0,\"ticks\":\"\"},\"colorscale\":[[0.0,\"#0d0887\"],[0.1111111111111111,\"#46039f\"],[0.2222222222222222,\"#7201a8\"],[0.3333333333333333,\"#9c179e\"],[0.4444444444444444,\"#bd3786\"],[0.5555555555555556,\"#d8576b\"],[0.6666666666666666,\"#ed7953\"],[0.7777777777777778,\"#fb9f3a\"],[0.8888888888888888,\"#fdca26\"],[1.0,\"#f0f921\"]],\"type\":\"surface\"}],\"table\":[{\"cells\":{\"fill\":{\"color\":\"#EBF0F8\"},\"line\":{\"color\":\"white\"}},\"header\":{\"fill\":{\"color\":\"#C8D4E3\"},\"line\":{\"color\":\"white\"}},\"type\":\"table\"}]},\"layout\":{\"annotationdefaults\":{\"arrowcolor\":\"#2a3f5f\",\"arrowhead\":0,\"arrowwidth\":1},\"autotypenumbers\":\"strict\",\"coloraxis\":{\"colorbar\":{\"outlinewidth\":0,\"ticks\":\"\"}},\"colorscale\":{\"diverging\":[[0,\"#8e0152\"],[0.1,\"#c51b7d\"],[0.2,\"#de77ae\"],[0.3,\"#f1b6da\"],[0.4,\"#fde0ef\"],[0.5,\"#f7f7f7\"],[0.6,\"#e6f5d0\"],[0.7,\"#b8e186\"],[0.8,\"#7fbc41\"],[0.9,\"#4d9221\"],[1,\"#276419\"]],\"sequential\":[[0.0,\"#0d0887\"],[0.1111111111111111,\"#46039f\"],[0.2222222222222222,\"#7201a8\"],[0.3333333333333333,\"#9c179e\"],[0.4444444444444444,\"#bd3786\"],[0.5555555555555556,\"#d8576b\"],[0.6666666666666666,\"#ed7953\"],[0.7777777777777778,\"#fb9f3a\"],[0.8888888888888888,\"#fdca26\"],[1.0,\"#f0f921\"]],\"sequentialminus\":[[0.0,\"#0d0887\"],[0.1111111111111111,\"#46039f\"],[0.2222222222222222,\"#7201a8\"],[0.3333333333333333,\"#9c179e\"],[0.4444444444444444,\"#bd3786\"],[0.5555555555555556,\"#d8576b\"],[0.6666666666666666,\"#ed7953\"],[0.7777777777777778,\"#fb9f3a\"],[0.8888888888888888,\"#fdca26\"],[1.0,\"#f0f921\"]]},\"colorway\":[\"#636efa\",\"#EF553B\",\"#00cc96\",\"#ab63fa\",\"#FFA15A\",\"#19d3f3\",\"#FF6692\",\"#B6E880\",\"#FF97FF\",\"#FECB52\"],\"font\":{\"color\":\"#2a3f5f\"},\"geo\":{\"bgcolor\":\"white\",\"lakecolor\":\"white\",\"landcolor\":\"#E5ECF6\",\"showlakes\":true,\"showland\":true,\"subunitcolor\":\"white\"},\"hoverlabel\":{\"align\":\"left\"},\"hovermode\":\"closest\",\"mapbox\":{\"style\":\"light\"},\"paper_bgcolor\":\"white\",\"plot_bgcolor\":\"#E5ECF6\",\"polar\":{\"angularaxis\":{\"gridcolor\":\"white\",\"linecolor\":\"white\",\"ticks\":\"\"},\"bgcolor\":\"#E5ECF6\",\"radialaxis\":{\"gridcolor\":\"white\",\"linecolor\":\"white\",\"ticks\":\"\"}},\"scene\":{\"xaxis\":{\"backgroundcolor\":\"#E5ECF6\",\"gridcolor\":\"white\",\"gridwidth\":2,\"linecolor\":\"white\",\"showbackground\":true,\"ticks\":\"\",\"zerolinecolor\":\"white\"},\"yaxis\":{\"backgroundcolor\":\"#E5ECF6\",\"gridcolor\":\"white\",\"gridwidth\":2,\"linecolor\":\"white\",\"showbackground\":true,\"ticks\":\"\",\"zerolinecolor\":\"white\"},\"zaxis\":{\"backgroundcolor\":\"#E5ECF6\",\"gridcolor\":\"white\",\"gridwidth\":2,\"linecolor\":\"white\",\"showbackground\":true,\"ticks\":\"\",\"zerolinecolor\":\"white\"}},\"shapedefaults\":{\"line\":{\"color\":\"#2a3f5f\"}},\"ternary\":{\"aaxis\":{\"gridcolor\":\"white\",\"linecolor\":\"white\",\"ticks\":\"\"},\"baxis\":{\"gridcolor\":\"white\",\"linecolor\":\"white\",\"ticks\":\"\"},\"bgcolor\":\"#E5ECF6\",\"caxis\":{\"gridcolor\":\"white\",\"linecolor\":\"white\",\"ticks\":\"\"}},\"title\":{\"x\":0.05},\"xaxis\":{\"automargin\":true,\"gridcolor\":\"white\",\"linecolor\":\"white\",\"ticks\":\"\",\"title\":{\"standoff\":15},\"zerolinecolor\":\"white\",\"zerolinewidth\":2},\"yaxis\":{\"automargin\":true,\"gridcolor\":\"white\",\"linecolor\":\"white\",\"ticks\":\"\",\"title\":{\"standoff\":15},\"zerolinecolor\":\"white\",\"zerolinewidth\":2}}},\"title\":{\"font\":{\"size\":20},\"text\":\"Item Connections Network\"},\"xaxis\":{\"showgrid\":false,\"showticklabels\":false,\"zeroline\":false},\"yaxis\":{\"showgrid\":false,\"showticklabels\":false,\"zeroline\":false}},                        {\"responsive\": true}                    ).then(function(){\n",
              "                            \n",
              "var gd = document.getElementById('c95bc2cc-72b8-488e-bf9a-17136a7ca665');\n",
              "var x = new MutationObserver(function (mutations, observer) {{\n",
              "        var display = window.getComputedStyle(gd).display;\n",
              "        if (!display || display === 'none') {{\n",
              "            console.log([gd, 'removed!']);\n",
              "            Plotly.purge(gd);\n",
              "            observer.disconnect();\n",
              "        }}\n",
              "}});\n",
              "\n",
              "// Listen for the removal of the full notebook cells\n",
              "var notebookContainer = gd.closest('#notebook-container');\n",
              "if (notebookContainer) {{\n",
              "    x.observe(notebookContainer, {childList: true});\n",
              "}}\n",
              "\n",
              "// Listen for the clearing of the current output cell\n",
              "var outputEl = gd.closest('.output');\n",
              "if (outputEl) {{\n",
              "    x.observe(outputEl, {childList: true});\n",
              "}}\n",
              "\n",
              "                        })                };                            </script>        </div>\n",
              "</body>\n",
              "</html>"
            ]
          },
          "metadata": {}
        }
      ]
    },
    {
      "cell_type": "markdown",
      "source": [
        "## Items bought after"
      ],
      "metadata": {
        "id": "JmoaYQPyG86p"
      }
    },
    {
      "cell_type": "markdown",
      "source": [
        "### Entire Data"
      ],
      "metadata": {
        "id": "on9XRlDHM2ox"
      }
    },
    {
      "cell_type": "code",
      "source": [
        "df = pd.read_csv('/content/drive/MyDrive/WALMART/CAPSTONE project/Data/Temp data/df_without_name_matching.csv')"
      ],
      "metadata": {
        "id": "bhAas_Jb_VQE"
      },
      "execution_count": null,
      "outputs": []
    },
    {
      "cell_type": "code",
      "source": [
        "basket_sample = pd.DataFrame(df[['product_name', '0after', '1after', '2after', '3after']])"
      ],
      "metadata": {
        "id": "IQwXDMMlM2oy"
      },
      "execution_count": null,
      "outputs": []
    },
    {
      "cell_type": "code",
      "source": [
        "basket_sample = basket_sample.replace('nan',np.nan, regex = True)"
      ],
      "metadata": {
        "id": "TrJ8oe1HM2oy"
      },
      "execution_count": null,
      "outputs": []
    },
    {
      "cell_type": "code",
      "source": [
        "basket_sample.shape"
      ],
      "metadata": {
        "colab": {
          "base_uri": "https://localhost:8080/"
        },
        "outputId": "48c1c4b9-b227-4cec-bd2c-4e52e8804022",
        "id": "O4_ykdeJM2oy"
      },
      "execution_count": null,
      "outputs": [
        {
          "output_type": "execute_result",
          "data": {
            "text/plain": [
              "(10000, 5)"
            ]
          },
          "metadata": {},
          "execution_count": 8
        }
      ]
    },
    {
      "cell_type": "code",
      "source": [
        "trans=[]\n",
        "for i in range(0,10000):\n",
        "    trans.append([str(basket_sample.values[i,j]) for j in range(0,5)])\n",
        "\n",
        "trans=np.array(trans)\n",
        "\n",
        "print(trans.shape)"
      ],
      "metadata": {
        "colab": {
          "base_uri": "https://localhost:8080/"
        },
        "outputId": "660a281e-c791-47be-bb50-6e9939971cae",
        "id": "XPXv18M1M2o1"
      },
      "execution_count": null,
      "outputs": [
        {
          "output_type": "stream",
          "name": "stdout",
          "text": [
            "(10000, 5)\n"
          ]
        }
      ]
    },
    {
      "cell_type": "code",
      "source": [
        "from mlxtend.preprocessing import TransactionEncoder\n",
        "t=TransactionEncoder()\n",
        "data=t.fit_transform(trans)\n",
        "data=pd.DataFrame(data,columns=t.columns_,dtype=int)\n",
        "\n",
        "data.shape"
      ],
      "metadata": {
        "colab": {
          "base_uri": "https://localhost:8080/"
        },
        "outputId": "1d794e86-603a-40f3-db40-383d61704e82",
        "id": "NK8R_2ccM2o1"
      },
      "execution_count": null,
      "outputs": [
        {
          "output_type": "execute_result",
          "data": {
            "text/plain": [
              "(10000, 23264)"
            ]
          },
          "metadata": {},
          "execution_count": 10
        }
      ]
    },
    {
      "cell_type": "code",
      "source": [
        "data.drop('nan',axis=1,inplace=True)"
      ],
      "metadata": {
        "id": "hsRWvK0SM2o1"
      },
      "execution_count": null,
      "outputs": []
    },
    {
      "cell_type": "code",
      "source": [
        "print(data.shape)\n",
        "\n",
        "'nan' in data.columns"
      ],
      "metadata": {
        "colab": {
          "base_uri": "https://localhost:8080/"
        },
        "outputId": "f47de930-96ec-4cf1-c056-ed9c0a54a715",
        "id": "BTXEr73kM2o1"
      },
      "execution_count": null,
      "outputs": [
        {
          "output_type": "stream",
          "name": "stdout",
          "text": [
            "(10000, 23263)\n"
          ]
        },
        {
          "output_type": "execute_result",
          "data": {
            "text/plain": [
              "False"
            ]
          },
          "metadata": {},
          "execution_count": 12
        }
      ]
    },
    {
      "cell_type": "code",
      "source": [],
      "metadata": {
        "id": "duRqvdY4M2o2"
      },
      "execution_count": null,
      "outputs": []
    },
    {
      "cell_type": "code",
      "source": [
        "##Lets consider the top 20 items purchased freequently\n",
        "r=data.sum(axis=0).sort_values(ascending=False)[:20]\n",
        "\n",
        "plt.figure(figsize=(20,10))\n",
        "s=sns.barplot(x=r.index,y=r.values)\n",
        "s.set_xticklabels(s.get_xticklabels(), rotation=90)"
      ],
      "metadata": {
        "colab": {
          "base_uri": "https://localhost:8080/",
          "height": 1000
        },
        "outputId": "60df3dd3-e9c8-41cd-8ff9-2f3bba279c10",
        "id": "3QdPdgdfM2o2"
      },
      "execution_count": null,
      "outputs": [
        {
          "output_type": "execute_result",
          "data": {
            "text/plain": [
              "[Text(0, 0, 'Ravensburger'),\n",
              " Text(0, 0, 'Amscan International'),\n",
              " Text(0, 0, 'Revell 39604 Contacta Professional'),\n",
              " Text(0, 0, 'Scalextric'),\n",
              " Text(0, 0, 'Transformers'),\n",
              " Text(0, 0, 'Dungeons Dragons Players Handbook Rulebooks'),\n",
              " Text(0, 0, 'Asmodee ASMDOBB01EN'),\n",
              " Text(0, 0, 'Cards Against Humanity UK edition'),\n",
              " Text(0, 0, 'Fiesta T 2343 Monkey Puppet'),\n",
              " Text(0, 0, 'Hornby R8222 Gauge Track Extension'),\n",
              " Text(0, 0, 'MyTinyWorld'),\n",
              " Text(0, 0, 'Hama Beads 10 000 Bucket'),\n",
              " Text(0, 0, 'Magic Gathering Origins Deck Builders'),\n",
              " Text(0, 0, 'Silver Hearts Holographic'),\n",
              " Text(0, 0, 'Inflatable'),\n",
              " Text(0, 0, 'Yu Gi Oh Games Yugis Legendary Holiday'),\n",
              " Text(0, 0, 'Trading Card Sleeves Protectors'),\n",
              " Text(0, 0, 'BRIO Rail Magnetic Bell Signal'),\n",
              " Text(0, 0, 'G%C3%BCnther 1159 Childrens Rainbow Colours'),\n",
              " Text(0, 0, 'Girls 10ml Glitter Tattoo Glue')]"
            ]
          },
          "metadata": {},
          "execution_count": 13
        },
        {
          "output_type": "display_data",
          "data": {
            "text/plain": [
              "<Figure size 1440x720 with 1 Axes>"
            ],
            "image/png": "[encoded data removed]"
          },
          "metadata": {
            "needs_background": "light"
          }
        }
      ]
    },
    {
      "cell_type": "code",
      "source": [
        "!pip install squarify"
      ],
      "metadata": {
        "colab": {
          "base_uri": "https://localhost:8080/"
        },
        "outputId": "3843a865-f6e6-497d-9ff3-90d9beec840d",
        "id": "B6-dXERCM2o2"
      },
      "execution_count": null,
      "outputs": [
        {
          "output_type": "stream",
          "name": "stdout",
          "text": [
            "Looking in indexes: https://pypi.org/simple, https://us-python.pkg.dev/colab-wheels/public/simple/\n",
            "Collecting squarify\n",
            "  Downloading squarify-0.4.3-py3-none-any.whl (4.3 kB)\n",
            "Installing collected packages: squarify\n",
            "Successfully installed squarify-0.4.3\n"
          ]
        }
      ]
    },
    {
      "cell_type": "code",
      "source": [
        "import matplotlib\n",
        "import squarify\n",
        "my_values=r.values\n",
        "cmap = matplotlib.cm.Blues\n",
        "mini=min(my_values)\n",
        "maxi=max(my_values)\n",
        "norm = matplotlib.colors.Normalize(vmin=mini, vmax=maxi)\n",
        "colors = [cmap(norm(value)) for value in my_values]\n",
        "\n",
        "\n",
        "#treemap of top 20 frequent items\n",
        "plt.figure(figsize=(20, 20))\n",
        "squarify.plot(sizes=r.values, label=r.index, alpha=.7,color=colors)\n",
        "plt.title(\"Tree map of top 20 items\")\n",
        "plt.axis('off')"
      ],
      "metadata": {
        "colab": {
          "base_uri": "https://localhost:8080/",
          "height": 1000
        },
        "outputId": "6a9fca0b-b3c9-4346-a982-01f55c2ce66f",
        "id": "s_KEyvVxM2o2"
      },
      "execution_count": null,
      "outputs": [
        {
          "output_type": "execute_result",
          "data": {
            "text/plain": [
              "(0.0, 100.0, 0.0, 100.0)"
            ]
          },
          "metadata": {},
          "execution_count": 15
        },
        {
          "output_type": "display_data",
          "data": {
            "text/plain": [
              "<Figure size 1440x1440 with 1 Axes>"
            ],
            "image/png": "[encoded data removed]"
          },
          "metadata": {
            "needs_background": "light"
          }
        }
      ]
    },
    {
      "cell_type": "code",
      "source": [
        "# !pip install mlxtend --upgrade"
      ],
      "metadata": {
        "id": "fIW3HGTpM2o2"
      },
      "execution_count": null,
      "outputs": []
    },
    {
      "cell_type": "code",
      "source": [
        "from mlxtend.frequent_patterns import apriori\n",
        "from mlxtend.frequent_patterns import association_rules"
      ],
      "metadata": {
        "id": "Wn8pTk8tM2o3"
      },
      "execution_count": null,
      "outputs": []
    },
    {
      "cell_type": "markdown",
      "source": [
        "**- Chose one of these two references(First or Second)**"
      ],
      "metadata": {
        "id": "niJrxkydM2o3"
      }
    },
    {
      "cell_type": "markdown",
      "source": [
        "#### First reference"
      ],
      "metadata": {
        "id": "s4Zpv07dM2o3"
      }
    },
    {
      "cell_type": "markdown",
      "source": [
        "'https://www.kaggle.com/code/sajidcse/market-basket-analysis#Apriori-Algorithm'"
      ],
      "metadata": {
        "id": "8Zmu1bSAM2o3"
      }
    },
    {
      "cell_type": "code",
      "source": [
        "# freq_items=apriori(data,min_support=0.001,use_colnames=True)"
      ],
      "metadata": {
        "id": "VygI5Py-M2o3"
      },
      "execution_count": null,
      "outputs": []
    },
    {
      "cell_type": "code",
      "source": [
        "# freq_items"
      ],
      "metadata": {
        "id": "buUs36L1M2o4"
      },
      "execution_count": null,
      "outputs": []
    },
    {
      "cell_type": "code",
      "source": [
        "# res=association_rules(freq_items,metric=\"lift\",min_threshold=1)"
      ],
      "metadata": {
        "id": "XOVYJcVuM2o4"
      },
      "execution_count": null,
      "outputs": []
    },
    {
      "cell_type": "code",
      "source": [
        "# res"
      ],
      "metadata": {
        "id": "83Nv9a3cM2o4"
      },
      "execution_count": null,
      "outputs": []
    },
    {
      "cell_type": "code",
      "source": [
        "# frequent_itemsets = apriori(data, min_support = 0.001, use_colnames=True)\n",
        "# frequent_itemsets['length'] = frequent_itemsets['itemsets'].apply(lambda x: len(x))\n",
        "# frequent_itemsets"
      ],
      "metadata": {
        "id": "3y6U6LiNM2o4"
      },
      "execution_count": null,
      "outputs": []
    },
    {
      "cell_type": "code",
      "source": [
        "# frequent_itemsets[ (frequent_itemsets['length'] == 2) &\n",
        "#                    (frequent_itemsets['support'] >= 0.001) ]"
      ],
      "metadata": {
        "id": "79vZVRagM2o4"
      },
      "execution_count": null,
      "outputs": []
    },
    {
      "cell_type": "code",
      "source": [
        "# import time\n",
        "# l=[0.01,0.02,0.03,0.04,0.05, 0.001]\n",
        "# t=[]\n",
        "# for i in l:\n",
        "#     t1=time.time()\n",
        "#     apriori(data,min_support=i,use_colnames=True)\n",
        "#     t2=time.time()\n",
        "#     t.append((t2-t1)*1000)"
      ],
      "metadata": {
        "id": "11G-dM1XM2o4"
      },
      "execution_count": null,
      "outputs": []
    },
    {
      "cell_type": "markdown",
      "source": [
        "#### Second reference"
      ],
      "metadata": {
        "id": "a-1cKgFNM2o4"
      }
    },
    {
      "cell_type": "markdown",
      "source": [
        "'https://www.kaggle.com/code/akashdeepkuila/market-basket-analysis'"
      ],
      "metadata": {
        "id": "hodxBzxmM2o4"
      }
    },
    {
      "cell_type": "code",
      "source": [
        "'''This cell will not work unless increase min_support to a number at least around 0.001'''\n",
        "\n",
        "frequentItems = apriori(data, min_support = 0.00004, use_colnames=True)\n",
        "frequentItems"
      ],
      "metadata": {
        "id": "jWVsGWhsM2o4"
      },
      "execution_count": null,
      "outputs": []
    },
    {
      "cell_type": "code",
      "source": [
        "rules = association_rules(frequentItems, metric=\"lift\")\n",
        "rules.antecedents = rules.antecedents.apply(lambda x: next(iter(x)))\n",
        "rules.consequents = rules.consequents.apply(lambda x: next(iter(x)))\n",
        "rules.head(10)"
      ],
      "metadata": {
        "colab": {
          "base_uri": "https://localhost:8080/",
          "height": 598
        },
        "outputId": "d80db39a-9467-4392-812f-cec6509561bc",
        "id": "TqmwxbiFM2o5"
      },
      "execution_count": null,
      "outputs": [
        {
          "output_type": "execute_result",
          "data": {
            "text/plain": [
              "                                   antecedents  \\\n",
              "0                                   Woodeyland   \n",
              "1         Crafted Cherry Wooden Chess Draughts   \n",
              "2   Dungeon Masters Dungeons Dragons Rulebooks   \n",
              "3  Dungeons Dragons Players Handbook Rulebooks   \n",
              "4  Dungeons Dragons Players Handbook Rulebooks   \n",
              "5          Dungeons Dragons Starter Boxed Game   \n",
              "6  Dungeons Dragons Players Handbook Rulebooks   \n",
              "7   Monster Manual Dungeons Rulebook Rulebooks   \n",
              "8                        Q Workshop Polyhedral   \n",
              "9  Dungeons Dragons Players Handbook Rulebooks   \n",
              "\n",
              "                                   consequents  antecedent support  \\\n",
              "0         Crafted Cherry Wooden Chess Draughts              0.0016   \n",
              "1                                   Woodeyland              0.0023   \n",
              "2  Dungeons Dragons Players Handbook Rulebooks              0.0015   \n",
              "3   Dungeon Masters Dungeons Dragons Rulebooks              0.0053   \n",
              "4          Dungeons Dragons Starter Boxed Game              0.0053   \n",
              "5  Dungeons Dragons Players Handbook Rulebooks              0.0012   \n",
              "6   Monster Manual Dungeons Rulebook Rulebooks              0.0053   \n",
              "7  Dungeons Dragons Players Handbook Rulebooks              0.0019   \n",
              "8  Dungeons Dragons Players Handbook Rulebooks              0.0018   \n",
              "9                        Q Workshop Polyhedral              0.0053   \n",
              "\n",
              "   consequent support  support  confidence        lift  leverage  conviction  \n",
              "0              0.0023   0.0013    0.812500  353.260870  0.001296    5.321067  \n",
              "1              0.0016   0.0013    0.565217  353.260870  0.001296    2.296320  \n",
              "2              0.0053   0.0015    1.000000  188.679245  0.001492         inf  \n",
              "3              0.0015   0.0015    0.283019  188.679245  0.001492    1.392645  \n",
              "4              0.0012   0.0010    0.188679  157.232704  0.000994    1.231079  \n",
              "5              0.0053   0.0010    0.833333  157.232704  0.000994    5.968200  \n",
              "6              0.0019   0.0016    0.301887  158.887786  0.001590    1.429711  \n",
              "7              0.0053   0.0016    0.842105  158.887786  0.001590    6.299767  \n",
              "8              0.0053   0.0013    0.722222  136.268344  0.001290    3.580920  \n",
              "9              0.0018   0.0013    0.245283  136.268344  0.001290    1.322615  "
            ],
            "text/html": [
              "\n",
              "  <div id=\"df-0f782a0d-f545-4eb2-ac4e-ae1acda77e88\">\n",
              "    <div class=\"colab-df-container\">\n",
              "      <div>\n",
              "<style scoped>\n",
              "    .dataframe tbody tr th:only-of-type {\n",
              "        vertical-align: middle;\n",
              "    }\n",
              "\n",
              "    .dataframe tbody tr th {\n",
              "        vertical-align: top;\n",
              "    }\n",
              "\n",
              "    .dataframe thead th {\n",
              "        text-align: right;\n",
              "    }\n",
              "</style>\n",
              "<table border=\"1\" class=\"dataframe\">\n",
              "  <thead>\n",
              "    <tr style=\"text-align: right;\">\n",
              "      <th></th>\n",
              "      <th>antecedents</th>\n",
              "      <th>consequents</th>\n",
              "      <th>antecedent support</th>\n",
              "      <th>consequent support</th>\n",
              "      <th>support</th>\n",
              "      <th>confidence</th>\n",
              "      <th>lift</th>\n",
              "      <th>leverage</th>\n",
              "      <th>conviction</th>\n",
              "    </tr>\n",
              "  </thead>\n",
              "  <tbody>\n",
              "    <tr>\n",
              "      <th>0</th>\n",
              "      <td>Woodeyland</td>\n",
              "      <td>Crafted Cherry Wooden Chess Draughts</td>\n",
              "      <td>0.0016</td>\n",
              "      <td>0.0023</td>\n",
              "      <td>0.0013</td>\n",
              "      <td>0.812500</td>\n",
              "      <td>353.260870</td>\n",
              "      <td>0.001296</td>\n",
              "      <td>5.321067</td>\n",
              "    </tr>\n",
              "    <tr>\n",
              "      <th>1</th>\n",
              "      <td>Crafted Cherry Wooden Chess Draughts</td>\n",
              "      <td>Woodeyland</td>\n",
              "      <td>0.0023</td>\n",
              "      <td>0.0016</td>\n",
              "      <td>0.0013</td>\n",
              "      <td>0.565217</td>\n",
              "      <td>353.260870</td>\n",
              "      <td>0.001296</td>\n",
              "      <td>2.296320</td>\n",
              "    </tr>\n",
              "    <tr>\n",
              "      <th>2</th>\n",
              "      <td>Dungeon Masters Dungeons Dragons Rulebooks</td>\n",
              "      <td>Dungeons Dragons Players Handbook Rulebooks</td>\n",
              "      <td>0.0015</td>\n",
              "      <td>0.0053</td>\n",
              "      <td>0.0015</td>\n",
              "      <td>1.000000</td>\n",
              "      <td>188.679245</td>\n",
              "      <td>0.001492</td>\n",
              "      <td>inf</td>\n",
              "    </tr>\n",
              "    <tr>\n",
              "      <th>3</th>\n",
              "      <td>Dungeons Dragons Players Handbook Rulebooks</td>\n",
              "      <td>Dungeon Masters Dungeons Dragons Rulebooks</td>\n",
              "      <td>0.0053</td>\n",
              "      <td>0.0015</td>\n",
              "      <td>0.0015</td>\n",
              "      <td>0.283019</td>\n",
              "      <td>188.679245</td>\n",
              "      <td>0.001492</td>\n",
              "      <td>1.392645</td>\n",
              "    </tr>\n",
              "    <tr>\n",
              "      <th>4</th>\n",
              "      <td>Dungeons Dragons Players Handbook Rulebooks</td>\n",
              "      <td>Dungeons Dragons Starter Boxed Game</td>\n",
              "      <td>0.0053</td>\n",
              "      <td>0.0012</td>\n",
              "      <td>0.0010</td>\n",
              "      <td>0.188679</td>\n",
              "      <td>157.232704</td>\n",
              "      <td>0.000994</td>\n",
              "      <td>1.231079</td>\n",
              "    </tr>\n",
              "    <tr>\n",
              "      <th>5</th>\n",
              "      <td>Dungeons Dragons Starter Boxed Game</td>\n",
              "      <td>Dungeons Dragons Players Handbook Rulebooks</td>\n",
              "      <td>0.0012</td>\n",
              "      <td>0.0053</td>\n",
              "      <td>0.0010</td>\n",
              "      <td>0.833333</td>\n",
              "      <td>157.232704</td>\n",
              "      <td>0.000994</td>\n",
              "      <td>5.968200</td>\n",
              "    </tr>\n",
              "    <tr>\n",
              "      <th>6</th>\n",
              "      <td>Dungeons Dragons Players Handbook Rulebooks</td>\n",
              "      <td>Monster Manual Dungeons Rulebook Rulebooks</td>\n",
              "      <td>0.0053</td>\n",
              "      <td>0.0019</td>\n",
              "      <td>0.0016</td>\n",
              "      <td>0.301887</td>\n",
              "      <td>158.887786</td>\n",
              "      <td>0.001590</td>\n",
              "      <td>1.429711</td>\n",
              "    </tr>\n",
              "    <tr>\n",
              "      <th>7</th>\n",
              "      <td>Monster Manual Dungeons Rulebook Rulebooks</td>\n",
              "      <td>Dungeons Dragons Players Handbook Rulebooks</td>\n",
              "      <td>0.0019</td>\n",
              "      <td>0.0053</td>\n",
              "      <td>0.0016</td>\n",
              "      <td>0.842105</td>\n",
              "      <td>158.887786</td>\n",
              "      <td>0.001590</td>\n",
              "      <td>6.299767</td>\n",
              "    </tr>\n",
              "    <tr>\n",
              "      <th>8</th>\n",
              "      <td>Q Workshop Polyhedral</td>\n",
              "      <td>Dungeons Dragons Players Handbook Rulebooks</td>\n",
              "      <td>0.0018</td>\n",
              "      <td>0.0053</td>\n",
              "      <td>0.0013</td>\n",
              "      <td>0.722222</td>\n",
              "      <td>136.268344</td>\n",
              "      <td>0.001290</td>\n",
              "      <td>3.580920</td>\n",
              "    </tr>\n",
              "    <tr>\n",
              "      <th>9</th>\n",
              "      <td>Dungeons Dragons Players Handbook Rulebooks</td>\n",
              "      <td>Q Workshop Polyhedral</td>\n",
              "      <td>0.0053</td>\n",
              "      <td>0.0018</td>\n",
              "      <td>0.0013</td>\n",
              "      <td>0.245283</td>\n",
              "      <td>136.268344</td>\n",
              "      <td>0.001290</td>\n",
              "      <td>1.322615</td>\n",
              "    </tr>\n",
              "  </tbody>\n",
              "</table>\n",
              "</div>\n",
              "      <button class=\"colab-df-convert\" onclick=\"convertToInteractive('df-0f782a0d-f545-4eb2-ac4e-ae1acda77e88')\"\n",
              "              title=\"Convert this dataframe to an interactive table.\"\n",
              "              style=\"display:none;\">\n",
              "        \n",
              "  <svg xmlns=\"http://www.w3.org/2000/svg\" height=\"24px\"viewBox=\"0 0 24 24\"\n",
              "       width=\"24px\">\n",
              "    <path d=\"M0 0h24v24H0V0z\" fill=\"none\"/>\n",
              "    <path d=\"M18.56 5.44l.94 2.06.94-2.06 2.06-.94-2.06-.94-.94-2.06-.94 2.06-2.06.94zm-11 1L8.5 8.5l.94-2.06 2.06-.94-2.06-.94L8.5 2.5l-.94 2.06-2.06.94zm10 10l.94 2.06.94-2.06 2.06-.94-2.06-.94-.94-2.06-.94 2.06-2.06.94z\"/><path d=\"M17.41 7.96l-1.37-1.37c-.4-.4-.92-.59-1.43-.59-.52 0-1.04.2-1.43.59L10.3 9.45l-7.72 7.72c-.78.78-.78 2.05 0 2.83L4 21.41c.39.39.9.59 1.41.59.51 0 1.02-.2 1.41-.59l7.78-7.78 2.81-2.81c.8-.78.8-2.07 0-2.86zM5.41 20L4 18.59l7.72-7.72 1.47 1.35L5.41 20z\"/>\n",
              "  </svg>\n",
              "      </button>\n",
              "      \n",
              "  <style>\n",
              "    .colab-df-container {\n",
              "      display:flex;\n",
              "      flex-wrap:wrap;\n",
              "      gap: 12px;\n",
              "    }\n",
              "\n",
              "    .colab-df-convert {\n",
              "      background-color: #E8F0FE;\n",
              "      border: none;\n",
              "      border-radius: 50%;\n",
              "      cursor: pointer;\n",
              "      display: none;\n",
              "      fill: #1967D2;\n",
              "      height: 32px;\n",
              "      padding: 0 0 0 0;\n",
              "      width: 32px;\n",
              "    }\n",
              "\n",
              "    .colab-df-convert:hover {\n",
              "      background-color: #E2EBFA;\n",
              "      box-shadow: 0px 1px 2px rgba(60, 64, 67, 0.3), 0px 1px 3px 1px rgba(60, 64, 67, 0.15);\n",
              "      fill: #174EA6;\n",
              "    }\n",
              "\n",
              "    [theme=dark] .colab-df-convert {\n",
              "      background-color: #3B4455;\n",
              "      fill: #D2E3FC;\n",
              "    }\n",
              "\n",
              "    [theme=dark] .colab-df-convert:hover {\n",
              "      background-color: #434B5C;\n",
              "      box-shadow: 0px 1px 3px 1px rgba(0, 0, 0, 0.15);\n",
              "      filter: drop-shadow(0px 1px 2px rgba(0, 0, 0, 0.3));\n",
              "      fill: #FFFFFF;\n",
              "    }\n",
              "  </style>\n",
              "\n",
              "      <script>\n",
              "        const buttonEl =\n",
              "          document.querySelector('#df-0f782a0d-f545-4eb2-ac4e-ae1acda77e88 button.colab-df-convert');\n",
              "        buttonEl.style.display =\n",
              "          google.colab.kernel.accessAllowed ? 'block' : 'none';\n",
              "\n",
              "        async function convertToInteractive(key) {\n",
              "          const element = document.querySelector('#df-0f782a0d-f545-4eb2-ac4e-ae1acda77e88');\n",
              "          const dataTable =\n",
              "            await google.colab.kernel.invokeFunction('convertToInteractive',\n",
              "                                                     [key], {});\n",
              "          if (!dataTable) return;\n",
              "\n",
              "          const docLinkHtml = 'Like what you see? Visit the ' +\n",
              "            '<a target=\"_blank\" href=https://colab.research.google.com/notebooks/data_table.ipynb>data table notebook</a>'\n",
              "            + ' to learn more about interactive tables.';\n",
              "          element.innerHTML = '';\n",
              "          dataTable['output_type'] = 'display_data';\n",
              "          await google.colab.output.renderOutput(dataTable, element);\n",
              "          const docLink = document.createElement('div');\n",
              "          docLink.innerHTML = docLinkHtml;\n",
              "          element.appendChild(docLink);\n",
              "        }\n",
              "      </script>\n",
              "    </div>\n",
              "  </div>\n",
              "  "
            ]
          },
          "metadata": {},
          "execution_count": 110
        }
      ]
    },
    {
      "cell_type": "code",
      "source": [
        "!pip install --upgrade scipy networkx "
      ],
      "metadata": {
        "colab": {
          "base_uri": "https://localhost:8080/"
        },
        "outputId": "ceb2831b-baaf-4430-ef8d-54816fec0a59",
        "id": "RjyfBFutM2o5"
      },
      "execution_count": null,
      "outputs": [
        {
          "output_type": "stream",
          "name": "stdout",
          "text": [
            "Looking in indexes: https://pypi.org/simple, https://us-python.pkg.dev/colab-wheels/public/simple/\n",
            "Requirement already satisfied: scipy in /usr/local/lib/python3.8/dist-packages (1.7.3)\n",
            "Collecting scipy\n",
            "  Downloading scipy-1.9.3-cp38-cp38-manylinux_2_17_x86_64.manylinux2014_x86_64.whl (33.8 MB)\n",
            "\u001b[K     |████████████████████████████████| 33.8 MB 210 kB/s \n",
            "\u001b[?25hRequirement already satisfied: networkx in /usr/local/lib/python3.8/dist-packages (2.6.3)\n",
            "Collecting networkx\n",
            "  Downloading networkx-2.8.8-py3-none-any.whl (2.0 MB)\n",
            "\u001b[K     |████████████████████████████████| 2.0 MB 67.5 MB/s \n",
            "\u001b[?25hRequirement already satisfied: numpy<1.26.0,>=1.18.5 in /usr/local/lib/python3.8/dist-packages (from scipy) (1.21.6)\n",
            "Installing collected packages: scipy, networkx\n",
            "  Attempting uninstall: scipy\n",
            "    Found existing installation: scipy 1.7.3\n",
            "    Uninstalling scipy-1.7.3:\n",
            "      Successfully uninstalled scipy-1.7.3\n",
            "  Attempting uninstall: networkx\n",
            "    Found existing installation: networkx 2.6.3\n",
            "    Uninstalling networkx-2.6.3:\n",
            "      Successfully uninstalled networkx-2.6.3\n",
            "Successfully installed networkx-2.8.8 scipy-1.9.3\n"
          ]
        }
      ]
    },
    {
      "cell_type": "code",
      "source": [
        "!pip install 'networkx<2.7'"
      ],
      "metadata": {
        "colab": {
          "base_uri": "https://localhost:8080/"
        },
        "outputId": "4b62aac6-c9ae-4242-9e9c-64a12038dc9b",
        "id": "IFCX6KEpM2o5"
      },
      "execution_count": null,
      "outputs": [
        {
          "output_type": "stream",
          "name": "stdout",
          "text": [
            "Looking in indexes: https://pypi.org/simple, https://us-python.pkg.dev/colab-wheels/public/simple/\n",
            "Collecting networkx<2.7\n",
            "  Downloading networkx-2.6.3-py3-none-any.whl (1.9 MB)\n",
            "\u001b[K     |████████████████████████████████| 1.9 MB 15.2 MB/s \n",
            "\u001b[?25hInstalling collected packages: networkx\n",
            "  Attempting uninstall: networkx\n",
            "    Found existing installation: networkx 2.8.8\n",
            "    Uninstalling networkx-2.8.8:\n",
            "      Successfully uninstalled networkx-2.8.8\n",
            "Successfully installed networkx-2.6.3\n"
          ]
        }
      ]
    },
    {
      "cell_type": "code",
      "source": [
        "'''This graph is generated with min_support around 0.001'''\n",
        "\n",
        "import networkx as nx\n",
        "import plotly.express as px\n",
        "import plotly.graph_objects as go\n",
        "import plotly.figure_factory as ff\n",
        "from plotly.offline import download_plotlyjs, init_notebook_mode, iplot\n",
        "network_A = list(rules[\"antecedents\"].unique())\n",
        "network_B = list(rules[\"consequents\"].unique())\n",
        "node_list = list(set(network_A + network_B))\n",
        "G = nx.Graph()\n",
        "for i in node_list:\n",
        "    G.add_node(i)\n",
        "for i,j in rules.iterrows():\n",
        "    G.add_edges_from([(j[\"antecedents\"], j[\"consequents\"])])\n",
        "pos = nx.spring_layout(G, k=0.5, dim=2, iterations=400)\n",
        "for n, p in pos.items():\n",
        "    G.nodes[n]['pos'] = p\n",
        "\n",
        "edge_trace = go.Scatter(x=[], y=[], line=dict(width=0.5, color='#888'), hoverinfo='none', mode='lines')\n",
        "\n",
        "for edge in G.edges():\n",
        "    x0, y0 = G.nodes[edge[0]]['pos']\n",
        "    x1, y1 = G.nodes[edge[1]]['pos']\n",
        "    edge_trace['x'] += tuple([x0, x1, None])\n",
        "    edge_trace['y'] += tuple([y0, y1, None])\n",
        "\n",
        "node_trace = go.Scatter(x=[], y=[], text=[], mode='markers', hoverinfo='text',\n",
        "    marker=dict(showscale=True, colorscale='Burg', reversescale=True, color=[], size=15,\n",
        "    colorbar=dict(thickness=10, title='Node Connections', xanchor='left', titleside='right')))\n",
        "\n",
        "for node in G.nodes():\n",
        "    x, y = G.nodes[node]['pos']\n",
        "    node_trace['x'] += tuple([x])\n",
        "    node_trace['y'] += tuple([y])\n",
        "\n",
        "for node, adjacencies in enumerate(G.adjacency()):\n",
        "    node_trace['marker']['color']+=tuple([len(adjacencies[1])])\n",
        "    node_info = str(adjacencies[0]) +'<br>No of Connections: {}'.format(str(len(adjacencies[1])))\n",
        "    node_trace['text']+=tuple([node_info])\n",
        "\n",
        "fig = go.Figure(data=[edge_trace, node_trace], \n",
        "    layout=go.Layout(title='Item Connections Network', titlefont=dict(size=20),\n",
        "    plot_bgcolor='white', showlegend=False, margin=dict(b=0,l=0,r=0,t=50),\n",
        "    xaxis=dict(showgrid=False, zeroline=False, showticklabels=False),\n",
        "    yaxis=dict(showgrid=False, zeroline=False, showticklabels=False)))\n",
        "\n",
        "iplot(fig)"
      ],
      "metadata": {
        "colab": {
          "base_uri": "https://localhost:8080/",
          "height": 542
        },
        "outputId": "1ea5a369-4a4a-4496-e70b-d95fb27cd206",
        "id": "xZ2iQe86M2o5"
      },
      "execution_count": null,
      "outputs": [
        {
          "output_type": "display_data",
          "data": {
            "text/html": [
              "<html>\n",
              "<head><meta charset=\"utf-8\" /></head>\n",
              "<body>\n",
              "    <div>            <script src=\"https://cdnjs.cloudflare.com/ajax/libs/mathjax/2.7.5/MathJax.js?config=TeX-AMS-MML_SVG\"></script><script type=\"text/javascript\">if (window.MathJax) {MathJax.Hub.Config({SVG: {font: \"STIX-Web\"}});}</script>                <script type=\"text/javascript\">window.PlotlyConfig = {MathJaxConfig: 'local'};</script>\n",
              "        <script src=\"https://cdn.plot.ly/plotly-2.8.3.min.js\"></script>                <div id=\"0c7b325b-bd69-4917-893d-20dee6d44efe\" class=\"plotly-graph-div\" style=\"height:525px; width:100%;\"></div>            <script type=\"text/javascript\">                                    window.PLOTLYENV=window.PLOTLYENV || {};                                    if (document.getElementById(\"0c7b325b-bd69-4917-893d-20dee6d44efe\")) {                    Plotly.newPlot(                        \"0c7b325b-bd69-4917-893d-20dee6d44efe\",                        [{\"hoverinfo\":\"none\",\"line\":{\"color\":\"#888\",\"width\":0.5},\"mode\":\"lines\",\"x\":[0.15025736996641506,0.12799705588049717,null,-0.6788517436035499,-0.6870001944495058,null,0.5873198284792412,0.6117701884974694,null,-0.6669077696489569,-0.6634136636667275,null,0.9999999999999999,0.9843968549305482,null,-0.7003421857949512,-0.6634136636667275,null,0.7818283222017274,0.761891401193605,null,-0.6842610630816003,-0.6634136636667275,null,0.15978229951864706,0.18532068767895649,null,-0.6399281322441563,-0.6634136636667275,null,-0.6298592558576596,-0.6634136636667275,null],\"y\":[0.9346544833506283,0.9477296065656271,null,-0.7542349978187056,-0.7297376030644999,null,-0.630579393874923,-0.6387696473152742,null,0.2673626472141389,0.3044000076700977,null,-0.10872745768469501,-0.08816201751863943,null,0.2965379174754405,0.3044000076700977,null,0.6133453155835267,0.5967679232489738,null,0.3359671171833189,0.3044000076700977,null,-0.9871787535273876,-0.9834254510504227,null,0.3332689896233032,0.3044000076700977,null,0.2907813139394926,0.3044000076700977,null],\"type\":\"scatter\"},{\"hoverinfo\":\"text\",\"marker\":{\"color\":[1,1,1,1,1,1,1,1,1,1,1,1,1,1,1,1,1,5],\"colorbar\":{\"thickness\":10,\"title\":{\"side\":\"right\",\"text\":\"Node Connections\"},\"xanchor\":\"left\"},\"colorscale\":[[0.0,\"rgb(255, 198, 196)\"],[0.16666666666666666,\"rgb(244, 163, 168)\"],[0.3333333333333333,\"rgb(227, 129, 145)\"],[0.5,\"rgb(204, 96, 125)\"],[0.6666666666666666,\"rgb(173, 70, 108)\"],[0.8333333333333334,\"rgb(139, 48, 88)\"],[1.0,\"rgb(103, 32, 68)\"]],\"reversescale\":true,\"showscale\":true,\"size\":15},\"mode\":\"markers\",\"text\":[\"Glitz Pink Latex Birthday Balloons<br>No of Connections: 1\",\"Hornby R8222 Gauge Track Extension<br>No of Connections: 1\",\"Hornby R8223 Gauge Track Extension<br>No of Connections: 1\",\"Crafted Cherry Wooden Chess Draughts<br>No of Connections: 1\",\"Q Workshop QWOELV01 Q workshop Elven Bag<br>No of Connections: 1\",\"Loom Bandz Rainbow Colours Black<br>No of Connections: 1\",\"Perfectly Pink Party Birthday Bunting<br>No of Connections: 1\",\"Loom Bandz Rainbow Colours White<br>No of Connections: 1\",\"Q Workshop Polyhedral<br>No of Connections: 1\",\"Yu Gi Oh Space Time Showdown Starter Deck<br>No of Connections: 1\",\"Monster Manual Dungeons Rulebook Rulebooks<br>No of Connections: 1\",\"G%C3%BCnther 1159 Childrens Rainbow Colours<br>No of Connections: 1\",\"Woodeyland<br>No of Connections: 1\",\"Yu Gi Oh Super Starter Victory Card<br>No of Connections: 1\",\"Dungeons Dragons Starter Boxed Game<br>No of Connections: 1\",\"Spirit of Air Super Rainbow<br>No of Connections: 1\",\"Dungeon Masters Dungeons Dragons Rulebooks<br>No of Connections: 1\",\"Dungeons Dragons Players Handbook Rulebooks<br>No of Connections: 5\"],\"x\":[0.15025736996641506,-0.6788517436035499,-0.6870001944495058,0.5873198284792412,-0.6669077696489569,0.9999999999999999,0.12799705588049717,0.9843968549305482,-0.7003421857949512,0.7818283222017274,-0.6842610630816003,0.15978229951864706,0.6117701884974694,0.761891401193605,-0.6399281322441563,0.18532068767895649,-0.6298592558576596,-0.6634136636667275],\"y\":[0.9346544833506283,-0.7542349978187056,-0.7297376030644999,-0.630579393874923,0.2673626472141389,-0.10872745768469501,0.9477296065656271,-0.08816201751863943,0.2965379174754405,0.6133453155835267,0.3359671171833189,-0.9871787535273876,-0.6387696473152742,0.5967679232489738,0.3332689896233032,-0.9834254510504227,0.2907813139394926,0.3044000076700977],\"type\":\"scatter\"}],                        {\"margin\":{\"b\":0,\"l\":0,\"r\":0,\"t\":50},\"plot_bgcolor\":\"white\",\"showlegend\":false,\"template\":{\"data\":{\"barpolar\":[{\"marker\":{\"line\":{\"color\":\"#E5ECF6\",\"width\":0.5},\"pattern\":{\"fillmode\":\"overlay\",\"size\":10,\"solidity\":0.2}},\"type\":\"barpolar\"}],\"bar\":[{\"error_x\":{\"color\":\"#2a3f5f\"},\"error_y\":{\"color\":\"#2a3f5f\"},\"marker\":{\"line\":{\"color\":\"#E5ECF6\",\"width\":0.5},\"pattern\":{\"fillmode\":\"overlay\",\"size\":10,\"solidity\":0.2}},\"type\":\"bar\"}],\"carpet\":[{\"aaxis\":{\"endlinecolor\":\"#2a3f5f\",\"gridcolor\":\"white\",\"linecolor\":\"white\",\"minorgridcolor\":\"white\",\"startlinecolor\":\"#2a3f5f\"},\"baxis\":{\"endlinecolor\":\"#2a3f5f\",\"gridcolor\":\"white\",\"linecolor\":\"white\",\"minorgridcolor\":\"white\",\"startlinecolor\":\"#2a3f5f\"},\"type\":\"carpet\"}],\"choropleth\":[{\"colorbar\":{\"outlinewidth\":0,\"ticks\":\"\"},\"type\":\"choropleth\"}],\"contourcarpet\":[{\"colorbar\":{\"outlinewidth\":0,\"ticks\":\"\"},\"type\":\"contourcarpet\"}],\"contour\":[{\"colorbar\":{\"outlinewidth\":0,\"ticks\":\"\"},\"colorscale\":[[0.0,\"#0d0887\"],[0.1111111111111111,\"#46039f\"],[0.2222222222222222,\"#7201a8\"],[0.3333333333333333,\"#9c179e\"],[0.4444444444444444,\"#bd3786\"],[0.5555555555555556,\"#d8576b\"],[0.6666666666666666,\"#ed7953\"],[0.7777777777777778,\"#fb9f3a\"],[0.8888888888888888,\"#fdca26\"],[1.0,\"#f0f921\"]],\"type\":\"contour\"}],\"heatmapgl\":[{\"colorbar\":{\"outlinewidth\":0,\"ticks\":\"\"},\"colorscale\":[[0.0,\"#0d0887\"],[0.1111111111111111,\"#46039f\"],[0.2222222222222222,\"#7201a8\"],[0.3333333333333333,\"#9c179e\"],[0.4444444444444444,\"#bd3786\"],[0.5555555555555556,\"#d8576b\"],[0.6666666666666666,\"#ed7953\"],[0.7777777777777778,\"#fb9f3a\"],[0.8888888888888888,\"#fdca26\"],[1.0,\"#f0f921\"]],\"type\":\"heatmapgl\"}],\"heatmap\":[{\"colorbar\":{\"outlinewidth\":0,\"ticks\":\"\"},\"colorscale\":[[0.0,\"#0d0887\"],[0.1111111111111111,\"#46039f\"],[0.2222222222222222,\"#7201a8\"],[0.3333333333333333,\"#9c179e\"],[0.4444444444444444,\"#bd3786\"],[0.5555555555555556,\"#d8576b\"],[0.6666666666666666,\"#ed7953\"],[0.7777777777777778,\"#fb9f3a\"],[0.8888888888888888,\"#fdca26\"],[1.0,\"#f0f921\"]],\"type\":\"heatmap\"}],\"histogram2dcontour\":[{\"colorbar\":{\"outlinewidth\":0,\"ticks\":\"\"},\"colorscale\":[[0.0,\"#0d0887\"],[0.1111111111111111,\"#46039f\"],[0.2222222222222222,\"#7201a8\"],[0.3333333333333333,\"#9c179e\"],[0.4444444444444444,\"#bd3786\"],[0.5555555555555556,\"#d8576b\"],[0.6666666666666666,\"#ed7953\"],[0.7777777777777778,\"#fb9f3a\"],[0.8888888888888888,\"#fdca26\"],[1.0,\"#f0f921\"]],\"type\":\"histogram2dcontour\"}],\"histogram2d\":[{\"colorbar\":{\"outlinewidth\":0,\"ticks\":\"\"},\"colorscale\":[[0.0,\"#0d0887\"],[0.1111111111111111,\"#46039f\"],[0.2222222222222222,\"#7201a8\"],[0.3333333333333333,\"#9c179e\"],[0.4444444444444444,\"#bd3786\"],[0.5555555555555556,\"#d8576b\"],[0.6666666666666666,\"#ed7953\"],[0.7777777777777778,\"#fb9f3a\"],[0.8888888888888888,\"#fdca26\"],[1.0,\"#f0f921\"]],\"type\":\"histogram2d\"}],\"histogram\":[{\"marker\":{\"pattern\":{\"fillmode\":\"overlay\",\"size\":10,\"solidity\":0.2}},\"type\":\"histogram\"}],\"mesh3d\":[{\"colorbar\":{\"outlinewidth\":0,\"ticks\":\"\"},\"type\":\"mesh3d\"}],\"parcoords\":[{\"line\":{\"colorbar\":{\"outlinewidth\":0,\"ticks\":\"\"}},\"type\":\"parcoords\"}],\"pie\":[{\"automargin\":true,\"type\":\"pie\"}],\"scatter3d\":[{\"line\":{\"colorbar\":{\"outlinewidth\":0,\"ticks\":\"\"}},\"marker\":{\"colorbar\":{\"outlinewidth\":0,\"ticks\":\"\"}},\"type\":\"scatter3d\"}],\"scattercarpet\":[{\"marker\":{\"colorbar\":{\"outlinewidth\":0,\"ticks\":\"\"}},\"type\":\"scattercarpet\"}],\"scattergeo\":[{\"marker\":{\"colorbar\":{\"outlinewidth\":0,\"ticks\":\"\"}},\"type\":\"scattergeo\"}],\"scattergl\":[{\"marker\":{\"colorbar\":{\"outlinewidth\":0,\"ticks\":\"\"}},\"type\":\"scattergl\"}],\"scattermapbox\":[{\"marker\":{\"colorbar\":{\"outlinewidth\":0,\"ticks\":\"\"}},\"type\":\"scattermapbox\"}],\"scatterpolargl\":[{\"marker\":{\"colorbar\":{\"outlinewidth\":0,\"ticks\":\"\"}},\"type\":\"scatterpolargl\"}],\"scatterpolar\":[{\"marker\":{\"colorbar\":{\"outlinewidth\":0,\"ticks\":\"\"}},\"type\":\"scatterpolar\"}],\"scatter\":[{\"marker\":{\"colorbar\":{\"outlinewidth\":0,\"ticks\":\"\"}},\"type\":\"scatter\"}],\"scatterternary\":[{\"marker\":{\"colorbar\":{\"outlinewidth\":0,\"ticks\":\"\"}},\"type\":\"scatterternary\"}],\"surface\":[{\"colorbar\":{\"outlinewidth\":0,\"ticks\":\"\"},\"colorscale\":[[0.0,\"#0d0887\"],[0.1111111111111111,\"#46039f\"],[0.2222222222222222,\"#7201a8\"],[0.3333333333333333,\"#9c179e\"],[0.4444444444444444,\"#bd3786\"],[0.5555555555555556,\"#d8576b\"],[0.6666666666666666,\"#ed7953\"],[0.7777777777777778,\"#fb9f3a\"],[0.8888888888888888,\"#fdca26\"],[1.0,\"#f0f921\"]],\"type\":\"surface\"}],\"table\":[{\"cells\":{\"fill\":{\"color\":\"#EBF0F8\"},\"line\":{\"color\":\"white\"}},\"header\":{\"fill\":{\"color\":\"#C8D4E3\"},\"line\":{\"color\":\"white\"}},\"type\":\"table\"}]},\"layout\":{\"annotationdefaults\":{\"arrowcolor\":\"#2a3f5f\",\"arrowhead\":0,\"arrowwidth\":1},\"autotypenumbers\":\"strict\",\"coloraxis\":{\"colorbar\":{\"outlinewidth\":0,\"ticks\":\"\"}},\"colorscale\":{\"diverging\":[[0,\"#8e0152\"],[0.1,\"#c51b7d\"],[0.2,\"#de77ae\"],[0.3,\"#f1b6da\"],[0.4,\"#fde0ef\"],[0.5,\"#f7f7f7\"],[0.6,\"#e6f5d0\"],[0.7,\"#b8e186\"],[0.8,\"#7fbc41\"],[0.9,\"#4d9221\"],[1,\"#276419\"]],\"sequential\":[[0.0,\"#0d0887\"],[0.1111111111111111,\"#46039f\"],[0.2222222222222222,\"#7201a8\"],[0.3333333333333333,\"#9c179e\"],[0.4444444444444444,\"#bd3786\"],[0.5555555555555556,\"#d8576b\"],[0.6666666666666666,\"#ed7953\"],[0.7777777777777778,\"#fb9f3a\"],[0.8888888888888888,\"#fdca26\"],[1.0,\"#f0f921\"]],\"sequentialminus\":[[0.0,\"#0d0887\"],[0.1111111111111111,\"#46039f\"],[0.2222222222222222,\"#7201a8\"],[0.3333333333333333,\"#9c179e\"],[0.4444444444444444,\"#bd3786\"],[0.5555555555555556,\"#d8576b\"],[0.6666666666666666,\"#ed7953\"],[0.7777777777777778,\"#fb9f3a\"],[0.8888888888888888,\"#fdca26\"],[1.0,\"#f0f921\"]]},\"colorway\":[\"#636efa\",\"#EF553B\",\"#00cc96\",\"#ab63fa\",\"#FFA15A\",\"#19d3f3\",\"#FF6692\",\"#B6E880\",\"#FF97FF\",\"#FECB52\"],\"font\":{\"color\":\"#2a3f5f\"},\"geo\":{\"bgcolor\":\"white\",\"lakecolor\":\"white\",\"landcolor\":\"#E5ECF6\",\"showlakes\":true,\"showland\":true,\"subunitcolor\":\"white\"},\"hoverlabel\":{\"align\":\"left\"},\"hovermode\":\"closest\",\"mapbox\":{\"style\":\"light\"},\"paper_bgcolor\":\"white\",\"plot_bgcolor\":\"#E5ECF6\",\"polar\":{\"angularaxis\":{\"gridcolor\":\"white\",\"linecolor\":\"white\",\"ticks\":\"\"},\"bgcolor\":\"#E5ECF6\",\"radialaxis\":{\"gridcolor\":\"white\",\"linecolor\":\"white\",\"ticks\":\"\"}},\"scene\":{\"xaxis\":{\"backgroundcolor\":\"#E5ECF6\",\"gridcolor\":\"white\",\"gridwidth\":2,\"linecolor\":\"white\",\"showbackground\":true,\"ticks\":\"\",\"zerolinecolor\":\"white\"},\"yaxis\":{\"backgroundcolor\":\"#E5ECF6\",\"gridcolor\":\"white\",\"gridwidth\":2,\"linecolor\":\"white\",\"showbackground\":true,\"ticks\":\"\",\"zerolinecolor\":\"white\"},\"zaxis\":{\"backgroundcolor\":\"#E5ECF6\",\"gridcolor\":\"white\",\"gridwidth\":2,\"linecolor\":\"white\",\"showbackground\":true,\"ticks\":\"\",\"zerolinecolor\":\"white\"}},\"shapedefaults\":{\"line\":{\"color\":\"#2a3f5f\"}},\"ternary\":{\"aaxis\":{\"gridcolor\":\"white\",\"linecolor\":\"white\",\"ticks\":\"\"},\"baxis\":{\"gridcolor\":\"white\",\"linecolor\":\"white\",\"ticks\":\"\"},\"bgcolor\":\"#E5ECF6\",\"caxis\":{\"gridcolor\":\"white\",\"linecolor\":\"white\",\"ticks\":\"\"}},\"title\":{\"x\":0.05},\"xaxis\":{\"automargin\":true,\"gridcolor\":\"white\",\"linecolor\":\"white\",\"ticks\":\"\",\"title\":{\"standoff\":15},\"zerolinecolor\":\"white\",\"zerolinewidth\":2},\"yaxis\":{\"automargin\":true,\"gridcolor\":\"white\",\"linecolor\":\"white\",\"ticks\":\"\",\"title\":{\"standoff\":15},\"zerolinecolor\":\"white\",\"zerolinewidth\":2}}},\"title\":{\"font\":{\"size\":20},\"text\":\"Item Connections Network\"},\"xaxis\":{\"showgrid\":false,\"showticklabels\":false,\"zeroline\":false},\"yaxis\":{\"showgrid\":false,\"showticklabels\":false,\"zeroline\":false}},                        {\"responsive\": true}                    ).then(function(){\n",
              "                            \n",
              "var gd = document.getElementById('0c7b325b-bd69-4917-893d-20dee6d44efe');\n",
              "var x = new MutationObserver(function (mutations, observer) {{\n",
              "        var display = window.getComputedStyle(gd).display;\n",
              "        if (!display || display === 'none') {{\n",
              "            console.log([gd, 'removed!']);\n",
              "            Plotly.purge(gd);\n",
              "            observer.disconnect();\n",
              "        }}\n",
              "}});\n",
              "\n",
              "// Listen for the removal of the full notebook cells\n",
              "var notebookContainer = gd.closest('#notebook-container');\n",
              "if (notebookContainer) {{\n",
              "    x.observe(notebookContainer, {childList: true});\n",
              "}}\n",
              "\n",
              "// Listen for the clearing of the current output cell\n",
              "var outputEl = gd.closest('.output');\n",
              "if (outputEl) {{\n",
              "    x.observe(outputEl, {childList: true});\n",
              "}}\n",
              "\n",
              "                        })                };                            </script>        </div>\n",
              "</body>\n",
              "</html>"
            ]
          },
          "metadata": {}
        }
      ]
    },
    {
      "cell_type": "markdown",
      "source": [
        "# From here, it's just for testing"
      ],
      "metadata": {
        "id": "KpOwQz_nrwOe"
      }
    },
    {
      "cell_type": "code",
      "source": [],
      "metadata": {
        "id": "bkuqc2FVmM0K"
      },
      "execution_count": null,
      "outputs": []
    }
  ]
}